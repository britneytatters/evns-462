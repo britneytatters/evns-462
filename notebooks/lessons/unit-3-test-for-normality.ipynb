{
 "cells": [
  {
   "cell_type": "markdown",
   "metadata": {
    "_cell_guid": "cf40190e-4ebf-4a2e-8e5b-1d30164f9c74",
    "_uuid": "e73e536b1c5b44bfe0015cfdb2e4d031d6d4cbeb"
   },
   "source": [
    "## Overview\n",
    "In the next unit you will learn that many statistical tests are based on the so-called assumption of normality. This means that the population from which a sample is drawn is assumed to be normal. As we already saw, when a statistical test is performed on a sample statistic such as the sample mean, the central limit theorem guarentees that the distribution of sample means is normal if the sample size is sufficiently large. Since many statistical tests are performed on the distribution of sample means, this would suggest the assumpiton of a normally distriubted population is overly conservative if the sample size is sufficiently large. So, why does it even matter if the population is normally distributed if the test is not performed on the population but a statistic (usually mean) calculated from a sample? One answer to this question is that it probably (usually) doesn't matter much if the sample size is sufficiently large but many scientists don't care; they want things done according to convention and best practices, whatever that means. We like to be draconian with our rules even when those rules are somewhat arbitrary (p-value of 0.05 instead of say 0.06 or 0.047777). Another answer to this question is that we often estimate two things from a sample, the sample mean and the standard deviation of this mean (standard error). It turns out that these two estimates are only independent if the population from which the sample is drawn from is normally distributed. So, if we wish to estimate confidence intervals or perform t-tests and estimate p-values for a sample mean we need to assume the population is normally distributed. Along these same lines, it turns out that some tests between two independent samples assume the variance of the populations from which these two samples were drawn are equal. After this notebook you will know:\n",
    "* how to use a sample to estimate if the population from which it is drawn from is normally distributed.\n",
    "* how to test is two samples came from populations with equal varience."
   ]
  },
  {
   "cell_type": "code",
   "execution_count": 1,
   "metadata": {
    "_cell_guid": "25dc6e9f-b95d-4b28-8cec-1d942d97143f",
    "_uuid": "099c83ee31e713c1abfdf52cd747ee731a951747",
    "collapsed": true
   },
   "outputs": [],
   "source": [
    "# Python uses packages to simplify data manipulation and analysis. Three of the most important packages\n",
    "# are called Numpy, Pandas, and Matplotlib\n",
    "import numpy as np # linear algebra and data processing\n",
    "import pandas as pd # data processing and file I/O (e.g. pd.read_csv)\n",
    "import matplotlib.pyplot as plt # for ploting data\n",
    "import seaborn as sns # makes even nicer plots (might use, don't know)"
   ]
  },
  {
   "cell_type": "markdown",
   "metadata": {
    "_cell_guid": "b3296b0c-eb2f-4886-b54b-4a8cd12dbdd7",
    "_uuid": "c070713f2c711df50418f4137e60055b12dab7ab"
   },
   "source": [
    "The following cell will import the cereal data set using pandas. The data is linked to above and is formated as a CSV (comma-separated-values) file. Such a file could be opend in Excel but here we simply load the file into a pandas data structure called a dataframe and print out the first couple rows of the dataframe."
   ]
  },
  {
   "cell_type": "code",
   "execution_count": 23,
   "metadata": {
    "_cell_guid": "bf24efc1-e20f-4817-bd72-52ebe0ca96a0",
    "_uuid": "eb3e15689e95e9c1118ec39a48b2497af59e3b23"
   },
   "outputs": [
    {
     "name": "stdout",
     "output_type": "stream",
     "text": [
      "                        name mfr type  calories  protein  fat  sodium  fiber  \\\n",
      "0                  100% Bran   N    C        70        4    1     130   10.0   \n",
      "1          100% Natural Bran   Q    C       120        3    5      15    2.0   \n",
      "2                   All-Bran   K    C        70        4    1     260    9.0   \n",
      "3  All-Bran with Extra Fiber   K    C        50        4    0     140   14.0   \n",
      "4             Almond Delight   R    C       110        2    2     200    1.0   \n",
      "\n",
      "   carbo  sugars  potass  vitamins  shelf  weight  cups     rating  \n",
      "0    5.0       6     280        25      3     1.0  0.33  68.402973  \n",
      "1    8.0       8     135         0      3     1.0  1.00  33.983679  \n",
      "2    7.0       5     320        25      3     1.0  0.33  59.425505  \n",
      "3    8.0       0     330        25      3     1.0  0.50  93.704912  \n",
      "4   14.0       8      -1        25      3     1.0  0.75  34.384843  \n"
     ]
    }
   ],
   "source": [
    "url = \"https://raw.githubusercontent.com/prof-groff/evns462/master/data/cereal.csv\"\n",
    "cereal = pd.read_csv(url)\n",
    "print(cereal.head())"
   ]
  },
  {
   "cell_type": "markdown",
   "metadata": {
    "_cell_guid": "6947b130-e149-44f0-bb45-f36a88787ce0",
    "_uuid": "3f5284503c71ef3b19997b3f9a30d20b82ca657f"
   },
   "source": [
    "## Test for Normality\n",
    "There are several popularly used tests for normality, each with strengths and weaknesses. Perhaps the most widely used test is called Shapiro-Wilk. Another is called the Kolmogorov–Smirnov (K-S) Test. A third is called the Anderson-Darling Test\n",
    "* **Shapiro-Wilk:** Probably the best all around test for normality. It can be perfomed in python using the `scipy.stats.shapiro()` function.\n",
    "* **Kolmogorov–Smirnov:** The K-S test compares a sample to a continuous known distribution with specified mean and standard deviation. Computational research shows that the K-S test is less powerful then Shapiro-Wilk and Anderson-Darling. The K-S test can be performed in python using the `scipy.stats.kstest()` function.\n",
    "* **Anderson-Darling:** This test is usually better than the K-S test but not as good as the Shapiro-Wilk test. It can be performed in python using the `scipy.stats.anderson()` function.\n",
    "\n",
    "Note that all of these statistical tests for normality assumes the null hypothesis that the distrubution the sample was drawn from was normal. So, if the p-value is less than 0.05 we reject the null and accept the alternative hypothesis that the sample was NOT drawn from a normal distribution. So, we are 'hoping' for a p-value greater than 0.05 if we want to use a so-called parametric test. Let's compare the results of these three tests on the cereal sodium data."
   ]
  },
  {
   "cell_type": "code",
   "execution_count": 45,
   "metadata": {
    "_cell_guid": "d4bb2a08-fe1d-4653-8d24-019911dcd7bb",
    "_uuid": "025faf9721bde2a423a7dc279bd435b74233f47f"
   },
   "outputs": [
    {
     "data": {
      "image/png": "[encoded data removed]",
      "text/plain": [
       "<matplotlib.figure.Figure at 0x7f1fa5ddb9e8>"
      ]
     },
     "metadata": {},
     "output_type": "display_data"
    },
    {
     "name": "stdout",
     "output_type": "stream",
     "text": [
      "Shapiro-Wilk:\n",
      "statistic:  0.9771600961685181 , p-value:  0.2455652505159378\n",
      "Anderson-Darling:\n",
      "statistic:  0.489326046673 , critical values:  [ 0.547  0.623  0.747  0.871  1.037] , significance levels:  [ 15.   10.    5.    2.5   1. ]\n",
      "Kolmogorov-Smirnov:\n",
      "statistic:  0.0799829047226 , p-value:  0.795644605358\n"
     ]
    }
   ],
   "source": [
    "import scipy.stats as stats # some useful stuff\n",
    "\n",
    "x = cereal[cereal[\"sodium\"]>0][\"sodium\"] # only look at values > 0 because some are not given (0)\n",
    "plt.hist(x,bins=10)\n",
    "plt.show()\n",
    "\n",
    "\n",
    "# shapiro-wilk\n",
    "statistic, pvalue = stats.shapiro(x)\n",
    "print(\"Shapiro-Wilk:\")\n",
    "print(\"statistic: \", statistic, \", p-value: \", pvalue)\n",
    "\n",
    "# anderson-darling\n",
    "statistic, critical_values, significance_level = stats.anderson(x, dist='norm')\n",
    "print(\"Anderson-Darling:\")\n",
    "print(\"statistic: \", statistic, \", critical values: \", critical_values, \", significance levels: \", significance_level)\n",
    "\n",
    "# kolmogorov-smirnov\n",
    "statistic, pvalue = stats.kstest((x-x.mean())/x.std(ddof=1), cdf='norm') # have to scale and normalize\n",
    "print(\"Kolmogorov-Smirnov:\")\n",
    "print(\"statistic: \", statistic, \", p-value: \", pvalue)\n"
   ]
  },
  {
   "cell_type": "markdown",
   "metadata": {
    "_cell_guid": "a870ca15-2539-4ee0-a02f-3bbfc58dd2cb",
    "_uuid": "c68730a7d4f4fb2ff3c9b9d230ca6f3678b89e5c",
    "collapsed": true
   },
   "source": [
    "## Test for Equivelence of Variance\n",
    "When performing some statistical tests such as the independent samples t-test, it is assumed that the variances of the populations from which each sample was drawn are equivelent. One statistical test commonly used to test this assumption is called the **Levene Test**. The null hypothesis of this test is that the variances across samples are equivlenent to a p-value of less than 0.05 would result in rejecting the null hypothesis and the assumption of equal varience would NOT be taken. Below the Levene Test is conducted on the sodium data from GM and Kellogs cereals."
   ]
  },
  {
   "cell_type": "code",
   "execution_count": 52,
   "metadata": {
    "_cell_guid": "f2b15c98-92e0-4f2b-90e1-beb62cc3ae03",
    "_uuid": "fa96a81f7f2ca3b6cb195dd0e0c087b8d30b348b"
   },
   "outputs": [
    {
     "name": "stdout",
     "output_type": "stream",
     "text": [
      "statistic:  3.4909822563 , p-value:  0.0685268603588\n"
     ]
    }
   ],
   "source": [
    "gm = cereal[cereal['mfr']=='G']['potass']\n",
    "k = cereal[cereal['mfr']=='K']['potass']\n",
    "statistic, pvalue = stats.levene(gm,k)\n",
    "print(\"statistic: \", statistic, \", p-value: \", pvalue)"
   ]
  },
  {
   "cell_type": "code",
   "execution_count": null,
   "metadata": {
    "collapsed": true
   },
   "outputs": [],
   "source": []
  }
 ],
 "metadata": {
  "kernelspec": {
   "display_name": "Python 3",
   "language": "python",
   "name": "python3"
  },
  "language_info": {
   "codemirror_mode": {
    "name": "ipython",
    "version": 3
   },
   "file_extension": ".py",
   "mimetype": "text/x-python",
   "name": "python",
   "nbconvert_exporter": "python",
   "pygments_lexer": "ipython3",
   "version": "3.5.4"
  }
 },
 "nbformat": 4,
 "nbformat_minor": 1
}
