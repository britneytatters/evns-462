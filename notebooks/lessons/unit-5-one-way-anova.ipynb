{
 "cells": [
  {
   "cell_type": "markdown",
   "metadata": {
    "_cell_guid": "cf40190e-4ebf-4a2e-8e5b-1d30164f9c74",
    "_uuid": "e73e536b1c5b44bfe0015cfdb2e4d031d6d4cbeb"
   },
   "source": [
    "## Overview\n",
    "To compare the means of two independent samples of internval or ratio data (assuming the samples are from normally distributed populations having equal variance) we can do a t-test. But what if you have more than two groups that you want to compare? You could do multiple t-tests, one for each pairing of groups. But this approach would increase the likelhood of experiencing a type-1 error, that is, of rejecting the null hypothesis when you should not have done so (false positive). A better approach is to do an analysis of variance (ANOVA) test. Think of ANOVA as testing all groups simultaneously and looking for statistical evidence that at least one of the groups is different than any of the others. We will focus on one-way ANOVA were there is only one factor that is different between groups. \n",
    "\n",
    "After this notebook you will know:\n",
    "* how to conduct one-way ANOVA (analysis of variance) between multiple groups of interval or ratio data.\n",
    "* how to do a Tukey's range test."
   ]
  },
  {
   "cell_type": "markdown",
   "metadata": {
    "_cell_guid": "b3296b0c-eb2f-4886-b54b-4a8cd12dbdd7",
    "_uuid": "c070713f2c711df50418f4137e60055b12dab7ab"
   },
   "source": [
    "### About the Data\n",
    "Name: reddye40.csv\n",
    "\n",
    "Title: Red Dye 40 and Cancer in Mice\n",
    "\n",
    "Source: Journal Natl. Cancer Inst., Vol. 66, p 197-212\n",
    "\n",
    "Description: S.W. Laagakos and F. Mosteller of Harvard University fed mice different doses of red dye number 40 and recorded the time of death in weeks. Results for female mice, dosage and time of death are shown in the data:\n",
    "* X1 = time of death for control group\n",
    "* X2 = time of death for group with low dosage\n",
    "* X3 = time of death for group with medium dosage\n",
    "* X4 = time of death for group with high dosage\n",
    "\n",
    "The following cell will import the red dye 40 cancer data using pandas. The data is formated as a CSV (comma-separated-values) file. Such a file could be opend in Excel but here we simply load the file into a pandas data structure called a dataframe and print out the first couple rows of the dataframe."
   ]
  },
  {
   "cell_type": "code",
   "execution_count": 9,
   "metadata": {
    "_cell_guid": "bf24efc1-e20f-4817-bd72-52ebe0ca96a0",
    "_uuid": "eb3e15689e95e9c1118ec39a48b2497af59e3b23"
   },
   "outputs": [],
   "source": [
    "import numpy as np\n",
    "import pandas as pd\n",
    "import matplotlib.pyplot as plt\n",
    "import seaborn as sns\n",
    "import scipy.stats as stats # some useful stuff\n",
    "url = \"https://raw.githubusercontent.com/prof-groff/evns462/master/data/reddye40.csv\"\n",
    "reddye = pd.read_csv(url)"
   ]
  },
  {
   "cell_type": "code",
   "execution_count": 2,
   "metadata": {},
   "outputs": [
    {
     "data": {
      "text/html": [
       "<div>\n",
       "<table border=\"1\" class=\"dataframe\">\n",
       "  <thead>\n",
       "    <tr style=\"text-align: right;\">\n",
       "      <th></th>\n",
       "      <th>X1 control</th>\n",
       "      <th>X2 low dose</th>\n",
       "      <th>X3 medium dose</th>\n",
       "      <th>X4 high dose</th>\n",
       "    </tr>\n",
       "  </thead>\n",
       "  <tbody>\n",
       "    <tr>\n",
       "      <th>0</th>\n",
       "      <td>70</td>\n",
       "      <td>49.0</td>\n",
       "      <td>30.0</td>\n",
       "      <td>34.0</td>\n",
       "    </tr>\n",
       "    <tr>\n",
       "      <th>1</th>\n",
       "      <td>77</td>\n",
       "      <td>60.0</td>\n",
       "      <td>37.0</td>\n",
       "      <td>36.0</td>\n",
       "    </tr>\n",
       "    <tr>\n",
       "      <th>2</th>\n",
       "      <td>83</td>\n",
       "      <td>63.0</td>\n",
       "      <td>56.0</td>\n",
       "      <td>48.0</td>\n",
       "    </tr>\n",
       "    <tr>\n",
       "      <th>3</th>\n",
       "      <td>87</td>\n",
       "      <td>67.0</td>\n",
       "      <td>65.0</td>\n",
       "      <td>48.0</td>\n",
       "    </tr>\n",
       "    <tr>\n",
       "      <th>4</th>\n",
       "      <td>92</td>\n",
       "      <td>70.0</td>\n",
       "      <td>76.0</td>\n",
       "      <td>65.0</td>\n",
       "    </tr>\n",
       "    <tr>\n",
       "      <th>5</th>\n",
       "      <td>93</td>\n",
       "      <td>74.0</td>\n",
       "      <td>83.0</td>\n",
       "      <td>91.0</td>\n",
       "    </tr>\n",
       "    <tr>\n",
       "      <th>6</th>\n",
       "      <td>100</td>\n",
       "      <td>77.0</td>\n",
       "      <td>87.0</td>\n",
       "      <td>98.0</td>\n",
       "    </tr>\n",
       "    <tr>\n",
       "      <th>7</th>\n",
       "      <td>102</td>\n",
       "      <td>80.0</td>\n",
       "      <td>90.0</td>\n",
       "      <td>102.0</td>\n",
       "    </tr>\n",
       "    <tr>\n",
       "      <th>8</th>\n",
       "      <td>102</td>\n",
       "      <td>89.0</td>\n",
       "      <td>94.0</td>\n",
       "      <td>NaN</td>\n",
       "    </tr>\n",
       "    <tr>\n",
       "      <th>9</th>\n",
       "      <td>103</td>\n",
       "      <td>NaN</td>\n",
       "      <td>97.0</td>\n",
       "      <td>NaN</td>\n",
       "    </tr>\n",
       "    <tr>\n",
       "      <th>10</th>\n",
       "      <td>96</td>\n",
       "      <td>NaN</td>\n",
       "      <td>NaN</td>\n",
       "      <td>NaN</td>\n",
       "    </tr>\n",
       "  </tbody>\n",
       "</table>\n",
       "</div>"
      ],
      "text/plain": [
       "    X1 control  X2 low dose  X3 medium dose  X4 high dose\n",
       "0           70         49.0            30.0          34.0\n",
       "1           77         60.0            37.0          36.0\n",
       "2           83         63.0            56.0          48.0\n",
       "3           87         67.0            65.0          48.0\n",
       "4           92         70.0            76.0          65.0\n",
       "5           93         74.0            83.0          91.0\n",
       "6          100         77.0            87.0          98.0\n",
       "7          102         80.0            90.0         102.0\n",
       "8          102         89.0            94.0           NaN\n",
       "9          103          NaN            97.0           NaN\n",
       "10          96          NaN             NaN           NaN"
      ]
     },
     "execution_count": 2,
     "metadata": {},
     "output_type": "execute_result"
    }
   ],
   "source": [
    "reddye"
   ]
  },
  {
   "cell_type": "markdown",
   "metadata": {},
   "source": [
    "### One-Way ANOVA Hypothesis Testing\n",
    "\n",
    "ANOVA allows us to test the null hypothesis that their is no difference between the means of different groups in a study. For the red dye 40 data the null hypothesis would be that there is no difference between the mean time of death in weeks between mice receiving no dose (control), a low dose, a medium dose, or a high dose of red dye 40.\n",
    "* H<sub>0</sub>: x1_bar = x2_bar = x3_bar = x4_bar at &alpha; = 0.05\n",
    "* H<sub>A</sub>: The means are not all equal. That is, at least one of the means is different from the rest. \n",
    "\n",
    "The test statistic for ANOVA is called the F-statistic and is defined as the ratio of mean squared error between groups divided by the mean squared error within groups. \n",
    "\n",
    "F = MSB/MSE\n",
    "\n",
    "where\n",
    "\n",
    "MSB = SUM(nj(xj_bar - x_bar)^2) / (k-1) \n",
    "\n",
    "* The sum is taken over all k groups, nj is the number of data values in group j, xj_bar is the mean of group j, x_bar is the grand mean, which is the mean of all data values in all groups. The degrees of freedom between groups is k-1\n",
    "\n",
    "MSE = SUM(SUM(x-xj_bar)^2) / (N-k)\n",
    "\n",
    "* The inner sum is taken over all data values in group j and the other sum is taken over all k groups. The degrees of freedom within groups is N-k, where N is the total number of data values in all groups.\n",
    "\n",
    "The F-critical value for the stated significance level can be found in F-tables like [these](http://www.socr.ucla.edu/applets.dir/f_table.html) or using a calculator like [this one](https://www.danielsoper.com/statcalc/calculator.aspx?id=4). There is a different F-table for each significance level. The columns are for different between group degrees of freedom (k-1) and the rows are for different within group degrees of freedom (N-k). For the red dye data dfB = k-1 = 3 and dfW = N - k = 38 giving a F-critical value of 2.85174134.\n",
    "\n",
    "Below the F-statistic is calculated using the formulas above and again using a built in python function that is much easier to use.\n",
    "\n",
    "(NOTE: ANOVA assumes that the data in each group is normally distributed and the various groups have uniform variance. In practice, the ANOVA test works well if the data is decently normal and the smallest group variance is no more than 3 times smaller than the largest group variance. (More arbitrary rules?))"
   ]
  },
  {
   "cell_type": "code",
   "execution_count": 10,
   "metadata": {
    "_cell_guid": "57c02446-664b-4cf6-a66a-1b3c2395e2dc",
    "_uuid": "134fb568bab52c074dc9e7c10f3d67f5c3184a56"
   },
   "outputs": [],
   "source": [
    "# FIRST LET'S PULL OUT THE FOUR GROUPS. Notice that the number of mice in each sample is different.\n",
    "groups = ['X1 control', 'X2 low dose', 'X3 medium dose', 'X4 high dose']\n",
    "x1 = reddye[reddye[groups[0]]>0][groups[0]]\n",
    "x2 = reddye[reddye[groups[1]]>0][groups[1]]\n",
    "x3 = reddye[reddye[groups[2]]>0][groups[2]]\n",
    "x4 = reddye[reddye[groups[3]]>0][groups[3]]\n",
    "\n",
    "# NOW LET'S FIND THE SIZE OF EACH GROUP ...\n",
    "n1 = len(x1)\n",
    "n2 = len(x2)\n",
    "n3 = len(x3)\n",
    "n4 = len(x4)\n",
    "N = n1+n2+n3+n4 # 38 data values in all groups\n",
    "\n",
    "# AND CALCULATE dfB and dfW\n",
    "k = 4 # 4 groups\n",
    "dfB = k-1\n",
    "dfW = N-k"
   ]
  },
  {
   "cell_type": "code",
   "execution_count": 11,
   "metadata": {},
   "outputs": [
    {
     "name": "stdout",
     "output_type": "stream",
     "text": [
      "75.55263157894737\n"
     ]
    }
   ],
   "source": [
    "# NOW CALCULATE THE GRAND MEAN ...\n",
    "x_bar = (n1*x1.mean() + n2*x2.mean() + n3*x3.mean() + n4*x4.mean())/N\n",
    "print(x_bar)"
   ]
  },
  {
   "cell_type": "code",
   "execution_count": 12,
   "metadata": {},
   "outputs": [
    {
     "name": "stdout",
     "output_type": "stream",
     "text": [
      "4051.9603934077604\n",
      "12937.4343434\n",
      "F =  3.54956141789\n",
      "F =  3.54956141789  p =  0.0244718445337\n"
     ]
    }
   ],
   "source": [
    "# THE SUM OF SQUARES BETWEEN GROUPS ...\n",
    "SSB = n1*(x1.mean()-x_bar)**2 + n2*(x2.mean()-x_bar)**2 + n3*(x3.mean()-x_bar)**2 + n4*(x4.mean()-x_bar)**2\n",
    "print(SSB)\n",
    "# AND THE SUM OF SQUARES WITHIN GROUPS ...\n",
    "SSW = sum(((x1 - x1.mean()))**2) + sum(((x2 - x2.mean()))**2) + sum(((x3 - x3.mean()))**2) + sum(((x4 - x4.mean()))**2)\n",
    "print(SSW)\n",
    "\n",
    "# NOW CALCULATE THE F-STATISTIC\n",
    "F = (SSB/dfB)/(SSW/dfW)\n",
    "print(\"F = \", F)\n",
    "\n",
    "F, p = stats.f_oneway(x1, x2, x3, x4)\n",
    "print(\"F = \", F, \" p = \", p)"
   ]
  },
  {
   "cell_type": "markdown",
   "metadata": {},
   "source": [
    "### Intepreting the Result\n",
    "Since the F-statistic is greater than F-critical we reject the null and accept the alternative hypothesis. The means of the groups are not the same. But this doesn't tell us which mean or means are different. To determine this we could proceed to do independent sample t-tests or explore the data some other way. Let's do a test called Tukey's range test."
   ]
  },
  {
   "cell_type": "code",
   "execution_count": 43,
   "metadata": {},
   "outputs": [
    {
     "data": {
      "text/html": [
       "<div>\n",
       "<table border=\"1\" class=\"dataframe\">\n",
       "  <thead>\n",
       "    <tr style=\"text-align: right;\">\n",
       "      <th></th>\n",
       "      <th>X1 control</th>\n",
       "      <th>X2 low dose</th>\n",
       "      <th>X3 medium dose</th>\n",
       "      <th>X4 high dose</th>\n",
       "    </tr>\n",
       "  </thead>\n",
       "  <tbody>\n",
       "    <tr>\n",
       "      <th>count</th>\n",
       "      <td>11.000000</td>\n",
       "      <td>9.000000</td>\n",
       "      <td>10.000000</td>\n",
       "      <td>8.000000</td>\n",
       "    </tr>\n",
       "    <tr>\n",
       "      <th>mean</th>\n",
       "      <td>91.363636</td>\n",
       "      <td>69.888889</td>\n",
       "      <td>71.500000</td>\n",
       "      <td>65.250000</td>\n",
       "    </tr>\n",
       "    <tr>\n",
       "      <th>std</th>\n",
       "      <td>11.011564</td>\n",
       "      <td>11.857956</td>\n",
       "      <td>23.773234</td>\n",
       "      <td>28.064976</td>\n",
       "    </tr>\n",
       "    <tr>\n",
       "      <th>min</th>\n",
       "      <td>70.000000</td>\n",
       "      <td>49.000000</td>\n",
       "      <td>30.000000</td>\n",
       "      <td>34.000000</td>\n",
       "    </tr>\n",
       "    <tr>\n",
       "      <th>25%</th>\n",
       "      <td>85.000000</td>\n",
       "      <td>63.000000</td>\n",
       "      <td>58.250000</td>\n",
       "      <td>45.000000</td>\n",
       "    </tr>\n",
       "    <tr>\n",
       "      <th>50%</th>\n",
       "      <td>93.000000</td>\n",
       "      <td>70.000000</td>\n",
       "      <td>79.500000</td>\n",
       "      <td>56.500000</td>\n",
       "    </tr>\n",
       "    <tr>\n",
       "      <th>75%</th>\n",
       "      <td>101.000000</td>\n",
       "      <td>77.000000</td>\n",
       "      <td>89.250000</td>\n",
       "      <td>92.750000</td>\n",
       "    </tr>\n",
       "    <tr>\n",
       "      <th>max</th>\n",
       "      <td>103.000000</td>\n",
       "      <td>89.000000</td>\n",
       "      <td>97.000000</td>\n",
       "      <td>102.000000</td>\n",
       "    </tr>\n",
       "  </tbody>\n",
       "</table>\n",
       "</div>"
      ],
      "text/plain": [
       "       X1 control  X2 low dose  X3 medium dose  X4 high dose\n",
       "count   11.000000     9.000000       10.000000      8.000000\n",
       "mean    91.363636    69.888889       71.500000     65.250000\n",
       "std     11.011564    11.857956       23.773234     28.064976\n",
       "min     70.000000    49.000000       30.000000     34.000000\n",
       "25%     85.000000    63.000000       58.250000     45.000000\n",
       "50%     93.000000    70.000000       79.500000     56.500000\n",
       "75%    101.000000    77.000000       89.250000     92.750000\n",
       "max    103.000000    89.000000       97.000000    102.000000"
      ]
     },
     "execution_count": 43,
     "metadata": {},
     "output_type": "execute_result"
    }
   ],
   "source": [
    "# LET'S JUST LOOK AT SOME SUMMARY STATISTICS FOR EACH GROUP\n",
    "reddye.describe()"
   ]
  },
  {
   "cell_type": "code",
   "execution_count": 39,
   "metadata": {
    "_cell_guid": "d4bb2a08-fe1d-4653-8d24-019911dcd7bb",
    "_uuid": "025faf9721bde2a423a7dc279bd435b74233f47f"
   },
   "outputs": [
    {
     "data": {
      "text/html": [
       "<table class=\"simpletable\">\n",
       "<caption>Multiple Comparison of Means - Tukey HSD,FWER=0.05</caption>\n",
       "<tr>\n",
       "  <th>group1</th> <th>group2</th> <th>meandiff</th>   <th>lower</th>   <th>upper</th>  <th>reject</th>\n",
       "</tr>\n",
       "<tr>\n",
       "    <td>x1</td>     <td>x2</td>   <td>-21.4747</td> <td>-45.1541</td> <td>2.2046</td>   <td>False</td>\n",
       "</tr>\n",
       "<tr>\n",
       "    <td>x1</td>     <td>x3</td>   <td>-19.8636</td> <td>-42.8826</td> <td>3.1553</td>   <td>False</td>\n",
       "</tr>\n",
       "<tr>\n",
       "    <td>x1</td>     <td>x4</td>   <td>-26.1136</td> <td>-50.5934</td> <td>-1.6339</td>  <td>True</td> \n",
       "</tr>\n",
       "<tr>\n",
       "    <td>x2</td>     <td>x3</td>    <td>1.6111</td>  <td>-22.5951</td> <td>25.8174</td>  <td>False</td>\n",
       "</tr>\n",
       "<tr>\n",
       "    <td>x2</td>     <td>x4</td>    <td>-4.6389</td> <td>-30.2383</td> <td>20.9605</td>  <td>False</td>\n",
       "</tr>\n",
       "<tr>\n",
       "    <td>x3</td>     <td>x4</td>     <td>-6.25</td>  <td>-31.2398</td> <td>18.7398</td>  <td>False</td>\n",
       "</tr>\n",
       "</table>"
      ],
      "text/plain": [
       "<class 'statsmodels.iolib.table.SimpleTable'>"
      ]
     },
     "execution_count": 39,
     "metadata": {},
     "output_type": "execute_result"
    },
    {
     "data": {
      "image/png": "[encoded data removed]",
      "text/plain": [
       "<matplotlib.figure.Figure at 0x7fb5f1fb6da0>"
      ]
     },
     "metadata": {},
     "output_type": "display_data"
    }
   ],
   "source": [
    "# POP THE DATA INTO A NEW STRUCTURE SUITABLE FOR THE TUKEY FUNCTION\n",
    "data = np.array(list(x1.append(x2).append(x3).append(x4,ignore_index=True)))\n",
    "group_labels = np.array(['x1']*n1 + ['x2']*n2 + ['x3']*n3 + ['x4']*n4)\n",
    "\n",
    "\n",
    "from statsmodels.stats.multicomp import pairwise_tukeyhsd\n",
    "\n",
    "tukey = pairwise_tukeyhsd(endog=data, groups=group_labels, alpha=0.05)\n",
    "tukey.plot_simultaneous()    # Plot group confidence intervals\n",
    "tukey.summary()              # See test summary"
   ]
  }
 ],
 "metadata": {
  "kernelspec": {
   "display_name": "Python 3",
   "language": "python",
   "name": "python3"
  },
  "language_info": {
   "codemirror_mode": {
    "name": "ipython",
    "version": 3
   },
   "file_extension": ".py",
   "mimetype": "text/x-python",
   "name": "python",
   "nbconvert_exporter": "python",
   "pygments_lexer": "ipython3",
   "version": "3.5.4"
  }
 },
 "nbformat": 4,
 "nbformat_minor": 1
}
