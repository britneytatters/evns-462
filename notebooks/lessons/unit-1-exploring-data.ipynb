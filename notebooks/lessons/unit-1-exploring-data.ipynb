{
 "cells": [
  {
   "cell_type": "markdown",
   "metadata": {
    "_cell_guid": "3363fd3c-6d9e-4104-81a5-5e590e420922",
    "_uuid": "d8f80a6c03fd0f543637e455fb5477bc989c1f78"
   },
   "source": [
    "## Overview\n",
    "\n",
    "Data and mathematical models that explain or predict data are at the foundation of science. So, knowing how to interpret, analyze, and manipulate data is fundemental to being scientifically literate. In this notebook, let's take a look at a dataset courtesy of Kaggle.com. The data is from wine reviews scaped from WineEnthusiast.com. It is multidemensional (see above) including the price, country of origin, grape variety, and point rating awarded to each wine. Below we will take a preliminary look at this dataset. We will consider how the different dimensions of the dataset are similar and different and will visualize the data in a number of different ways. After this notebook you will know:\n",
    "* the difference between nominal, ordinal, interval, and ratio data.\n",
    "* how a histogram and box (and whisker) plot can communicate information about the distribution of data. \n",
    "* properties of a normal (Gaussian) distribution \n",
    "\n",
    "This notebook uses Python, which is a powerful programming language prfered by many data scientists. You probably have at least some experience doing data analysis in Excel and might have some experience using some other software package/language such as SPSS or R. In the end, I don't care what tools you use to do the statitical analysis required to complete your researh paper. Use what works for you. However, I will be predominatly be using Python in class and encourage you to learn how to use it too. "
   ]
  },
  {
   "cell_type": "code",
   "execution_count": 1,
   "metadata": {
    "_cell_guid": "25dc6e9f-b95d-4b28-8cec-1d942d97143f",
    "_uuid": "099c83ee31e713c1abfdf52cd747ee731a951747",
    "collapsed": true
   },
   "outputs": [],
   "source": [
    "# Python uses packages to simplify data manipulation and analysis. Three of the most important packages\n",
    "# are called Numpy, Pandas, and Matplotlib\n",
    "import numpy as np # linear algebra and data processing\n",
    "import pandas as pd # data processing and file I/O (e.g. pd.read_csv)\n",
    "import matplotlib.pyplot as plt # for ploting data\n",
    "import seaborn as sns # makes even nicer plots (might use, don't know)"
   ]
  },
  {
   "cell_type": "markdown",
   "metadata": {
    "_cell_guid": "c7cc2f00-84bc-4afd-aac3-1865980be692",
    "_uuid": "872ac6f788af585a2d3e317ae3c3b205ebd3c9e4"
   },
   "source": [
    "The following cell will import the WineEnthusiast data set using pandas. The data is linked to above and is formated as a CSV (comma-separated-values) file. Such a file could be opend in Excel but here we simply load the file into a pandas data structure called a dataframe and print out the first couple rows of the dataframe."
   ]
  },
  {
   "cell_type": "code",
   "execution_count": 3,
   "metadata": {
    "_cell_guid": "bba2b698-f304-4427-8a2b-532324242a88",
    "_uuid": "5baaf3a1302f96da21daacd144ffd7e6899655bc"
   },
   "outputs": [
    {
     "name": "stdout",
     "output_type": "stream",
     "text": [
      "   winemag-data-130k-v2.csv   country  \\\n",
      "0                       0.0     Italy   \n",
      "1                       1.0  Portugal   \n",
      "2                       2.0        US   \n",
      "3                       3.0        US   \n",
      "4                       4.0        US   \n",
      "\n",
      "                                         description  \\\n",
      "0  Aromas include tropical fruit, broom, brimston...   \n",
      "1  This is ripe and fruity, a wine that is smooth...   \n",
      "2  Tart and snappy, the flavors of lime flesh and...   \n",
      "3  Pineapple rind, lemon pith and orange blossom ...   \n",
      "4  Much like the regular bottling from 2012, this...   \n",
      "\n",
      "                          designation  points  price           province  \\\n",
      "0                        Vulkà Bianco    87.0    NaN  Sicily & Sardinia   \n",
      "1                            Avidagos    87.0   15.0              Douro   \n",
      "2                                 NaN    87.0   14.0             Oregon   \n",
      "3                Reserve Late Harvest    87.0   13.0           Michigan   \n",
      "4  Vintner's Reserve Wild Child Block    87.0   65.0             Oregon   \n",
      "\n",
      "              region_1           region_2         taster_name  \\\n",
      "0                 Etna                NaN       Kerin O’Keefe   \n",
      "1                  NaN                NaN          Roger Voss   \n",
      "2    Willamette Valley  Willamette Valley        Paul Gregutt   \n",
      "3  Lake Michigan Shore                NaN  Alexander Peartree   \n",
      "4    Willamette Valley  Willamette Valley        Paul Gregutt   \n",
      "\n",
      "  taster_twitter_handle                                              title  \\\n",
      "0          @kerinokeefe                  Nicosia 2013 Vulkà Bianco  (Etna)   \n",
      "1            @vossroger      Quinta dos Avidagos 2011 Avidagos Red (Douro)   \n",
      "2           @paulgwine       Rainstorm 2013 Pinot Gris (Willamette Valley)   \n",
      "3                   NaN  St. Julian 2013 Reserve Late Harvest Riesling ...   \n",
      "4           @paulgwine   Sweet Cheeks 2012 Vintner's Reserve Wild Child...   \n",
      "\n",
      "          variety               winery  \n",
      "0     White Blend              Nicosia  \n",
      "1  Portuguese Red  Quinta dos Avidagos  \n",
      "2      Pinot Gris            Rainstorm  \n",
      "3        Riesling           St. Julian  \n",
      "4      Pinot Noir         Sweet Cheeks  \n"
     ]
    }
   ],
   "source": [
    "url = \"https://raw.githubusercontent.com/prof-groff/evns462/master/data/winemag-data-130k-v2.tar.gz\"\n",
    "wine_data = pd.read_csv(url, compression='gzip')\n",
    "print(wine_data.head())"
   ]
  },
  {
   "cell_type": "markdown",
   "metadata": {
    "_cell_guid": "4dfb8533-c041-413f-9588-37e3b39c1e59",
    "_uuid": "5658f67ea9bf3121e7291d8fac49bb1011b13a30"
   },
   "source": [
    "## Different Kinds of Data\n",
    "As you can see, the WineEnthusiast dataset includes different dimensions with very different properties. For example, some of the data are character strings representing grape names or country names, others are numerical such as price. Moreover, the data can be classified based on the type of scale it is based on. For example, the price data is based on a scale that starts at zero (\\$0.00) and has a well-defined interval between values on this scale. In other words, the interval between \\$1.00 and \\$2.00 is the same as the interval between \\$5.00 and \\$6.00. Such data (called ratio data) iis very nice to work with for a variety of reasons but other types of data scales exist. Here is a summary of four different types of data including examples of each from the WineEnthusiasts data. \n",
    "* **Nominal** data are categorical labels, symbols, or names without numerical significance or natural order. However, nominal data can be tabulated into frequency tables. Later we will learn a test called the chi-squared test that is useful for interpreting nominal data sets. The countries, variety, and winery dimensions of the WineEnthusiast data are examples of nominal data.\n",
    "* **Ordinal** data are numbers, labels, or symbols that have a definite order or hierarchy but there is no gaurentee that the intervals between adjacent labels is uniform. For example, a list of the finishing order of runners in a marathon would be an example of ordinal data. The points dimension of the WineEnthusiast data is probably ordinal because these values are assigned by subjective wine tasters. However, below we will treat it as interval data.\n",
    "* **Interval** data are numbers with a definite order and a well defined and constant interval between values. However, there is no absolute zero on the scale. The year of the vintage (which could be scraped from the title dimension) is an example of interval data.\n",
    "* **Ration** data (see above) are numbers with a both constant interval and a scale with an absolute zero. As prevously mentioned wine price is an example or ratio data."
   ]
  },
  {
   "cell_type": "markdown",
   "metadata": {
    "_cell_guid": "56106877-cc46-4612-b7c9-694c31946dc5",
    "_uuid": "cb8e824cd964cb16829fc64c797f11af454dccd6",
    "collapsed": true
   },
   "source": [
    "## Visualizing Categorical Data\n",
    "Categorical or nominal data can be visualized with a bar plot with categories along the x-axis and frequencies along the y axis. Below the frequencies of some of the grape varieties in the WIneEnthusiast dataset are plotted."
   ]
  },
  {
   "cell_type": "code",
   "execution_count": 4,
   "metadata": {
    "_cell_guid": "93d16e68-17d7-4db4-a335-fa109da8f767",
    "_uuid": "3ce42d71b6285e81e08dc9f91ddd5a793554fde2"
   },
   "outputs": [
    {
     "data": {
      "image/png": "[encoded data removed]",
      "text/plain": [
       "<matplotlib.figure.Figure at 0x7f0e69c7e0f0>"
      ]
     },
     "metadata": {},
     "output_type": "display_data"
    }
   ],
   "source": [
    "import collections # so I can use a handly method called Counter()\n",
    "variety_counts = collections.Counter(wine_data[\"variety\"].astype('str'))\n",
    "variety_counts = dict(variety_counts.most_common(7)) # only look at the seven most common varieties\n",
    "varieties = variety_counts.keys()\n",
    "counts = variety_counts.values()\n",
    "plt.bar(varieties, counts)\n",
    "plt.xticks(rotation=90)\n",
    "plt.ylabel('Frequency')\n",
    "plt.show()"
   ]
  },
  {
   "cell_type": "markdown",
   "metadata": {
    "_cell_guid": "91a95606-d901-4618-8af9-39036a540706",
    "_uuid": "0e7ef6320fab7f20377c61df3eec86508ad489f9"
   },
   "source": [
    "## Visualizing Numerical Data Distributions with a Histogram\n",
    "Although the \"points\" data may in fact be ordinal because it is assigned by subjective tasters, here let's treat it as interval data so, for example, a score of 89 is always better than a score of 85 by exactly the same amount as a 96 is better than a 92 (interval of four degrees of taste or something like that in both cases). When data is numerical and of the interval or ratio type we can visualize the distribution of the data by generating a histogram where the data is bined by value and the number or frequency of data points in each bin is plotted as bar height along the y-axis.  Below the distribution of point scores for all wines in the data set is shown."
   ]
  },
  {
   "cell_type": "code",
   "execution_count": 5,
   "metadata": {
    "_cell_guid": "9fe04129-8bcb-4798-81d3-03929741791b",
    "_uuid": "9663fc080d24739cfb79d023ac5663de5737d129"
   },
   "outputs": [
    {
     "name": "stdout",
     "output_type": "stream",
     "text": [
      "A total of 129972 wines are scored in the data set.\n",
      "The possible scores are:\n",
      "[  80.   81.   82.   83.   84.   85.   86.   87.   88.   89.   90.   91.\n",
      "   92.   93.   94.   95.   96.   97.   98.   99.  100.   nan]\n"
     ]
    }
   ],
   "source": [
    "# how many wines are scored and how many uniquely different scores are possible in this data set?\n",
    "scores = wine_data[\"points\"]\n",
    "print(\"A total of {} wines are scored in the data set.\".format(len(scores)))\n",
    "print(\"The possible scores are:\")\n",
    "print(np.unique(scores))"
   ]
  },
  {
   "cell_type": "code",
   "execution_count": 7,
   "metadata": {
    "_cell_guid": "1bd6512a-4a26-42f2-8025-273c7660f5a6",
    "_uuid": "c7c38ed56b2b926c1dcf747caddf247f5c5b6d95"
   },
   "outputs": [
    {
     "data": {
      "image/png": "[encoded data removed]",
      "text/plain": [
       "<matplotlib.figure.Figure at 0x7f0e695ff710>"
      ]
     },
     "metadata": {},
     "output_type": "display_data"
    }
   ],
   "source": [
    "# since there are 21 possible point scores lets make a histogram with 21 bins\n",
    "scores = scores[scores>0] # get rid of nan\n",
    "plt.hist(scores,bins=21,color='b',alpha=1) # could be more specific with bin edges but this is good enough\n",
    "plt.xlabel('Point Score')\n",
    "plt.ylabel('Frequency')\n",
    "plt.show()"
   ]
  },
  {
   "cell_type": "markdown",
   "metadata": {
    "_cell_guid": "ed0610ca-139a-4e6d-a5ec-f3766990ba65",
    "_uuid": "1d5049d559c280743e579fec0aad418c6b324183"
   },
   "source": [
    "## Box (and Whisker) Plot\n",
    "Another kind of plot that is useful for visually summarizing a data distribution is called a box plot sometimes called a box and whisker plot. Below is a box plot for the wine point score data set plotted above. The width of the box in the middle shows what is called the interquartile range (IQR), which is the distance between the point below which 25% of the data falls (the 1st quartile) and the point below which 75% of the data falls (3rd quartile). The line in the middle of the box shows the point below which 50% of the data falls (2nd quartile, also called the median). The lines extending from either side show the extent of the maximum and minimum values in the data set or if there are outliers these lines extend to 1.5 times the IQR in either direction and the outliers are indicated with dots."
   ]
  },
  {
   "cell_type": "code",
   "execution_count": 8,
   "metadata": {
    "_cell_guid": "e22da416-10cb-4274-9b12-e421101c911e",
    "_uuid": "532940c3e52ead8b9a4e947db22e7cca052a3cc7"
   },
   "outputs": [
    {
     "data": {
      "image/png": "[encoded data removed]",
      "text/plain": [
       "<matplotlib.figure.Figure at 0x7f0e695a6940>"
      ]
     },
     "metadata": {},
     "output_type": "display_data"
    }
   ],
   "source": [
    "# boxplot shows 1st (25%), 2nd (50%, median), and 3rd (75%) quartiles\n",
    "# shows min/max and/or 1.5xIQR \n",
    "# may also show outliers\n",
    "plt.boxplot(scores, vert=False)\n",
    "plt.xlabel('Point Score')\n",
    "plt.show()"
   ]
  },
  {
   "cell_type": "markdown",
   "metadata": {
    "_cell_guid": "dbc5b879-abc0-4d0b-add6-9796385a4185",
    "_uuid": "62edac9058d18e6715ef9051bed687a253d29e43"
   },
   "source": [
    "## Population Versus Sample\n",
    "Since the histogram above includes a data point for every single wine ever reviewed by WineEnthusiast (let's assume), it represents the entire population. Most of the time we don't have data sets that encapulate the entire population. For example, if we wanted to study the relationship between human height and big toe length, you couldn't measure the height and big toe length of every human being. Instead, you would take a sample from the population and try to infer information about the population from this sample. Below is a histogram generated from a sample (only 5k of over 120k wine reviews) of wine point scores taken from the population shown above. What do you notice about the shape of this histogram compared to the shape of the histogram above? In general, we expect a sample from a population (assuming it is a sufficiently large sample) to have the same shape distribution (albeit smaller magnitude frequencies) as the population from which it was drawn. "
   ]
  },
  {
   "cell_type": "code",
   "execution_count": 9,
   "metadata": {
    "_cell_guid": "ae894dc9-ad20-4d54-9479-a36474fe0aea",
    "_uuid": "5d8dc530afd0a47df7026afb5e61e15c40c38e83",
    "scrolled": false
   },
   "outputs": [
    {
     "data": {
      "image/png": "[encoded data removed]",
      "text/plain": [
       "<matplotlib.figure.Figure at 0x7f0e69500828>"
      ]
     },
     "metadata": {},
     "output_type": "display_data"
    }
   ],
   "source": [
    "scores_sample = scores.sample(5000)\n",
    "plt.hist(scores_sample,bins=20,color='b',alpha=1) # could be more specific with bin edges but this is good enough\n",
    "plt.xlabel('Point Score')\n",
    "plt.ylabel('Frequency')\n",
    "plt.show()"
   ]
  },
  {
   "cell_type": "markdown",
   "metadata": {
    "_cell_guid": "4d21c01d-2e08-479e-8adb-f64cb759dae3",
    "_uuid": "23d224f268f4253efed5182dbb6304597c836281"
   },
   "source": [
    "## Normal or Gaussian Distribution\n",
    "Although it isn't the best example, the distribution of wine point scores shown above is pretty symmetric. One may even say the distributoin is \"bell shaped\". Most of the scores are in the middle of the range of possible values and the frequencies of both high and low scores are much less than the frequency of scores in the middle. The most important distribution in statistics and probably all of science is a distribution that looks very much like this called the normal or Gaussian distribution. Strickly speaking, the distribution of wine point scores is can not be Gaussian because it is bounded on both sides (minimum of 80 and maximum of 100) and ther scores themselves are probably not really interval data. It also looks a little skewed to the left, which means that tail on the lower end of the scale is longer then the tail at the higher end of the scale. A true Gaussian is symmetric about the peak. Below is a true Gaussian distribution plotted from randomly generated normally distributed data."
   ]
  },
  {
   "cell_type": "code",
   "execution_count": null,
   "metadata": {
    "_cell_guid": "64ba9729-e905-4dd8-841d-5702a2482433",
    "_uuid": "a5f4ba3b63c048aa5d094cfb4eb3d102fff2b5e5",
    "collapsed": true
   },
   "outputs": [],
   "source": [
    "gaussian_data = np.random.normal(loc=0, scale=1, size=10000)\n",
    "plt.hist(gaussian_data,bins=50,color='b',alpha=1)\n",
    "plt.ylabel('Frequency')\n",
    "plt.show()"
   ]
  },
  {
   "cell_type": "markdown",
   "metadata": {
    "_cell_guid": "6de9d19e-7faa-42af-a290-6de5817a8331",
    "_uuid": "df16dc2c6ff13a0d8a7a9b52c169980f462b1cd2"
   },
   "source": [
    "## Parametric Distributions\n",
    "The normal distribution is a parametric distribution, which means it can be described by a finite number of parameters. In fact, all noramal distributions can be described with precisely two parameters, namely a mean and a variance (or standard deviation). In statistics, most tests on data samples make assumptions about the distribution of the underlying population from which the data is drawn. In many situations, the assumpiton is that the underlying distribiton is a normal distribution. Such tests are called parameteric tests even though there are other \"parametric\" distributions besides the normal distribution. Since data must have a ratio or interval scale to be normally distributed, parametric tests are not applicable to ordinal or nominal datasets. Statistical tests that supposedly do not make particular assumptions about the distribution from which a sample is drawn are called non-parametric tests. Strickly speaking this is a misnomer becuase even non-parametric tests make some kind of assumptions about the data."
   ]
  },
  {
   "cell_type": "markdown",
   "metadata": {
    "_cell_guid": "873e0d3f-2f68-4a82-8b2a-bccbff601d7b",
    "_uuid": "6435501609e696a4360b5eed57b48191428b87b5"
   },
   "source": [
    "## A Non-Normal Distribution\n",
    "As stated above, a distribution that is not normal is often refered to as non-parametric. In truth, the distribution could actually be parametric in that a finate set of parameters specifies the shape of the distribution. But, when statisticians say parametric, they usuallly mean the underlying distribution is normal. Below is a histogram of the prices of the wines in the WineEnthusiast database. It is plotted twice, once with a linear-scale y-axis and once with a log-scale y-axis to show the infrequent prices on the high end more clearly. This is definately not a normal distribution. In fact, it looks a lot like an exponential distribution."
   ]
  },
  {
   "cell_type": "code",
   "execution_count": 10,
   "metadata": {
    "_cell_guid": "81888208-56ef-4ec3-a673-6368d948a667",
    "_uuid": "98e09afa0a7e0f902cdac74f59a8e45fe4624d40"
   },
   "outputs": [
    {
     "data": {
      "image/png": "[encoded data removed]",
      "text/plain": [
       "<matplotlib.figure.Figure at 0x7f0e6948c860>"
      ]
     },
     "metadata": {},
     "output_type": "display_data"
    }
   ],
   "source": [
    "prices_idx = wine_data.index[wine_data[\"price\"] >= 0] # get rid of wines without a specified price\n",
    "prices = wine_data.loc[prices_idx,\"price\"]\n",
    "\n",
    "fig = plt.figure(0, [10,4])\n",
    "(ax1, ax2) = fig.subplots(1,2)\n",
    "ax1.hist(prices,100,color=\"b\")\n",
    "ax1.set_ylabel('Frequency')\n",
    "ax1.set_xlabel('Price ($)')\n",
    "ax2.hist(prices,100,log=True,color=\"b\")\n",
    "ax2.set_ylabel('Frequency')\n",
    "ax2.set_xlabel('Price ($)')\n",
    "plt.show()"
   ]
  },
  {
   "cell_type": "markdown",
   "metadata": {
    "_cell_guid": "131b8856-f65f-42d7-9fdd-7283bbe0ee62",
    "_uuid": "108ca10a43bc6225c08491e5df532ffeb5d15a40"
   },
   "source": [
    "## The Central Limit Theorem\n",
    "One of the most important theorems in prabability and statistical theory is called the Central Limit Theorem. This theorem states that even when the distribution from which a sample is drawn is not normal, the distributon of sample means will be normal if the sample size is sufficiently large. In other words, if we repeatedly sample from a population, a historgram of the means of these samples will approach a normal distribution as the sample size and number of samples gets big. The three histograms below show the distribution of sample means from the price data for three different sample sizes, 10, 100, and 1000. In addition to the distribution getting more normal as the sample size increases, notice that the range of likely average prices is also getting narrower. In other words, as sample size increases, sample distributions become less variable. In the next unit we will take a closser look at measures of central tendency such as the mean, median, and mode and measures of variability. "
   ]
  },
  {
   "cell_type": "code",
   "execution_count": 11,
   "metadata": {
    "_cell_guid": "bfd6db00-01b9-402b-9896-4a03bf90f05f",
    "_uuid": "a561d8a8c54a7bfb6700725126d1069e09e8670c"
   },
   "outputs": [
    {
     "data": {
      "image/png": "[encoded data removed]",
      "text/plain": [
       "<matplotlib.figure.Figure at 0x7f0e694ecfd0>"
      ]
     },
     "metadata": {},
     "output_type": "display_data"
    }
   ],
   "source": [
    "def get_sample_means(data,n_samples,sample_size):\n",
    "    sample_means = []\n",
    "    for ii in range(n_samples):\n",
    "        sample = data.sample(sample_size,replace=True)\n",
    "        sample_means.append(sample.mean())\n",
    "    return sample_means\n",
    "\n",
    "fig = plt.figure(0, [15,4])\n",
    "(ax1, ax2, ax3) = fig.subplots(1,3)\n",
    "ax1.hist(get_sample_means(prices,1000,10),50,color=\"b\")\n",
    "ax1.set_ylabel('Frequency')\n",
    "ax1.set_xlabel('Average Price ($)')\n",
    "ax2.hist(get_sample_means(prices,1000,100),50,color=\"b\")\n",
    "ax2.set_ylabel('Frequency')\n",
    "ax2.set_xlabel('Average Price ($)')\n",
    "ax3.hist(get_sample_means(prices,1000,1000),50,color=\"b\")\n",
    "ax3.set_ylabel('Frequency')\n",
    "ax3.set_xlabel('Average Price ($)')\n",
    "plt.show()"
   ]
  },
  {
   "cell_type": "code",
   "execution_count": null,
   "metadata": {
    "collapsed": true
   },
   "outputs": [],
   "source": []
  }
 ],
 "metadata": {
  "kernelspec": {
   "display_name": "Python 3",
   "language": "python",
   "name": "python3"
  },
  "language_info": {
   "codemirror_mode": {
    "name": "ipython",
    "version": 3
   },
   "file_extension": ".py",
   "mimetype": "text/x-python",
   "name": "python",
   "nbconvert_exporter": "python",
   "pygments_lexer": "ipython3",
   "version": "3.5.4"
  }
 },
 "nbformat": 4,
 "nbformat_minor": 1
}
