{
 "cells": [
  {
   "cell_type": "markdown",
   "metadata": {},
   "source": [
    "## Overview\n",
    "The Mann-Whitney Test is a non-parametric test for differences between samples. This means it can be employed like an independent samples T-test but on samples that violate the assumpiton of normality. It is a rank test, which means it can be used on interval or ratio data but also on ordinal data. Mann-Whitney allows you to test the null hypothesis that a randomly selected value from one distribution (modeled with sample 1) is just as likely to be less than as greater than a randomly selected value from a second distrubiton (modeled with sample 2). Another way of stating this null hypothesis is that the there is no difference between the distributions the two samples came from. There is a generalization of Mann-Whitney for testing more than two groups like ANOVA called Kruskal–Wallis One-Way ANOVA. Mann-Whitney makes the following assumptions:\n",
    "\n",
    "* The data has ordinal, interval, or ratio measurement scales.\n",
    "* The observations in the groups are independent.\n",
    "\n",
    "After this notebook you will know:\n",
    "* how to conduct a Mann-Whitney Test between two independent groups of ordinal, interval, or ratio data."
   ]
  },
  {
   "cell_type": "code",
   "execution_count": 1,
   "metadata": {
    "collapsed": true
   },
   "outputs": [],
   "source": [
    "import pandas as pd\n",
    "import numpy as np\n",
    "import scipy.stats as stats\n",
    "import matplotlib.pyplot as plt"
   ]
  },
  {
   "cell_type": "markdown",
   "metadata": {},
   "source": [
    "### Are wines produced in the United States better than wines produced elsewhere?\n",
    "\n",
    "The following cell will import the wine enthusist data set using pandas. The data is formated as a CSV (comma-separated-values) file. Such a file could be opend in Excel but here we simply load the file into a pandas data structure called a dataframe and print out the first couple rows of the dataframe.\n",
    "\n",
    "We will proceed to test the data to expore if wines produced in the United States achieve higher point scores than wines produced in other countries using Mann-Whitney Rank Tests. \n",
    "\n",
    "* H<sub>0</sub>: Wines produced in the US score no better than wines produced in [INSERT COUNTRY].\n",
    "* H<sub>A</sub>: Wines produced in the US score better than wines produced in [INSERT COUNTRY]."
   ]
  },
  {
   "cell_type": "code",
   "execution_count": 2,
   "metadata": {},
   "outputs": [
    {
     "data": {
      "text/html": [
       "<div>\n",
       "<style>\n",
       "    .dataframe thead tr:only-child th {\n",
       "        text-align: right;\n",
       "    }\n",
       "\n",
       "    .dataframe thead th {\n",
       "        text-align: left;\n",
       "    }\n",
       "\n",
       "    .dataframe tbody tr th {\n",
       "        vertical-align: top;\n",
       "    }\n",
       "</style>\n",
       "<table border=\"1\" class=\"dataframe\">\n",
       "  <thead>\n",
       "    <tr style=\"text-align: right;\">\n",
       "      <th></th>\n",
       "      <th>winemag-data-130k-v2.csv</th>\n",
       "      <th>country</th>\n",
       "      <th>description</th>\n",
       "      <th>designation</th>\n",
       "      <th>points</th>\n",
       "      <th>price</th>\n",
       "      <th>province</th>\n",
       "      <th>region_1</th>\n",
       "      <th>region_2</th>\n",
       "      <th>taster_name</th>\n",
       "      <th>taster_twitter_handle</th>\n",
       "      <th>title</th>\n",
       "      <th>variety</th>\n",
       "      <th>winery</th>\n",
       "    </tr>\n",
       "  </thead>\n",
       "  <tbody>\n",
       "    <tr>\n",
       "      <th>0</th>\n",
       "      <td>0.0</td>\n",
       "      <td>Italy</td>\n",
       "      <td>Aromas include tropical fruit, broom, brimston...</td>\n",
       "      <td>Vulkà Bianco</td>\n",
       "      <td>87.0</td>\n",
       "      <td>NaN</td>\n",
       "      <td>Sicily &amp; Sardinia</td>\n",
       "      <td>Etna</td>\n",
       "      <td>NaN</td>\n",
       "      <td>Kerin O’Keefe</td>\n",
       "      <td>@kerinokeefe</td>\n",
       "      <td>Nicosia 2013 Vulkà Bianco  (Etna)</td>\n",
       "      <td>White Blend</td>\n",
       "      <td>Nicosia</td>\n",
       "    </tr>\n",
       "    <tr>\n",
       "      <th>1</th>\n",
       "      <td>1.0</td>\n",
       "      <td>Portugal</td>\n",
       "      <td>This is ripe and fruity, a wine that is smooth...</td>\n",
       "      <td>Avidagos</td>\n",
       "      <td>87.0</td>\n",
       "      <td>15.0</td>\n",
       "      <td>Douro</td>\n",
       "      <td>NaN</td>\n",
       "      <td>NaN</td>\n",
       "      <td>Roger Voss</td>\n",
       "      <td>@vossroger</td>\n",
       "      <td>Quinta dos Avidagos 2011 Avidagos Red (Douro)</td>\n",
       "      <td>Portuguese Red</td>\n",
       "      <td>Quinta dos Avidagos</td>\n",
       "    </tr>\n",
       "    <tr>\n",
       "      <th>2</th>\n",
       "      <td>2.0</td>\n",
       "      <td>US</td>\n",
       "      <td>Tart and snappy, the flavors of lime flesh and...</td>\n",
       "      <td>NaN</td>\n",
       "      <td>87.0</td>\n",
       "      <td>14.0</td>\n",
       "      <td>Oregon</td>\n",
       "      <td>Willamette Valley</td>\n",
       "      <td>Willamette Valley</td>\n",
       "      <td>Paul Gregutt</td>\n",
       "      <td>@paulgwine</td>\n",
       "      <td>Rainstorm 2013 Pinot Gris (Willamette Valley)</td>\n",
       "      <td>Pinot Gris</td>\n",
       "      <td>Rainstorm</td>\n",
       "    </tr>\n",
       "    <tr>\n",
       "      <th>3</th>\n",
       "      <td>3.0</td>\n",
       "      <td>US</td>\n",
       "      <td>Pineapple rind, lemon pith and orange blossom ...</td>\n",
       "      <td>Reserve Late Harvest</td>\n",
       "      <td>87.0</td>\n",
       "      <td>13.0</td>\n",
       "      <td>Michigan</td>\n",
       "      <td>Lake Michigan Shore</td>\n",
       "      <td>NaN</td>\n",
       "      <td>Alexander Peartree</td>\n",
       "      <td>NaN</td>\n",
       "      <td>St. Julian 2013 Reserve Late Harvest Riesling ...</td>\n",
       "      <td>Riesling</td>\n",
       "      <td>St. Julian</td>\n",
       "    </tr>\n",
       "    <tr>\n",
       "      <th>4</th>\n",
       "      <td>4.0</td>\n",
       "      <td>US</td>\n",
       "      <td>Much like the regular bottling from 2012, this...</td>\n",
       "      <td>Vintner's Reserve Wild Child Block</td>\n",
       "      <td>87.0</td>\n",
       "      <td>65.0</td>\n",
       "      <td>Oregon</td>\n",
       "      <td>Willamette Valley</td>\n",
       "      <td>Willamette Valley</td>\n",
       "      <td>Paul Gregutt</td>\n",
       "      <td>@paulgwine</td>\n",
       "      <td>Sweet Cheeks 2012 Vintner's Reserve Wild Child...</td>\n",
       "      <td>Pinot Noir</td>\n",
       "      <td>Sweet Cheeks</td>\n",
       "    </tr>\n",
       "    <tr>\n",
       "      <th>5</th>\n",
       "      <td>5.0</td>\n",
       "      <td>Spain</td>\n",
       "      <td>Blackberry and raspberry aromas show a typical...</td>\n",
       "      <td>Ars In Vitro</td>\n",
       "      <td>87.0</td>\n",
       "      <td>15.0</td>\n",
       "      <td>Northern Spain</td>\n",
       "      <td>Navarra</td>\n",
       "      <td>NaN</td>\n",
       "      <td>Michael Schachner</td>\n",
       "      <td>@wineschach</td>\n",
       "      <td>Tandem 2011 Ars In Vitro Tempranillo-Merlot (N...</td>\n",
       "      <td>Tempranillo-Merlot</td>\n",
       "      <td>Tandem</td>\n",
       "    </tr>\n",
       "    <tr>\n",
       "      <th>6</th>\n",
       "      <td>6.0</td>\n",
       "      <td>Italy</td>\n",
       "      <td>Here's a bright, informal red that opens with ...</td>\n",
       "      <td>Belsito</td>\n",
       "      <td>87.0</td>\n",
       "      <td>16.0</td>\n",
       "      <td>Sicily &amp; Sardinia</td>\n",
       "      <td>Vittoria</td>\n",
       "      <td>NaN</td>\n",
       "      <td>Kerin O’Keefe</td>\n",
       "      <td>@kerinokeefe</td>\n",
       "      <td>Terre di Giurfo 2013 Belsito Frappato (Vittoria)</td>\n",
       "      <td>Frappato</td>\n",
       "      <td>Terre di Giurfo</td>\n",
       "    </tr>\n",
       "  </tbody>\n",
       "</table>\n",
       "</div>"
      ],
      "text/plain": [
       "   winemag-data-130k-v2.csv   country  \\\n",
       "0                       0.0     Italy   \n",
       "1                       1.0  Portugal   \n",
       "2                       2.0        US   \n",
       "3                       3.0        US   \n",
       "4                       4.0        US   \n",
       "5                       5.0     Spain   \n",
       "6                       6.0     Italy   \n",
       "\n",
       "                                         description  \\\n",
       "0  Aromas include tropical fruit, broom, brimston...   \n",
       "1  This is ripe and fruity, a wine that is smooth...   \n",
       "2  Tart and snappy, the flavors of lime flesh and...   \n",
       "3  Pineapple rind, lemon pith and orange blossom ...   \n",
       "4  Much like the regular bottling from 2012, this...   \n",
       "5  Blackberry and raspberry aromas show a typical...   \n",
       "6  Here's a bright, informal red that opens with ...   \n",
       "\n",
       "                          designation  points  price           province  \\\n",
       "0                        Vulkà Bianco    87.0    NaN  Sicily & Sardinia   \n",
       "1                            Avidagos    87.0   15.0              Douro   \n",
       "2                                 NaN    87.0   14.0             Oregon   \n",
       "3                Reserve Late Harvest    87.0   13.0           Michigan   \n",
       "4  Vintner's Reserve Wild Child Block    87.0   65.0             Oregon   \n",
       "5                        Ars In Vitro    87.0   15.0     Northern Spain   \n",
       "6                             Belsito    87.0   16.0  Sicily & Sardinia   \n",
       "\n",
       "              region_1           region_2         taster_name  \\\n",
       "0                 Etna                NaN       Kerin O’Keefe   \n",
       "1                  NaN                NaN          Roger Voss   \n",
       "2    Willamette Valley  Willamette Valley        Paul Gregutt   \n",
       "3  Lake Michigan Shore                NaN  Alexander Peartree   \n",
       "4    Willamette Valley  Willamette Valley        Paul Gregutt   \n",
       "5              Navarra                NaN   Michael Schachner   \n",
       "6             Vittoria                NaN       Kerin O’Keefe   \n",
       "\n",
       "  taster_twitter_handle                                              title  \\\n",
       "0          @kerinokeefe                  Nicosia 2013 Vulkà Bianco  (Etna)   \n",
       "1            @vossroger      Quinta dos Avidagos 2011 Avidagos Red (Douro)   \n",
       "2           @paulgwine       Rainstorm 2013 Pinot Gris (Willamette Valley)   \n",
       "3                   NaN  St. Julian 2013 Reserve Late Harvest Riesling ...   \n",
       "4           @paulgwine   Sweet Cheeks 2012 Vintner's Reserve Wild Child...   \n",
       "5           @wineschach  Tandem 2011 Ars In Vitro Tempranillo-Merlot (N...   \n",
       "6          @kerinokeefe   Terre di Giurfo 2013 Belsito Frappato (Vittoria)   \n",
       "\n",
       "              variety               winery  \n",
       "0         White Blend              Nicosia  \n",
       "1      Portuguese Red  Quinta dos Avidagos  \n",
       "2          Pinot Gris            Rainstorm  \n",
       "3            Riesling           St. Julian  \n",
       "4          Pinot Noir         Sweet Cheeks  \n",
       "5  Tempranillo-Merlot               Tandem  \n",
       "6            Frappato      Terre di Giurfo  "
      ]
     },
     "execution_count": 2,
     "metadata": {},
     "output_type": "execute_result"
    }
   ],
   "source": [
    "url = \"https://raw.githubusercontent.com/prof-groff/evns462/master/data/winemag-data-130k-v2.tar.gz\"\n",
    "wine_data = pd.read_csv(url, compression='gzip')\n",
    "wine_data.head(7)"
   ]
  },
  {
   "cell_type": "code",
   "execution_count": 3,
   "metadata": {},
   "outputs": [
    {
     "data": {
      "text/plain": [
       "{nan,\n",
       " 'Brazil',\n",
       " 'Greece',\n",
       " 'Italy',\n",
       " 'India',\n",
       " 'Egypt',\n",
       " 'Israel',\n",
       " 'Slovakia',\n",
       " 'Serbia',\n",
       " 'Armenia',\n",
       " 'Cyprus',\n",
       " 'France',\n",
       " 'Austria',\n",
       " 'Bosnia and Herzegovina',\n",
       " 'Spain',\n",
       " 'South Africa',\n",
       " 'Peru',\n",
       " 'Romania',\n",
       " 'Australia',\n",
       " 'Czech Republic',\n",
       " 'Hungary',\n",
       " 'Luxembourg',\n",
       " 'Mexico',\n",
       " 'Switzerland',\n",
       " 'Lebanon',\n",
       " 'Morocco',\n",
       " 'Uruguay',\n",
       " 'England',\n",
       " 'Georgia',\n",
       " 'Bulgaria',\n",
       " 'Portugal',\n",
       " 'China',\n",
       " 'Turkey',\n",
       " 'Argentina',\n",
       " 'Moldova',\n",
       " 'US',\n",
       " 'New Zealand',\n",
       " 'Macedonia',\n",
       " 'Croatia',\n",
       " 'Germany',\n",
       " 'Chile',\n",
       " 'Ukraine',\n",
       " 'Slovenia',\n",
       " 'Canada'}"
      ]
     },
     "execution_count": 3,
     "metadata": {},
     "output_type": "execute_result"
    }
   ],
   "source": [
    "# Let's being by looking at the set of all countries contained in the data\n",
    "set(wine_data['country'])"
   ]
  },
  {
   "cell_type": "code",
   "execution_count": 15,
   "metadata": {
    "collapsed": true
   },
   "outputs": [],
   "source": [
    "# Now let's group the wines by country ...\n",
    "wines_by_country = wine_data.groupby('country')\n",
    "# .. and pull out the US wines.\n",
    "US = wines_by_country.get_group('US')['points']"
   ]
  },
  {
   "cell_type": "code",
   "execution_count": 16,
   "metadata": {},
   "outputs": [
    {
     "name": "stdout",
     "output_type": "stream",
     "text": [
      "0.9872928261756897 0.0\n"
     ]
    },
    {
     "name": "stderr",
     "output_type": "stream",
     "text": [
      "/Users/jgroff/anaconda3/lib/python3.6/site-packages/scipy/stats/morestats.py:1326: UserWarning: p-value may not be accurate for N > 5000.\n",
      "  warnings.warn(\"p-value may not be accurate for N > 5000.\")\n"
     ]
    }
   ],
   "source": [
    "# IS THE US WINE DATA NORMALLY DISTRIBUTED:\n",
    "statistic, pvalue = stats.shapiro(US)\n",
    "print(statistic, pvalue)\n",
    "# Note that the pvalue is very small so we must reject the null hypothesis and accept the alternative that the data is \n",
    "# NOT normally distributed. The data is probably just ordinal anyway which procludes using T-tests."
   ]
  },
  {
   "cell_type": "code",
   "execution_count": 18,
   "metadata": {},
   "outputs": [
    {
     "data": {
      "image/png": "[encoded data removed]",
      "text/plain": [
       "<matplotlib.figure.Figure at 0x1a1743e5f8>"
      ]
     },
     "metadata": {},
     "output_type": "display_data"
    },
    {
     "name": "stdout",
     "output_type": "stream",
     "text": [
      "U-statistic: 63386324.0  p-value: 0.543121347551\n"
     ]
    }
   ],
   "source": [
    "# Let's pull out some other countries and test them.\n",
    "AU = wines_by_country.get_group('Australia')['points']\n",
    "plt.hist(US,bins=21,color='b',alpha=1) \n",
    "plt.hist(AU,bins=21,color='r',alpha=1)\n",
    "plt.xlabel('Point Score')\n",
    "plt.ylabel('Frequency')\n",
    "plt.legend(['US','AU'])\n",
    "plt.show()\n",
    "\n",
    "u, p = stats.mannwhitneyu(US, AU, alternative='greater')\n",
    "print('U-statistic:',u,' p-value:',p)"
   ]
  },
  {
   "cell_type": "code",
   "execution_count": 21,
   "metadata": {},
   "outputs": [
    {
     "data": {
      "image/png": "[encoded data removed]",
      "text/plain": [
       "<matplotlib.figure.Figure at 0x1a19f26d68>"
      ]
     },
     "metadata": {},
     "output_type": "display_data"
    },
    {
     "name": "stdout",
     "output_type": "stream",
     "text": [
      "U-statistic: 578771773.5  p-value: 1.0\n"
     ]
    }
   ],
   "source": [
    "FR = wines_by_country.get_group('France')['points']\n",
    "plt.hist(US,bins=21,color='b',alpha=1) \n",
    "plt.hist(FR,bins=21,color='r',alpha=1)\n",
    "plt.xlabel('Point Score')\n",
    "plt.ylabel('Frequency')\n",
    "plt.legend(['US','FR'])\n",
    "plt.show()\n",
    "\n",
    "u, p = stats.mannwhitneyu(US, FR, alternative='greater')\n",
    "print('U-statistic:',u,' p-value:',p)"
   ]
  },
  {
   "cell_type": "code",
   "execution_count": 23,
   "metadata": {},
   "outputs": [
    {
     "data": {
      "image/png": "[encoded data removed]",
      "text/plain": [
       "<matplotlib.figure.Figure at 0x1a1745fa58>"
      ]
     },
     "metadata": {},
     "output_type": "display_data"
    },
    {
     "name": "stdout",
     "output_type": "stream",
     "text": [
      "U-statistic: 222623606.0  p-value: 1.93513144676e-207\n"
     ]
    }
   ],
   "source": [
    "SP = wines_by_country.get_group('Spain')['points']\n",
    "plt.hist(US,bins=21,color='b',alpha=1) \n",
    "plt.hist(SP,bins=21,color='r',alpha=1)\n",
    "plt.xlabel('Point Score')\n",
    "plt.ylabel('Frequency')\n",
    "plt.legend(['US','SP'])\n",
    "plt.show()\n",
    "\n",
    "u, p = stats.mannwhitneyu(US, SP, alternative='greater')\n",
    "print('U-statistic:',u,' p-value:',p)"
   ]
  },
  {
   "cell_type": "code",
   "execution_count": 24,
   "metadata": {},
   "outputs": [
    {
     "data": {
      "image/png": "[encoded data removed]",
      "text/plain": [
       "<matplotlib.figure.Figure at 0x1a169a7278>"
      ]
     },
     "metadata": {},
     "output_type": "display_data"
    },
    {
     "name": "stdout",
     "output_type": "stream",
     "text": [
      "U-statistic: 541434236.0  p-value: 0.000231253281612\n"
     ]
    }
   ],
   "source": [
    "IT = wines_by_country.get_group('Italy')['points']\n",
    "plt.hist(US,bins=21,color='b',alpha=1) \n",
    "plt.hist(IT,bins=21,color='r',alpha=1)\n",
    "plt.xlabel('Point Score')\n",
    "plt.ylabel('Frequency')\n",
    "plt.legend(['US','IT'])\n",
    "plt.show()\n",
    "\n",
    "u, p = stats.mannwhitneyu(US, IT, alternative='greater')\n",
    "print('U-statistic:',u,' p-value:',p)"
   ]
  },
  {
   "cell_type": "code",
   "execution_count": null,
   "metadata": {
    "collapsed": true
   },
   "outputs": [],
   "source": []
  }
 ],
 "metadata": {
  "kernelspec": {
   "display_name": "Python 3",
   "language": "python",
   "name": "python3"
  },
  "language_info": {
   "codemirror_mode": {
    "name": "ipython",
    "version": 3
   },
   "file_extension": ".py",
   "mimetype": "text/x-python",
   "name": "python",
   "nbconvert_exporter": "python",
   "pygments_lexer": "ipython3",
   "version": "3.6.3"
  }
 },
 "nbformat": 4,
 "nbformat_minor": 2
}
