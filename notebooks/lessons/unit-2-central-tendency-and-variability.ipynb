{
 "cells": [
  {
   "cell_type": "markdown",
   "metadata": {
    "_cell_guid": "cf40190e-4ebf-4a2e-8e5b-1d30164f9c74",
    "_uuid": "e73e536b1c5b44bfe0015cfdb2e4d031d6d4cbeb"
   },
   "source": [
    "## Overview\n",
    "This unit deals with so-called descriptive statistics. These are calculated values that summarize aspects of a data set. First we will focus on measures of central tendency, which as the name suggests, are statistics that aim to estimate the center of the data set around which (usually) most of the data values occur. Then, we will focus on measures of variability. These statistics reflect how spread out the data is in relation to other data points or the center of the data set. Measures of central tendency and variability require the data to have interval or ratio scales. After this notebook you will know:\n",
    "* how to calculate sample mean, median, and mode and what each of these measures of central tendency tells you.\n",
    "* how to calculate sample variance and standard deviation.\n",
    "* how to calculate the z scores and determine the probability of a given z-score using a z-table.\n",
    "* how to calculate standard error of a sample mean.\n",
    "* how to calculate confidence intervals using a z-score for a given confidence level (&alpha; level)."
   ]
  },
  {
   "cell_type": "code",
   "execution_count": 1,
   "metadata": {
    "_cell_guid": "25dc6e9f-b95d-4b28-8cec-1d942d97143f",
    "_uuid": "099c83ee31e713c1abfdf52cd747ee731a951747",
    "collapsed": true
   },
   "outputs": [],
   "source": [
    "# Python uses packages to simplify data manipulation and analysis. Three of the most important packages\n",
    "# are called Numpy, Pandas, and Matplotlib\n",
    "import numpy as np # linear algebra and data processing\n",
    "import pandas as pd # data processing and file I/O (e.g. pd.read_csv)\n",
    "import matplotlib.pyplot as plt # for ploting data\n",
    "import seaborn as sns # makes even nicer plots (might use, don't know)"
   ]
  },
  {
   "cell_type": "markdown",
   "metadata": {
    "_cell_guid": "b3296b0c-eb2f-4886-b54b-4a8cd12dbdd7",
    "_uuid": "c070713f2c711df50418f4137e60055b12dab7ab"
   },
   "source": [
    "The following cell will import the WineEnthusiast data set using pandas. The data is linked to above and is formated as a CSV (comma-separated-values) file. Such a file could be opend in Excel but here we simply load the file into a pandas data structure called a dataframe and print out the first couple rows of the dataframe."
   ]
  },
  {
   "cell_type": "code",
   "execution_count": 2,
   "metadata": {
    "_cell_guid": "bf24efc1-e20f-4817-bd72-52ebe0ca96a0",
    "_uuid": "eb3e15689e95e9c1118ec39a48b2497af59e3b23",
    "collapsed": true
   },
   "outputs": [],
   "source": [
    "url = \"https://raw.githubusercontent.com/prof-groff/evns462/master/data/winemag-data-130k-v2.tar.gz\"\n",
    "wine_data = pd.read_csv(url, compression='gzip')"
   ]
  },
  {
   "cell_type": "markdown",
   "metadata": {
    "_cell_guid": "6947b130-e149-44f0-bb45-f36a88787ce0",
    "_uuid": "3f5284503c71ef3b19997b3f9a30d20b82ca657f"
   },
   "source": [
    "## Measures of Central Tendency\n",
    "The following definitions of mean, median, and mode state in words how each is calculated. \n",
    "* **Mean:** The mean of a data set is the average value. Is that circular? Let me state this in the form of an algorithm. To find the mean of a data set first sum up all of the values in the data set then divide by the number of data points or examples in the data set. When we find or know the mean of an entire population we call that mean a parameter of the population and in is assigned the symbol &mu;. When the mean is of a sample it is a statistic of the sample ans is assigned the symbol x&#772;.\n",
    "* **Median:** The median of a data set is simply the data point that occurs exactly in the middle of the data set. To find the median first the data needs to be sorted and listed in ascending or descending order. Then if there is an odd number of data points in the set the median is in the exact middle of this list. If there is an even number of data points in the list then the median is the average of the two middle values in the list.\n",
    "* **Mode:** The mode is the value in a data set that is repeated the most often. \n",
    "Below the mean, median, and mode are calculated for a dummy data set. "
   ]
  },
  {
   "cell_type": "code",
   "execution_count": 3,
   "metadata": {
    "_cell_guid": "d4bb2a08-fe1d-4653-8d24-019911dcd7bb",
    "_uuid": "025faf9721bde2a423a7dc279bd435b74233f47f"
   },
   "outputs": [
    {
     "name": "stdout",
     "output_type": "stream",
     "text": [
      "sum:  48\n",
      "count:  11\n",
      "mean:  4.36363636364\n",
      "mean:  4.36363636364\n",
      "sorted x:  [1 2 3 3 3 4 4 5 6 8 9]\n",
      "index of middle:  5\n",
      "median:  4\n",
      "median:  4\n",
      "mode:  3\n",
      "mode:  3\n"
     ]
    }
   ],
   "source": [
    "import scipy.stats as stats # some useful stuff\n",
    "\n",
    "x = np.array([2, 5, 3, 8, 6, 3, 4, 1, 9, 4, 3])\n",
    "# find the mean\n",
    "sum_x = x.sum()\n",
    "length_x = len(x)\n",
    "print(\"sum: \", sum_x)\n",
    "print(\"count: \", length_x)\n",
    "print(\"mean: \", sum_x/length_x)\n",
    "print(\"mean: \", x.mean())\n",
    "\n",
    "idx_middle = length_x//2\n",
    "x_sorted = np.sort(x)\n",
    "print(\"sorted x: \", x_sorted)\n",
    "print(\"index of middle: \", idx_middle)\n",
    "print(\"median: \", x_sorted[idx_middle])\n",
    "print(\"median: \", np.median(x).astype(int))\n",
    "\n",
    "from collections import Counter\n",
    "x_counts = Counter(x)\n",
    "print(\"mode: \", x_counts.most_common(1)[0][0])\n",
    "print(\"mode: \", stats.mode(x).mode[0])"
   ]
  },
  {
   "cell_type": "markdown",
   "metadata": {
    "_cell_guid": "a870ca15-2539-4ee0-a02f-3bbfc58dd2cb",
    "_uuid": "c68730a7d4f4fb2ff3c9b9d230ca6f3678b89e5c",
    "collapsed": true
   },
   "source": [
    "## Measure of Central Tendancy Continued\n",
    "Interestingly, a normal or Gaussian distribution will have the same mean, median, and mode. A distribution (like that for the wine price data) that is skewed right (toward higher prices) will have a mean that is greater than the median, which in turn is greater the mode. Let's calculate the mean median and mode of the wine point scores data and the wine price data."
   ]
  },
  {
   "cell_type": "code",
   "execution_count": 4,
   "metadata": {
    "_cell_guid": "f2b15c98-92e0-4f2b-90e1-beb62cc3ae03",
    "_uuid": "fa96a81f7f2ca3b6cb195dd0e0c087b8d30b348b"
   },
   "outputs": [
    {
     "name": "stdout",
     "output_type": "stream",
     "text": [
      "price data stats:\n",
      "mean:  35.363389129985535\n",
      "median:  25.0\n",
      "mode:  0    20.0\n",
      "dtype: float64\n",
      "point score data stats:\n",
      "mean:  88.44713820775404\n",
      "median:  88.0\n",
      "mode:  0    88.0\n",
      "dtype: float64\n"
     ]
    }
   ],
   "source": [
    "prices = wine_data.loc[wine_data.index[wine_data['price']>0], \"price\"] # doing some filtering to remove NaN\n",
    "scores = wine_data[\"points\"]\n",
    "\n",
    "# these are pandas data series so it is easy to get mean, median, and mode using built in methods\n",
    "print(\"price data stats:\")\n",
    "print(\"mean: \", prices.mean())\n",
    "print(\"median: \", prices.median())\n",
    "print(\"mode: \", prices.mode())\n",
    "print(\"point score data stats:\")\n",
    "print(\"mean: \", scores.mean())\n",
    "print(\"median: \", scores.median())\n",
    "print(\"mode: \", scores.mode())"
   ]
  },
  {
   "cell_type": "markdown",
   "metadata": {
    "_cell_guid": "9b5d97b5-9c0c-4a45-b333-36d3bdeecdcc",
    "_uuid": "8520e337989f942369ad861e6aebece17394efe3",
    "collapsed": true
   },
   "source": [
    "## Measures of Variability\n",
    "The following definitions of variance and standard deviation state in words how each is calculated. \n",
    "* **Variance:** The variance of a data set is found by first finding the deviation of each element in the data set from the mean. These deviations are squared and then added together. (Why are they squared?) Finally, the sum of squared deviations is normalized by the number of elements in the population, N,  for a population variance or the number of element in the sample minus one, N-1, for the sample variance. (Why is a sample variance normalized by N-1?)\n",
    "* **Standard Deviation:** Once the variance is in hand, standard deviation is eacy to find. It is simply the square root of the variance. The symbol for population standard deviation is &sigma; while the simple for sample standard deviation is s or sd. \n",
    "\n",
    "Which of the data sets explored above (price and point scores) do you think has a larger standard deviation? Why?"
   ]
  },
  {
   "cell_type": "code",
   "execution_count": 5,
   "metadata": {
    "_cell_guid": "d5690fde-4d81-4f50-93c0-cad681140c71",
    "_uuid": "a256d0a2cc6426f642854fc66a63dd146d37bcf7"
   },
   "outputs": [
    {
     "name": "stdout",
     "output_type": "stream",
     "text": [
      "variance of point scores:  9.23988861404895\n",
      "standard deviation of point scores:  3.0397185090150947\n",
      "variance of prices:  1682.8084319113302\n",
      "standard deviation of prices:  41.022048119411714\n"
     ]
    }
   ],
   "source": [
    "print(\"variance of point scores: \", scores.var(ddof=0)) # normalizing by N-0 (just N) since this is population parameter\n",
    "print(\"standard deviation of point scores: \", scores.std(ddof=0)) # by default N-1 would be used\n",
    "print(\"variance of prices: \", prices.var(ddof=0)) \n",
    "print(\"standard deviation of prices: \", prices.std(ddof=0))"
   ]
  },
  {
   "cell_type": "markdown",
   "metadata": {
    "_cell_guid": "8e280978-7b08-434e-8515-4e008e3336ad",
    "_uuid": "993cd06c22a25428e6556073b1fd73cd4658ace3",
    "collapsed": true
   },
   "source": [
    "## Standard Score (Z-Score)\n",
    "It is often useful to report individual data points drawn from a normal distribution (or other distribution) in standardized unints. This is done by specifying the measurement as a deviation from the population mean and normalized (divided) by the population standard deviation. Of course such a measure is only possible if the population parameters are known or can be reliably estimated.\n",
    "* z = (x - &mu;)/&sigma;\n",
    "\n",
    "Let's assume that height of adult male giraffes is normally distributed with a mean of 18 ft with a standard deviation of 1.5 ft. How many standardized units is Jeffrey Giraffe away from the mean if he is 21 ft tall?"
   ]
  },
  {
   "cell_type": "code",
   "execution_count": 6,
   "metadata": {
    "_cell_guid": "b4ee960e-db0e-4aec-b0f1-e21f16a29f54",
    "_uuid": "b45aca94d16b4b238e0296fe4cf2a2c193a9ccf1"
   },
   "outputs": [
    {
     "name": "stdout",
     "output_type": "stream",
     "text": [
      "2.0\n"
     ]
    }
   ],
   "source": [
    "z = (21-18)/1.5 \n",
    "print(z)"
   ]
  },
  {
   "cell_type": "markdown",
   "metadata": {
    "_cell_guid": "db953dcf-8d5a-4aee-886b-fc0138bd96ea",
    "_uuid": "4fa5499cbaddb293954cd709703180aea42e7db7"
   },
   "source": [
    "This means that the height of Jeffrey Giraffe is two standard deviations from the population mean. What is the probability of finding such a tall giraffe in the population? If we normalize a normal distribution with mean 0 and standard deviation 1 (that is use standardized units) so the area under the curve is one, the probability of finding an element in a population above (or below) a given z-score can be calculated by finding the area under the curve for the the part of the distribution that is a distance equal to or further than the z-score from zero. Perhaps a picture will help. Below is the probability density function for a normal distribution with mean zero and a standard deviation of 1. The line at x = 2.0 shows the z-score for Jeffrey Giraffe. The area under the curve to the right of this line is the probability of finding such a tall Giraffe in the population. What is this probability. In practice we can look it up using a table called a z-table. "
   ]
  },
  {
   "cell_type": "code",
   "execution_count": 7,
   "metadata": {
    "_cell_guid": "00b1e687-8873-4151-bf23-863a0d600196",
    "_uuid": "200cd6e27482d2c118358a24edacc2b991cd4708"
   },
   "outputs": [
    {
     "data": {
      "image/png": "[encoded data removed]",
      "text/plain": [
       "<matplotlib.figure.Figure at 0x7f1ba5df8c88>"
      ]
     },
     "metadata": {},
     "output_type": "display_data"
    }
   ],
   "source": [
    "import matplotlib.mlab as mlab\n",
    "mu = 0\n",
    "sigma = 1\n",
    "x = np.linspace(mu - 4*sigma, mu + 4*sigma, 100)\n",
    "plt.plot(x,mlab.normpdf(x, mu, sigma))\n",
    "plt.xlabel('z')\n",
    "plt.ylabel('probability density')\n",
    "plt.ylim([0, 0.4])\n",
    "plt.plot([2,2],[0,0.4],color='r')\n",
    "plt.show()"
   ]
  },
  {
   "cell_type": "markdown",
   "metadata": {
    "_cell_guid": "10cca2fc-bc78-46b0-a4b5-4e3908c90617",
    "_uuid": "86737f8db76a51ca47d2aa570f81af414eaf712f",
    "collapsed": true
   },
   "source": [
    "Using [this table](http://www.stat.ufl.edu/~athienit/Tables/Ztable.pdf) gives the probability to the left of the red line as 0.9772. So, the probability to the right of the red line is 1-0.9772 = 0.0228 or 2.28%. Jeffrey Giraffe's height  is pretty rare. "
   ]
  },
  {
   "cell_type": "markdown",
   "metadata": {
    "_cell_guid": "0ee8e8b3-a526-4792-b46f-427de753b50f",
    "_uuid": "4524d1242b787bf10a7233d8b5e1f0d412e8eeec"
   },
   "source": [
    "## Sampling Distributions and Margin of Error\n",
    "One thing we saw previously is that even if the population distributoin is non-normal, the sampling distribution of the mean (the distribution of all possible sample means) approaches a normal distribution as the sample size increases (Unit 1). Moreover, the mean of all sample mean is the same as the population mean and the standard deviation of the sample means is related to the standard deviation of the population and the sample size and is equal to a statistic called the standard error, SE = &sigma;/sqrt(N). What is the sample mean and standard error for the heights of a sample of giraffe's taken from Jeffrey Giraffe's herd? There heights were 21, 19, 17, 20, 18, and 19 ft. Recall that the population standard deviation is 1.5 ft. [](http://)"
   ]
  },
  {
   "cell_type": "code",
   "execution_count": 8,
   "metadata": {
    "_cell_guid": "98844191-e487-4909-b2c7-3c89425d66ba",
    "_uuid": "ca7782a704da0b49601342938937648f73e5c919"
   },
   "outputs": [
    {
     "name": "stdout",
     "output_type": "stream",
     "text": [
      "SE =  0.612372435696\n",
      "x_bar =  19.0  +/-  0.612372435696\n"
     ]
    }
   ],
   "source": [
    "x = np.array([21,19,17,20,18,19])\n",
    "x_bar = x.mean()\n",
    "N = len(x)\n",
    "SE = 1.5/np.sqrt(N)\n",
    "print(\"SE = \", SE)\n",
    "print(\"x_bar = \", x_bar, \" +/- \", SE)"
   ]
  },
  {
   "cell_type": "markdown",
   "metadata": {
    "_cell_guid": "354de98a-1ced-4b01-8393-42d238d75aa4",
    "_uuid": "13505d6f443da3e3eabcbfb8ce4c3a6582e3bc77"
   },
   "source": [
    "* Notice that the true population mean of 18ft is not in the range of the most likely (within one SE) range of values for this sample mean. Another way to report this is using something called a margin of error. Using the [z table](http://www.stat.ufl.edu/~athienit/Tables/Ztable.pdf) we see that a z-score of 1.96 leaves out a tail probability of 2.5% on the high end and a z-score of -1.96 leaves out a tail probability of 2.5% on the low end. Thus, if we don't care about the direction of departure, a z-score of 1.96 in either direction is the critical value beyond which there is only a 5% change of getting a sample statistic. In statistician speak, the 95% (&alpha; = 0.05) confidence interval for the sample mean is the range of values within 1.96 standard errors of the sample mean."
   ]
  },
  {
   "cell_type": "code",
   "execution_count": 9,
   "metadata": {
    "_cell_guid": "0bdcc272-9c67-4d0f-bfaa-66b52557b556",
    "_uuid": "e1114fed120f310060815b6fbd1b7489ab4c38ae"
   },
   "outputs": [
    {
     "name": "stdout",
     "output_type": "stream",
     "text": [
      "x_bar =  19.0 , 95% CI [ 17.799750026 ,  20.200249974 ]\n"
     ]
    }
   ],
   "source": [
    "x_bar_low = x_bar - 1.96*SE\n",
    "x_bar_high = x_bar + 1.96*SE\n",
    "print(\"x_bar = \", x_bar, \", 95% CI [\", x_bar_low, \", \", x_bar_high, \"]\")"
   ]
  },
  {
   "cell_type": "code",
   "execution_count": null,
   "metadata": {
    "collapsed": true
   },
   "outputs": [],
   "source": []
  }
 ],
 "metadata": {
  "kernelspec": {
   "display_name": "Python 3",
   "language": "python",
   "name": "python3"
  },
  "language_info": {
   "codemirror_mode": {
    "name": "ipython",
    "version": 3
   },
   "file_extension": ".py",
   "mimetype": "text/x-python",
   "name": "python",
   "nbconvert_exporter": "python",
   "pygments_lexer": "ipython3",
   "version": "3.5.4"
  }
 },
 "nbformat": 4,
 "nbformat_minor": 1
}
