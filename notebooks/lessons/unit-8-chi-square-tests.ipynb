{
 "cells": [
  {
   "cell_type": "markdown",
   "metadata": {
    "_cell_guid": "cf40190e-4ebf-4a2e-8e5b-1d30164f9c74",
    "_uuid": "e73e536b1c5b44bfe0015cfdb2e4d031d6d4cbeb"
   },
   "source": [
    "## Overview\n",
    "We've spent a lot of time discussing how to do inferential statistics on numerical data that is of a ratio, interval, or ordinal scale. Now let's talk about making inferences from nominal, that is, categorical data. A popular type of test statistic to calculate for such data is called chi square. In this notebook, we will take a look at two different, but related, chi square tests. The first is called the chi-square goodness-of-fit test and is used to test if a sample of nominal data matches expectations or a population. The second is called the chi-square test for homogeneity and tests to see if frequency tables are distributed equally across different populations. This second test can also be applied to see if categorical variables within the same population are independent or not. In this formulation it is called the chi-square test for independence. \n",
    "\n",
    "After this notebook you will know:\n",
    "* how to construct frequency tables for nominal/categorical data.\n",
    "* how to do a chi-square goodness-of-fit test.\n",
    "* how to do a chi-quare test for homogeneity. \n",
    "\n",
    "Note: A chi-square test may not be valid if more than 20% of the cells in your contingency table have expected values less than 5."
   ]
  },
  {
   "cell_type": "markdown",
   "metadata": {
    "_cell_guid": "b3296b0c-eb2f-4886-b54b-4a8cd12dbdd7",
    "_uuid": "c070713f2c711df50418f4137e60055b12dab7ab"
   },
   "source": [
    "### About the Data\n",
    "Name: ufo.csv\n",
    "\n",
    "Title: UFO Sightings Dataset\n",
    "\n",
    "Source: www.uforesearchdb.com\n",
    "\n",
    "Description: UFO sightings in the US (3437 events). Date, Shape, Location, State, Country, and Source. <br>\n",
    "Variables/Labels <br>\n",
    "Event.Date <br>\n",
    "Shape<br>\n",
    "Location<br>\n",
    "State<br>\n",
    "Country<br>\n",
    "Source (NUFORC = Nationaol UFO Reporting Center, MUFON = Mutual UFO Network)<br>\n",
    "USA (1=USA, 0=Not USA)<br>\n",
    "\n",
    "The following cell will import the UFO data into a pandas dataframe."
   ]
  },
  {
   "cell_type": "code",
   "execution_count": 1,
   "metadata": {
    "_cell_guid": "bf24efc1-e20f-4817-bd72-52ebe0ca96a0",
    "_uuid": "eb3e15689e95e9c1118ec39a48b2497af59e3b23"
   },
   "outputs": [],
   "source": [
    "import numpy as np\n",
    "import pandas as pd\n",
    "import matplotlib.pyplot as plt\n",
    "import seaborn as sns\n",
    "import scipy.stats as stats # some useful stuff\n",
    "url = \"https://raw.githubusercontent.com/prof-groff/evns462/master/data/ufo.csv\"\n",
    "ufo = pd.read_csv(url)"
   ]
  },
  {
   "cell_type": "code",
   "execution_count": 2,
   "metadata": {},
   "outputs": [
    {
     "name": "stdout",
     "output_type": "stream",
     "text": [
      "(3646, 7)\n"
     ]
    },
    {
     "data": {
      "text/html": [
       "<div>\n",
       "<table border=\"1\" class=\"dataframe\">\n",
       "  <thead>\n",
       "    <tr style=\"text-align: right;\">\n",
       "      <th></th>\n",
       "      <th>Event.Date</th>\n",
       "      <th>Shape</th>\n",
       "      <th>Location</th>\n",
       "      <th>State</th>\n",
       "      <th>Country</th>\n",
       "      <th>Source</th>\n",
       "      <th>USA</th>\n",
       "    </tr>\n",
       "  </thead>\n",
       "  <tbody>\n",
       "    <tr>\n",
       "      <th>0</th>\n",
       "      <td>6/18/2016</td>\n",
       "      <td>Boomerang/V-Shaped</td>\n",
       "      <td>South Barrington</td>\n",
       "      <td>IL</td>\n",
       "      <td>USA</td>\n",
       "      <td>NUFORC</td>\n",
       "      <td>1</td>\n",
       "    </tr>\n",
       "    <tr>\n",
       "      <th>1</th>\n",
       "      <td>6/17/2016</td>\n",
       "      <td>Boomerang/V-Shaped</td>\n",
       "      <td>Kuna</td>\n",
       "      <td>ID</td>\n",
       "      <td>USA</td>\n",
       "      <td>NUFORC</td>\n",
       "      <td>1</td>\n",
       "    </tr>\n",
       "    <tr>\n",
       "      <th>2</th>\n",
       "      <td>5/30/2016</td>\n",
       "      <td>Boomerang/V-Shaped</td>\n",
       "      <td>Lake Stevens</td>\n",
       "      <td>WA</td>\n",
       "      <td>USA</td>\n",
       "      <td>NUFORC</td>\n",
       "      <td>1</td>\n",
       "    </tr>\n",
       "    <tr>\n",
       "      <th>3</th>\n",
       "      <td>5/27/2016</td>\n",
       "      <td>Boomerang/V-Shaped</td>\n",
       "      <td>Gerber</td>\n",
       "      <td>CA</td>\n",
       "      <td>USA</td>\n",
       "      <td>NUFORC</td>\n",
       "      <td>1</td>\n",
       "    </tr>\n",
       "    <tr>\n",
       "      <th>4</th>\n",
       "      <td>5/24/2016</td>\n",
       "      <td>Boomerang/V-Shaped</td>\n",
       "      <td>Camdenton</td>\n",
       "      <td>MO</td>\n",
       "      <td>USA</td>\n",
       "      <td>NUFORC</td>\n",
       "      <td>1</td>\n",
       "    </tr>\n",
       "  </tbody>\n",
       "</table>\n",
       "</div>"
      ],
      "text/plain": [
       "  Event.Date                Shape           Location State Country  Source  \\\n",
       "0  6/18/2016  Boomerang/V-Shaped   South Barrington    IL     USA   NUFORC   \n",
       "1  6/17/2016  Boomerang/V-Shaped               Kuna    ID     USA   NUFORC   \n",
       "2  5/30/2016  Boomerang/V-Shaped       Lake Stevens    WA     USA   NUFORC   \n",
       "3  5/27/2016  Boomerang/V-Shaped             Gerber    CA     USA   NUFORC   \n",
       "4  5/24/2016  Boomerang/V-Shaped          Camdenton    MO     USA   NUFORC   \n",
       "\n",
       "   USA  \n",
       "0    1  \n",
       "1    1  \n",
       "2    1  \n",
       "3    1  \n",
       "4    1  "
      ]
     },
     "execution_count": 2,
     "metadata": {},
     "output_type": "execute_result"
    }
   ],
   "source": [
    "# let's peak at the data.\n",
    "print(ufo.shape)\n",
    "ufo.head(5)"
   ]
  },
  {
   "cell_type": "markdown",
   "metadata": {},
   "source": [
    "### Constructing Frequency Tables and Contingency Tables\n",
    "\n",
    "In a goodnees-of-fit chi-square test one compares the frequncy of various categories to an expected freuency based on some assumption about the population or actual population frequencies. Below we will compare the frequency of six different categories of UFO shape in CA to the expected frequencies of these UFO shapes estimated from the entire data set.\n",
    "\n",
    "In a chi-square test for independence or homogeneity one constructs a contingency table with two or more rows corresponding to different sub-groups and columns corresponding to different values of a categorical/nominal variable. The test assesses whether or not the distribution of frequencies is independent of the sub-group designation. Below we will compare the frequency of six different categories of UFO shape in CA to the frequency of these same six shapes in CA."
   ]
  },
  {
   "cell_type": "code",
   "execution_count": 4,
   "metadata": {},
   "outputs": [
    {
     "name": "stdout",
     "output_type": "stream",
     "text": [
      "UFO shape counts:\n",
      "Counter({'Lights Only ': 1023, 'Circle ': 451, 'Orb/Sphere ': 347, 'Triangle ': 336, 'Fireball ': 294, 'Unknown ': 257, 'Other ': 239, 'Disk ': 178, 'Cigar/Cylinder ': 138, 'Oval ': 129, 'Rectangle ': 68, 'Diamond ': 57, 'Boomerang/V-Shaped ': 38, 'Teardrop ': 36, 'Egg ': 19, 'Cone ': 17, 'Cross ': 14, 'Pyramid ': 2, 'Square ': 1, 'Missile/Rocket ': 1, 'Sphere ': 1})\n",
      "Total UFO count: 3646\n",
      "Most common shapes: {'Lights Only ': 1023, 'Orb/Sphere ': 347, 'Circle ': 451, 'Fireball ': 294, 'Triangle ': 336}\n",
      "['Lights Only ', 'Orb/Sphere ', 'Circle ', 'Fireball ', 'Triangle ']\n"
     ]
    }
   ],
   "source": [
    "# let's find the frequency of the various shapes\n",
    "import collections\n",
    "ufo_shape_counts = collections.Counter(ufo['Shape'])\n",
    "print('UFO shape counts:')\n",
    "print(ufo_shape_counts)\n",
    "\n",
    "# this is the total of all shape counts\n",
    "ufo_shape_counts_sum = sum(ufo_shape_counts.values())\n",
    "print('Total UFO count:', ufo_shape_counts_sum)\n",
    "\n",
    "# let's find the five most common shapes\n",
    "ufo_common_shape_counts = dict(ufo_shape_counts.most_common(5))\n",
    "print('Most common shapes:', ufo_common_shape_counts)\n",
    "\n",
    "# and just the names of these shapes without the counts\n",
    "ufo_common_shape_keys = list(ufo_common_shape_counts.keys())\n",
    "print(ufo_common_shape_keys)"
   ]
  },
  {
   "cell_type": "code",
   "execution_count": 5,
   "metadata": {},
   "outputs": [],
   "source": [
    "# let's get only the UFO data for California and Texas\n",
    "ufos_by_state = ufo.groupby('State')\n",
    "ufo_ca = ufos_by_state.get_group('CA ')\n",
    "ufo_tx = ufos_by_state.get_group('TX ')"
   ]
  },
  {
   "cell_type": "code",
   "execution_count": 6,
   "metadata": {},
   "outputs": [
    {
     "name": "stdout",
     "output_type": "stream",
     "text": [
      "CA: {'Lights Only ': 92, 'Orb/Sphere ': 32, 'Circle ': 35, 'Triangle ': 25, 'Fireball ': 50}\n",
      "TX: {'Lights Only ': 26, 'Orb/Sphere ': 10, 'Circle ': 9, 'Triangle ': 10, 'Fireball ': 6}\n"
     ]
    }
   ],
   "source": [
    "# now let's construct frequency tables (as dictionaries) for the most common UFO shapes in CA and TX\n",
    "ufo_ca_shape_counts = collections.Counter(ufo_ca['Shape'])\n",
    "ufo_ca_shape_counts_sum = sum(ufo_ca_shape_counts.values())\n",
    "\n",
    "ufo_tx_shape_counts = collections.Counter(ufo_tx['Shape'])\n",
    "ufo_tx_shape_counts_sum = sum(ufo_tx_shape_counts.values())\n",
    "\n",
    "ufo_ca_common_shape_counts = dict([(key, ufo_ca_shape_counts[key]) for key in ufo_common_shape_keys])\n",
    "print('CA:', ufo_ca_common_shape_counts)\n",
    "\n",
    "ufo_tx_common_shape_counts = dict([(key, ufo_tx_shape_counts[key]) for key in ufo_common_shape_keys])\n",
    "print('TX:', ufo_tx_common_shape_counts)"
   ]
  },
  {
   "cell_type": "code",
   "execution_count": 7,
   "metadata": {},
   "outputs": [
    {
     "name": "stdout",
     "output_type": "stream",
     "text": [
      "All: {'Orb/Sphere ': 347, 'Circle ': 451, 'Fireball ': 294, 'Lights Only ': 1023, 'Triangle ': 336, 'Other ': 1195}\n",
      "CA: {'Orb/Sphere ': 32, 'Circle ': 35, 'Fireball ': 50, 'Lights Only ': 92, 'Triangle ': 25, 'Other ': 123}\n",
      "TX: {'Orb/Sphere ': 10, 'Circle ': 9, 'Fireball ': 6, 'Lights Only ': 26, 'Triangle ': 10, 'Other ': 39}\n"
     ]
    }
   ],
   "source": [
    "# and, let's add an Other category to hold the sum for the rest of the shapes\n",
    "all_other_count = ufo_shape_counts_sum - sum(ufo_common_shape_counts.values())\n",
    "ca_other_count = ufo_ca_shape_counts_sum - sum(ufo_ca_common_shape_counts.values())\n",
    "tx_other_count = ufo_tx_shape_counts_sum - sum(ufo_tx_common_shape_counts.values())\n",
    "\n",
    "ufo_common_shape_counts['Other '] = all_other_count\n",
    "ufo_ca_common_shape_counts['Other '] = ca_other_count\n",
    "ufo_tx_common_shape_counts['Other '] = tx_other_count\n",
    "print('All:', ufo_common_shape_counts)\n",
    "print('CA:', ufo_ca_common_shape_counts)\n",
    "print('TX:', ufo_tx_common_shape_counts)"
   ]
  },
  {
   "cell_type": "code",
   "execution_count": 9,
   "metadata": {},
   "outputs": [
    {
     "name": "stdout",
     "output_type": "stream",
     "text": [
      "Shapes: ['Lights Only ' 'Orb/Sphere ' 'Circle ' 'Fireball ' 'Triangle ' 'Other ']\n",
      "All Counts: [1023  347  451  294  336 1195]\n",
      "CA Counts: [ 92  32  35  50  25 123]\n",
      "TX Counts: [26 10  9  6 10 39]\n"
     ]
    }
   ],
   "source": [
    "# NOTE: the order of items in two different dictionaries is not gauranteed to be the same even if the set of keys are the same.\n",
    "# so let's pull out the values as a lists in the same order as ufo_common_shapes_keys with 'Other ' at the end\n",
    "# I'm also going to shorten names\n",
    "shapes = np.array(ufo_common_shape_keys + ['Other '])\n",
    "print('Shapes:', shapes)\n",
    "all_counts = np.array([ufo_common_shape_counts[key] for key in shapes])\n",
    "ca_counts = np.array([ufo_ca_common_shape_counts[key] for key in shapes])\n",
    "tx_counts = np.array([ufo_tx_common_shape_counts[key] for key in shapes])\n",
    "print('All Counts:', all_counts)\n",
    "print('CA Counts:', ca_counts)\n",
    "print('TX Counts:', tx_counts)"
   ]
  },
  {
   "cell_type": "markdown",
   "metadata": {},
   "source": [
    "### Chi-Square Test for Goodness-of-Fit\n",
    "\n",
    "* H<sub>0</sub>: The distribution of UFO shapes in CA is no different than the global distribution\n",
    "* H<sub>A</sub>: The distribution of UFO shapes in CA is different than the global distribution\n",
    "\n",
    "The test statistic for this hypothesis test is\n",
    "\n",
    "X<sup>2</sup> = SUM((expected - observed)^2/expected) \n",
    "\n",
    "there are k-1 degrees of freedom, where k is the number of categories.\n",
    "\n",
    "**What is the number of degrees of freedom and the X<sup>2</sup>-critical value for the data (&alpha; = 0.05)?**\n",
    "\n",
    "[chi-square table](https://www.medcalc.org/manual/chi-square-table.php)\n",
    "\n",
    "df = k-1 = 6-1 = 5\n",
    "\n",
    "X<sup>2</sup>-critical = 11.070"
   ]
  },
  {
   "cell_type": "code",
   "execution_count": 10,
   "metadata": {},
   "outputs": [
    {
     "name": "stdout",
     "output_type": "stream",
     "text": [
      "Shapes: ['Lights Only ' 'Orb/Sphere ' 'Circle ' 'Fireball ' 'Triangle ' 'Other ']\n",
      "CA Obs.: [ 92  32  35  50  25 123]\n",
      "CA Exp.: [ 100.16758091   33.97668678   44.15990126   28.78716402   32.89961602\n",
      "  117.00905101]\n",
      "X-square: 20.5159411342\n"
     ]
    }
   ],
   "source": [
    "all_freq = all_counts/sum(all_counts)\n",
    "# expected frequency of CA shapes\n",
    "ca_exp = all_freq*sum(ca_counts)\n",
    "print('Shapes:', shapes)\n",
    "print('CA Obs.:', ca_counts)\n",
    "print('CA Exp.:', ca_exp)\n",
    "\n",
    "x_square = sum(((ca_counts-ca_exp)**2)/ca_exp)\n",
    "print('X-square:', x_square)"
   ]
  },
  {
   "cell_type": "code",
   "execution_count": 11,
   "metadata": {},
   "outputs": [
    {
     "data": {
      "image/png": "[encoded data removed]",
      "text/plain": [
       "<matplotlib.figure.Figure at 0x7f3ae8b36ef0>"
      ]
     },
     "metadata": {},
     "output_type": "display_data"
    }
   ],
   "source": [
    "plt.bar(shapes,ca_counts,color='b',alpha=0.5)\n",
    "plt.bar(shapes,ca_exp,color='r',alpha=0.5)\n",
    "plt.xticks(rotation=90)\n",
    "plt.ylabel('Frequency')\n",
    "plt.legend(['Obs','Exp'])\n",
    "plt.show()"
   ]
  },
  {
   "cell_type": "code",
   "execution_count": 12,
   "metadata": {},
   "outputs": [
    {
     "name": "stdout",
     "output_type": "stream",
     "text": [
      "20.5159411342 0.000999594427938\n"
     ]
    }
   ],
   "source": [
    "# doing the same with a built in python function\n",
    "from scipy.stats import chisquare\n",
    "statistic, pvalue = chisquare(f_obs=ca_counts, f_exp=ca_exp)\n",
    "print(statistic, pvalue)"
   ]
  },
  {
   "cell_type": "markdown",
   "metadata": {},
   "source": [
    "### Interpreting the Results\n",
    "\n",
    "The X<sup>2</sup> statistic is greater than X<sup>2</sup>-critical. So, we reject the null hypothesis and accept the alternative that the distribution of UFO shapes observed in CA is different than the global distribution of UFO shapes. In fact, the pvalue given by the python chisquare function is less than 0.001. So there is less than a 0.1% chance of a false positive in this case (type-1 error, erroneousy accepting the alternative hypothesis). "
   ]
  },
  {
   "cell_type": "markdown",
   "metadata": {},
   "source": [
    "### Chi-Square Test for Independence (or Homogeneity)\n",
    "\n",
    "* H<sub>0</sub>: The distribution of UFO shapes in CA is no different than distribution in TX. Or, the distribution of UFO shapes is independent of the state (CA or TX).\n",
    "* H<sub>A</sub>: The distribution of UFO shapes in CA is different than the distribution in TX. Or, the distribution of UFO shapes depends on the state (CA or TX).\n",
    "\n",
    "The test statistic for this hypothesis test is\n",
    "\n",
    "X<sup>2</sup> = SUM((expected - observed)^2/expected),\n",
    "\n",
    "where the sum is over all r sub-groups and c different values of the categorical variable, there are (r-1)(c-1) degrees of freedom, and\n",
    "\n",
    "expected<sub>rc</sub> = n<sub>r</sub>n<sub>c</sub>/n,\n",
    "\n",
    "where n<sub>r</sub> is the total number of observations in sub-group r and n<sub>c</sub> is the total number of observations of category value c.\n",
    "\n",
    "**What is the number of degrees of freedom and the X<sup>2</sup>-critical value for the data (&alpha; = 0.05)?**\n",
    "\n",
    "[chi-square table](https://www.medcalc.org/manual/chi-square-table.php)\n",
    "\n",
    "df = (r-1)(c-1) = (1)(5) = 5\n",
    "\n",
    "X<sup>2</sup>-critical = 11.070"
   ]
  },
  {
   "cell_type": "code",
   "execution_count": 13,
   "metadata": {},
   "outputs": [
    {
     "name": "stdout",
     "output_type": "stream",
     "text": [
      "X-square: 5.60280350541\n",
      "statistics: 5.60280350541 pvalue: 0.346804732996 dof: 5\n"
     ]
    }
   ],
   "source": [
    "# are observed UFO shapes independed of the state CA vs TX?\n",
    "nc = ca_counts+tx_counts\n",
    "n = sum(nc)\n",
    "ca_exp = sum(ca_counts)*nc/n\n",
    "tx_exp = sum(tx_counts)*nc/n\n",
    "\n",
    "x_square = sum(((ca_exp-ca_counts)**2)/ca_exp)+sum(((tx_exp-tx_counts)**2)/tx_exp)\n",
    "print('X-square:', x_square)\n",
    "\n",
    "obs = np.array([ca_counts, tx_counts])\n",
    "statistic, pvalue, dof, exp = stats.chi2_contingency(obs)\n",
    "print('statistics:', statistic, 'pvalue:', pvalue, 'dof:', dof)"
   ]
  },
  {
   "cell_type": "markdown",
   "metadata": {},
   "source": [
    "### Intepreting the Result\n",
    "Since the X-square statistis is less than the critical value we accept the null hypothesis, the observed frequency of various UFO shapes is independent of the state being CA or TX."
   ]
  },
  {
   "cell_type": "code",
   "execution_count": null,
   "metadata": {},
   "outputs": [],
   "source": []
  }
 ],
 "metadata": {
  "kernelspec": {
   "display_name": "Python 3",
   "language": "python",
   "name": "python3"
  },
  "language_info": {
   "codemirror_mode": {
    "name": "ipython",
    "version": 3
   },
   "file_extension": ".py",
   "mimetype": "text/x-python",
   "name": "python",
   "nbconvert_exporter": "python",
   "pygments_lexer": "ipython3",
   "version": "3.5.4"
  }
 },
 "nbformat": 4,
 "nbformat_minor": 1
}
