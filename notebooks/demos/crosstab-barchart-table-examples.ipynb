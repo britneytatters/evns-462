{
 "cells": [
  {
   "cell_type": "markdown",
   "metadata": {},
   "source": [
    "### Crosstab, Barcharts, and Tables\n",
    "\n",
    "This notebook demonstrates how to easily generate contingency tables for chi-square tests for independence and how to generate publication-quality figures from the data."
   ]
  },
  {
   "cell_type": "code",
   "execution_count": 1,
   "metadata": {
    "collapsed": true
   },
   "outputs": [],
   "source": [
    "import pandas as pd\n",
    "import numpy as np\n",
    "import matplotlib.pyplot as plt\n",
    "import scipy.stats as stats"
   ]
  },
  {
   "cell_type": "code",
   "execution_count": 2,
   "metadata": {},
   "outputs": [
    {
     "data": {
      "text/html": [
       "<div>\n",
       "<style>\n",
       "    .dataframe thead tr:only-child th {\n",
       "        text-align: right;\n",
       "    }\n",
       "\n",
       "    .dataframe thead th {\n",
       "        text-align: left;\n",
       "    }\n",
       "\n",
       "    .dataframe tbody tr th {\n",
       "        vertical-align: top;\n",
       "    }\n",
       "</style>\n",
       "<table border=\"1\" class=\"dataframe\">\n",
       "  <thead>\n",
       "    <tr style=\"text-align: right;\">\n",
       "      <th></th>\n",
       "      <th>Event.Date</th>\n",
       "      <th>Shape</th>\n",
       "      <th>Location</th>\n",
       "      <th>State</th>\n",
       "      <th>Country</th>\n",
       "      <th>Source</th>\n",
       "      <th>USA</th>\n",
       "    </tr>\n",
       "  </thead>\n",
       "  <tbody>\n",
       "    <tr>\n",
       "      <th>0</th>\n",
       "      <td>6/18/2016</td>\n",
       "      <td>Boomerang/V-Shaped</td>\n",
       "      <td>South Barrington</td>\n",
       "      <td>IL</td>\n",
       "      <td>USA</td>\n",
       "      <td>NUFORC</td>\n",
       "      <td>1</td>\n",
       "    </tr>\n",
       "    <tr>\n",
       "      <th>1</th>\n",
       "      <td>6/17/2016</td>\n",
       "      <td>Boomerang/V-Shaped</td>\n",
       "      <td>Kuna</td>\n",
       "      <td>ID</td>\n",
       "      <td>USA</td>\n",
       "      <td>NUFORC</td>\n",
       "      <td>1</td>\n",
       "    </tr>\n",
       "    <tr>\n",
       "      <th>2</th>\n",
       "      <td>5/30/2016</td>\n",
       "      <td>Boomerang/V-Shaped</td>\n",
       "      <td>Lake Stevens</td>\n",
       "      <td>WA</td>\n",
       "      <td>USA</td>\n",
       "      <td>NUFORC</td>\n",
       "      <td>1</td>\n",
       "    </tr>\n",
       "    <tr>\n",
       "      <th>3</th>\n",
       "      <td>5/27/2016</td>\n",
       "      <td>Boomerang/V-Shaped</td>\n",
       "      <td>Gerber</td>\n",
       "      <td>CA</td>\n",
       "      <td>USA</td>\n",
       "      <td>NUFORC</td>\n",
       "      <td>1</td>\n",
       "    </tr>\n",
       "    <tr>\n",
       "      <th>4</th>\n",
       "      <td>5/24/2016</td>\n",
       "      <td>Boomerang/V-Shaped</td>\n",
       "      <td>Camdenton</td>\n",
       "      <td>MO</td>\n",
       "      <td>USA</td>\n",
       "      <td>NUFORC</td>\n",
       "      <td>1</td>\n",
       "    </tr>\n",
       "  </tbody>\n",
       "</table>\n",
       "</div>"
      ],
      "text/plain": [
       "  Event.Date                Shape           Location State Country  Source  \\\n",
       "0  6/18/2016  Boomerang/V-Shaped   South Barrington    IL     USA   NUFORC   \n",
       "1  6/17/2016  Boomerang/V-Shaped               Kuna    ID     USA   NUFORC   \n",
       "2  5/30/2016  Boomerang/V-Shaped       Lake Stevens    WA     USA   NUFORC   \n",
       "3  5/27/2016  Boomerang/V-Shaped             Gerber    CA     USA   NUFORC   \n",
       "4  5/24/2016  Boomerang/V-Shaped          Camdenton    MO     USA   NUFORC   \n",
       "\n",
       "   USA  \n",
       "0    1  \n",
       "1    1  \n",
       "2    1  \n",
       "3    1  \n",
       "4    1  "
      ]
     },
     "execution_count": 2,
     "metadata": {},
     "output_type": "execute_result"
    }
   ],
   "source": [
    "# Let's import a data set and peak at it.\n",
    "ufo = pd.read_csv('https://raw.githubusercontent.com/prof-groff/evns462/master/data/ufo.csv')\n",
    "ufo.head(5)"
   ]
  },
  {
   "cell_type": "code",
   "execution_count": 3,
   "metadata": {},
   "outputs": [
    {
     "data": {
      "text/html": [
       "<div>\n",
       "<style>\n",
       "    .dataframe thead tr:only-child th {\n",
       "        text-align: right;\n",
       "    }\n",
       "\n",
       "    .dataframe thead th {\n",
       "        text-align: left;\n",
       "    }\n",
       "\n",
       "    .dataframe tbody tr th {\n",
       "        vertical-align: top;\n",
       "    }\n",
       "</style>\n",
       "<table border=\"1\" class=\"dataframe\">\n",
       "  <thead>\n",
       "    <tr style=\"text-align: right;\">\n",
       "      <th></th>\n",
       "      <th>Event.Date</th>\n",
       "      <th>Shape</th>\n",
       "      <th>Location</th>\n",
       "      <th>State</th>\n",
       "      <th>Country</th>\n",
       "      <th>Source</th>\n",
       "      <th>USA</th>\n",
       "    </tr>\n",
       "  </thead>\n",
       "  <tbody>\n",
       "    <tr>\n",
       "      <th>5</th>\n",
       "      <td>5/21/2016</td>\n",
       "      <td>Boomerang/V-Shaped</td>\n",
       "      <td>Ft. Lauderdale</td>\n",
       "      <td>FL</td>\n",
       "      <td>USA</td>\n",
       "      <td>NUFORC</td>\n",
       "      <td>1</td>\n",
       "    </tr>\n",
       "    <tr>\n",
       "      <th>45</th>\n",
       "      <td>7/9/2016</td>\n",
       "      <td>Cigar/Cylinder</td>\n",
       "      <td>Oldsmar</td>\n",
       "      <td>FL</td>\n",
       "      <td>USA</td>\n",
       "      <td>NUFORC</td>\n",
       "      <td>1</td>\n",
       "    </tr>\n",
       "    <tr>\n",
       "      <th>46</th>\n",
       "      <td>7/9/2016</td>\n",
       "      <td>Cigar/Cylinder</td>\n",
       "      <td>Saint Augustine</td>\n",
       "      <td>FL</td>\n",
       "      <td>USA</td>\n",
       "      <td>NUFORC</td>\n",
       "      <td>1</td>\n",
       "    </tr>\n",
       "    <tr>\n",
       "      <th>52</th>\n",
       "      <td>7/4/2016</td>\n",
       "      <td>Cigar/Cylinder</td>\n",
       "      <td>Orlando</td>\n",
       "      <td>FL</td>\n",
       "      <td>USA</td>\n",
       "      <td>NUFORC</td>\n",
       "      <td>1</td>\n",
       "    </tr>\n",
       "    <tr>\n",
       "      <th>80</th>\n",
       "      <td>5/11/2016</td>\n",
       "      <td>Cigar/Cylinder</td>\n",
       "      <td>Gulf of Mexico</td>\n",
       "      <td>FL</td>\n",
       "      <td>USA</td>\n",
       "      <td>NUFORC</td>\n",
       "      <td>1</td>\n",
       "    </tr>\n",
       "  </tbody>\n",
       "</table>\n",
       "</div>"
      ],
      "text/plain": [
       "   Event.Date                Shape          Location State Country  Source  \\\n",
       "5   5/21/2016  Boomerang/V-Shaped    Ft. Lauderdale    FL     USA   NUFORC   \n",
       "45   7/9/2016      Cigar/Cylinder           Oldsmar    FL     USA   NUFORC   \n",
       "46   7/9/2016      Cigar/Cylinder   Saint Augustine    FL     USA   NUFORC   \n",
       "52   7/4/2016      Cigar/Cylinder           Orlando    FL     USA   NUFORC   \n",
       "80  5/11/2016      Cigar/Cylinder    Gulf of Mexico    FL     USA   NUFORC   \n",
       "\n",
       "    USA  \n",
       "5     1  \n",
       "45    1  \n",
       "46    1  \n",
       "52    1  \n",
       "80    1  "
      ]
     },
     "execution_count": 3,
     "metadata": {},
     "output_type": "execute_result"
    }
   ],
   "source": [
    "# Let's pull out data for HI and AK and peak at it.\n",
    "ufo_bystate = ufo.groupby('State')\n",
    "ufo_HI_AK = pd.concat([ufo_bystate.get_group('FL '), ufo_bystate.get_group('AK ')])\n",
    "ufo_HI_AK.head(5)"
   ]
  },
  {
   "cell_type": "code",
   "execution_count": 4,
   "metadata": {},
   "outputs": [
    {
     "data": {
      "text/html": [
       "<div>\n",
       "<style>\n",
       "    .dataframe thead tr:only-child th {\n",
       "        text-align: right;\n",
       "    }\n",
       "\n",
       "    .dataframe thead th {\n",
       "        text-align: left;\n",
       "    }\n",
       "\n",
       "    .dataframe tbody tr th {\n",
       "        vertical-align: top;\n",
       "    }\n",
       "</style>\n",
       "<table border=\"1\" class=\"dataframe\">\n",
       "  <thead>\n",
       "    <tr style=\"text-align: right;\">\n",
       "      <th></th>\n",
       "      <th>Event.Date</th>\n",
       "      <th>Shape</th>\n",
       "      <th>Location</th>\n",
       "      <th>State</th>\n",
       "      <th>Country</th>\n",
       "      <th>Source</th>\n",
       "      <th>USA</th>\n",
       "    </tr>\n",
       "  </thead>\n",
       "  <tbody>\n",
       "    <tr>\n",
       "      <th>1219</th>\n",
       "      <td>7/18/2016</td>\n",
       "      <td>Lights Only</td>\n",
       "      <td>Lower Haines City</td>\n",
       "      <td>FL</td>\n",
       "      <td>USA</td>\n",
       "      <td>NUFORC</td>\n",
       "      <td>1</td>\n",
       "    </tr>\n",
       "    <tr>\n",
       "      <th>1227</th>\n",
       "      <td>7/16/2016</td>\n",
       "      <td>Lights Only</td>\n",
       "      <td>Land O'Lakes</td>\n",
       "      <td>FL</td>\n",
       "      <td>USA</td>\n",
       "      <td>NUFORC</td>\n",
       "      <td>1</td>\n",
       "    </tr>\n",
       "    <tr>\n",
       "      <th>1231</th>\n",
       "      <td>7/14/2016</td>\n",
       "      <td>Lights Only</td>\n",
       "      <td>Apopka</td>\n",
       "      <td>FL</td>\n",
       "      <td>USA</td>\n",
       "      <td>NUFORC</td>\n",
       "      <td>1</td>\n",
       "    </tr>\n",
       "    <tr>\n",
       "      <th>1254</th>\n",
       "      <td>7/8/2016</td>\n",
       "      <td>Lights Only</td>\n",
       "      <td>Cape Coral</td>\n",
       "      <td>FL</td>\n",
       "      <td>USA</td>\n",
       "      <td>NUFORC</td>\n",
       "      <td>1</td>\n",
       "    </tr>\n",
       "    <tr>\n",
       "      <th>1255</th>\n",
       "      <td>7/8/2016</td>\n",
       "      <td>Lights Only</td>\n",
       "      <td>Lauderhill</td>\n",
       "      <td>FL</td>\n",
       "      <td>USA</td>\n",
       "      <td>NUFORC</td>\n",
       "      <td>1</td>\n",
       "    </tr>\n",
       "  </tbody>\n",
       "</table>\n",
       "</div>"
      ],
      "text/plain": [
       "     Event.Date         Shape            Location State Country  Source  USA\n",
       "1219  7/18/2016  Lights Only   Lower Haines City    FL     USA   NUFORC    1\n",
       "1227  7/16/2016  Lights Only        Land O'Lakes    FL     USA   NUFORC    1\n",
       "1231  7/14/2016  Lights Only              Apopka    FL     USA   NUFORC    1\n",
       "1254   7/8/2016  Lights Only          Cape Coral    FL     USA   NUFORC    1\n",
       "1255   7/8/2016  Lights Only          Lauderhill    FL     USA   NUFORC    1"
      ]
     },
     "execution_count": 4,
     "metadata": {},
     "output_type": "execute_result"
    }
   ],
   "source": [
    "# Let's pull out data for Lights Only, Circle, and Sphere UFO shapes and peak at it.\n",
    "shapes = ['Lights Only ', 'Circle ', 'Orb/Sphere ']\n",
    "ufo_byshape = ufo_HI_AK.groupby('Shape')\n",
    "ufo_final = pd.concat([ufo_byshape.get_group(s) for s in shapes])\n",
    "ufo_final.head(5)"
   ]
  },
  {
   "cell_type": "code",
   "execution_count": 5,
   "metadata": {},
   "outputs": [
    {
     "name": "stdout",
     "output_type": "stream",
     "text": [
      "Shape  Circle   Lights Only   Orb/Sphere \n",
      "State                                    \n",
      "AK           6            10            5\n",
      "FL          41            48           30\n"
     ]
    }
   ],
   "source": [
    "# Let's construct a crosstab (contingency) table.\n",
    "contingency = pd.crosstab(index=ufo_final['State'], columns=ufo_final['Shape'])\n",
    "print(contingency)"
   ]
  },
  {
   "cell_type": "code",
   "execution_count": 6,
   "metadata": {},
   "outputs": [
    {
     "name": "stdout",
     "output_type": "stream",
     "text": [
      "statistics: 0.426518369637 pvalue: 0.807946702557 dof: 2\n",
      "expected counts:\n",
      "[[  7.05   8.7    5.25]\n",
      " [ 39.95  49.3   29.75]]\n"
     ]
    }
   ],
   "source": [
    "# Let's do a chi square test for homogeneity\n",
    "statistic, pvalue, dof, exp = stats.chi2_contingency(contingency)\n",
    "print('statistics:', statistic, 'pvalue:', pvalue, 'dof:', dof)\n",
    "print('expected counts:')\n",
    "print(exp)"
   ]
  },
  {
   "cell_type": "code",
   "execution_count": 7,
   "metadata": {},
   "outputs": [
    {
     "data": {
      "image/png": "[encoded data removed]",
      "text/plain": [
       "<matplotlib.figure.Figure at 0x104c3bd68>"
      ]
     },
     "metadata": {},
     "output_type": "display_data"
    }
   ],
   "source": [
    "# Let's make a barplot to summarize our contingency table\n",
    "contingency.plot.bar(color=['r', 'b', 'g'], figsize=(10,6))\n",
    "plt.ylabel('Number of UFOs', fontsize=14)\n",
    "plt.xlabel('State', fontsize=14)\n",
    "plt.yticks(fontsize=12)\n",
    "plt.xticks(fontsize=12)\n",
    "plt.legend(fontsize=12)\n",
    "plt.savefig('my_bars.png',dpi=100)\n",
    "plt.show()"
   ]
  },
  {
   "cell_type": "code",
   "execution_count": 8,
   "metadata": {},
   "outputs": [
    {
     "data": {
      "image/png": "[encoded data removed]",
      "text/plain": [
       "<matplotlib.figure.Figure at 0x1a13772b38>"
      ]
     },
     "metadata": {},
     "output_type": "display_data"
    }
   ],
   "source": [
    "# In Python you can do amazing things. Here is a heatmap of the contingency table made using seaborn\n",
    "import seaborn as sns\n",
    "sns.heatmap(contingency, annot=True, cmap=\"YlGnBu\")\n",
    "plt.show()"
   ]
  },
  {
   "cell_type": "code",
   "execution_count": null,
   "metadata": {
    "collapsed": true
   },
   "outputs": [],
   "source": []
  }
 ],
 "metadata": {
  "kernelspec": {
   "display_name": "Python 3",
   "language": "python",
   "name": "python3"
  },
  "language_info": {
   "codemirror_mode": {
    "name": "ipython",
    "version": 3
   },
   "file_extension": ".py",
   "mimetype": "text/x-python",
   "name": "python",
   "nbconvert_exporter": "python",
   "pygments_lexer": "ipython3",
   "version": "3.6.3"
  }
 },
 "nbformat": 4,
 "nbformat_minor": 2
}
