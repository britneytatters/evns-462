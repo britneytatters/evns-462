{
 "cells": [
  {
   "cell_type": "markdown",
   "metadata": {},
   "source": [
    "### Calculating 95% Confidence Intervals for Correlation Coefficients (r) and Coefficients of Determination (r<sup>2</sup>)\n",
    "\n",
    "In order to calculate confidence intervals on r and r<sup>2</sup> you do what is called a Fisher r-to-z transformation, find the confidence intervals of the resulting z values, then transform these back into intervals on r. "
   ]
  },
  {
   "cell_type": "code",
   "execution_count": 1,
   "metadata": {
    "collapsed": true
   },
   "outputs": [],
   "source": [
    "import numpy as np"
   ]
  },
  {
   "cell_type": "code",
   "execution_count": 2,
   "metadata": {},
   "outputs": [],
   "source": [
    "# input your value for r and sample size n\n",
    "r = 0.4 # pearson's correlation coefficient\n",
    "n = 100 # sample size, number of data points plotted \n",
    "z_critical = 1.96 # for 95% confidence interval"
   ]
  },
  {
   "cell_type": "code",
   "execution_count": 3,
   "metadata": {
    "collapsed": true
   },
   "outputs": [],
   "source": [
    "# step 1 - convert r to z\n",
    "z = 0.5*np.log((1+r)/(1-r))\n",
    "SE = np.sqrt(1/(n-3))"
   ]
  },
  {
   "cell_type": "code",
   "execution_count": 4,
   "metadata": {},
   "outputs": [],
   "source": [
    "# step 2 - calculate z_max and z_min\n",
    "z_min = z-z_critical*SE\n",
    "z_max = z+z_critical*SE"
   ]
  },
  {
   "cell_type": "code",
   "execution_count": 5,
   "metadata": {},
   "outputs": [],
   "source": [
    "# step 3 - convert z_max and z_min back to r_max and r_min\n",
    "r_min = (np.exp(2*z_min)-1)/(np.exp(2*z_min)+1)\n",
    "r_max = (np.exp(2*z_max)-1)/(np.exp(2*z_max)+1)"
   ]
  },
  {
   "cell_type": "code",
   "execution_count": 6,
   "metadata": {},
   "outputs": [
    {
     "name": "stdout",
     "output_type": "stream",
     "text": [
      "r =  0.4 , 95% CI [ 0.220937096755 ,  0.552975122681 ]\n",
      "r^2 =  0.16000000000000003 , 95% CI [ 0.0488132007227 ,  0.305781486304 ]\n"
     ]
    }
   ],
   "source": [
    "# print out the confidence intervals - round these to two/three decimals\n",
    "print(\"r = \", r, \", 95% CI [\", r_min, \", \", r_max, \"]\")\n",
    "print(\"r^2 = \", r**2, \", 95% CI [\", r_min**2, \", \", r_max**2, \"]\")\n"
   ]
  },
  {
   "cell_type": "code",
   "execution_count": null,
   "metadata": {
    "collapsed": true
   },
   "outputs": [],
   "source": []
  }
 ],
 "metadata": {
  "kernelspec": {
   "display_name": "Python 3",
   "language": "python",
   "name": "python3"
  },
  "language_info": {
   "codemirror_mode": {
    "name": "ipython",
    "version": 3
   },
   "file_extension": ".py",
   "mimetype": "text/x-python",
   "name": "python",
   "nbconvert_exporter": "python",
   "pygments_lexer": "ipython3",
   "version": "3.6.3"
  }
 },
 "nbformat": 4,
 "nbformat_minor": 2
}
