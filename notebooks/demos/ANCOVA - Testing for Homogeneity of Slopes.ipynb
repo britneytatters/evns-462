{
 "cells": [
  {
   "cell_type": "markdown",
   "metadata": {},
   "source": [
    "## Performing ANCOVA\n",
    "This notebook demonstrates how to perform ANCOVA analysis (like ANOVA and linear regression at once). The example data shows a predictor (x) and two responses (y1, y2) variables for two different groups (treatment or control)."
   ]
  },
  {
   "cell_type": "code",
   "execution_count": 1,
   "metadata": {},
   "outputs": [],
   "source": [
    "import pandas as pd\n",
    "import matplotlib.pyplot as plt"
   ]
  },
  {
   "cell_type": "code",
   "execution_count": 2,
   "metadata": {},
   "outputs": [
    {
     "data": {
      "text/html": [
       "<div>\n",
       "<style scoped>\n",
       "    .dataframe tbody tr th:only-of-type {\n",
       "        vertical-align: middle;\n",
       "    }\n",
       "\n",
       "    .dataframe tbody tr th {\n",
       "        vertical-align: top;\n",
       "    }\n",
       "\n",
       "    .dataframe thead th {\n",
       "        text-align: right;\n",
       "    }\n",
       "</style>\n",
       "<table border=\"1\" class=\"dataframe\">\n",
       "  <thead>\n",
       "    <tr style=\"text-align: right;\">\n",
       "      <th></th>\n",
       "      <th>x</th>\n",
       "      <th>y1</th>\n",
       "      <th>y2</th>\n",
       "      <th>group</th>\n",
       "    </tr>\n",
       "  </thead>\n",
       "  <tbody>\n",
       "    <tr>\n",
       "      <th>0</th>\n",
       "      <td>1</td>\n",
       "      <td>0.5</td>\n",
       "      <td>0.5</td>\n",
       "      <td>control</td>\n",
       "    </tr>\n",
       "    <tr>\n",
       "      <th>1</th>\n",
       "      <td>2</td>\n",
       "      <td>1.1</td>\n",
       "      <td>1.1</td>\n",
       "      <td>control</td>\n",
       "    </tr>\n",
       "    <tr>\n",
       "      <th>2</th>\n",
       "      <td>3</td>\n",
       "      <td>1.4</td>\n",
       "      <td>1.4</td>\n",
       "      <td>control</td>\n",
       "    </tr>\n",
       "    <tr>\n",
       "      <th>3</th>\n",
       "      <td>4</td>\n",
       "      <td>1.9</td>\n",
       "      <td>1.9</td>\n",
       "      <td>control</td>\n",
       "    </tr>\n",
       "    <tr>\n",
       "      <th>4</th>\n",
       "      <td>5</td>\n",
       "      <td>2.6</td>\n",
       "      <td>2.6</td>\n",
       "      <td>control</td>\n",
       "    </tr>\n",
       "    <tr>\n",
       "      <th>5</th>\n",
       "      <td>6</td>\n",
       "      <td>3.1</td>\n",
       "      <td>3.1</td>\n",
       "      <td>control</td>\n",
       "    </tr>\n",
       "    <tr>\n",
       "      <th>6</th>\n",
       "      <td>1</td>\n",
       "      <td>0.9</td>\n",
       "      <td>0.9</td>\n",
       "      <td>treatment</td>\n",
       "    </tr>\n",
       "    <tr>\n",
       "      <th>7</th>\n",
       "      <td>2</td>\n",
       "      <td>1.9</td>\n",
       "      <td>1.4</td>\n",
       "      <td>treatment</td>\n",
       "    </tr>\n",
       "    <tr>\n",
       "      <th>8</th>\n",
       "      <td>3</td>\n",
       "      <td>3.2</td>\n",
       "      <td>2.1</td>\n",
       "      <td>treatment</td>\n",
       "    </tr>\n",
       "    <tr>\n",
       "      <th>9</th>\n",
       "      <td>4</td>\n",
       "      <td>4.1</td>\n",
       "      <td>2.4</td>\n",
       "      <td>treatment</td>\n",
       "    </tr>\n",
       "    <tr>\n",
       "      <th>10</th>\n",
       "      <td>5</td>\n",
       "      <td>4.9</td>\n",
       "      <td>2.9</td>\n",
       "      <td>treatment</td>\n",
       "    </tr>\n",
       "    <tr>\n",
       "      <th>11</th>\n",
       "      <td>6</td>\n",
       "      <td>5.2</td>\n",
       "      <td>3.6</td>\n",
       "      <td>treatment</td>\n",
       "    </tr>\n",
       "  </tbody>\n",
       "</table>\n",
       "</div>"
      ],
      "text/plain": [
       "    x   y1   y2      group\n",
       "0   1  0.5  0.5    control\n",
       "1   2  1.1  1.1    control\n",
       "2   3  1.4  1.4    control\n",
       "3   4  1.9  1.9    control\n",
       "4   5  2.6  2.6    control\n",
       "5   6  3.1  3.1    control\n",
       "6   1  0.9  0.9  treatment\n",
       "7   2  1.9  1.4  treatment\n",
       "8   3  3.2  2.1  treatment\n",
       "9   4  4.1  2.4  treatment\n",
       "10  5  4.9  2.9  treatment\n",
       "11  6  5.2  3.6  treatment"
      ]
     },
     "execution_count": 2,
     "metadata": {},
     "output_type": "execute_result"
    }
   ],
   "source": [
    "dataframe = pd.DataFrame({'x': [1, 2, 3, 4, 5, 6, 1, 2, 3, 4, 5, 6], 'y1': [0.5, 1.1, 1.4, 1.9, 2.6, 3.1, 0.9, 1.9, 3.2, 4.1, 4.9, 5.2],\n",
    "                          'y2': [0.5, 1.1, 1.4, 1.9, 2.6, 3.1, 0.9, 1.4, 2.1, 2.4, 2.9, 3.6], 'group': ['control']*6 + ['treatment']*6})\n",
    "dataframe"
   ]
  },
  {
   "cell_type": "code",
   "execution_count": 3,
   "metadata": {},
   "outputs": [
    {
     "data": {
      "image/png": "[encoded data removed]",
      "text/plain": [
       "<Figure size 432x288 with 1 Axes>"
      ]
     },
     "metadata": {
      "needs_background": "light"
     },
     "output_type": "display_data"
    }
   ],
   "source": [
    "# let's plot y2 vs x\n",
    "control = dataframe.group=='control'\n",
    "treatment = dataframe.group=='treatment'\n",
    "plt.scatter(dataframe.x[control],dataframe.y2[control],color='r')\n",
    "plt.scatter(dataframe.x[treatment],dataframe.y2[treatment],color='b')\n",
    "plt.xlabel('x')\n",
    "plt.ylabel('y2')\n",
    "plt.legend(['control','treatment'])\n",
    "plt.show()"
   ]
  },
  {
   "cell_type": "code",
   "execution_count": 4,
   "metadata": {},
   "outputs": [],
   "source": [
    "# notice that the two groups look like they have the same slope but different y-intercepts.\n",
    "# let's test the null hypothesis that the treatement has a different y-interept than the control."
   ]
  },
  {
   "cell_type": "code",
   "execution_count": 5,
   "metadata": {},
   "outputs": [
    {
     "name": "stdout",
     "output_type": "stream",
     "text": [
      "                            OLS Regression Results                            \n",
      "==============================================================================\n",
      "Dep. Variable:                     y2   R-squared:                       0.991\n",
      "Model:                            OLS   Adj. R-squared:                  0.988\n",
      "Method:                 Least Squares   F-statistic:                     300.4\n",
      "Date:                Wed, 13 Mar 2019   Prob (F-statistic):           1.47e-08\n",
      "Time:                        16:09:00   Log-Likelihood:                 12.400\n",
      "No. Observations:                  12   AIC:                            -16.80\n",
      "Df Residuals:                       8   BIC:                            -14.86\n",
      "Df Model:                           3                                         \n",
      "Covariance Type:            nonrobust                                         \n",
      "========================================================================================\n",
      "                           coef    std err          t      P>|t|      [0.025      0.975]\n",
      "----------------------------------------------------------------------------------------\n",
      "Intercept               -0.0333      0.098     -0.340      0.743      -0.260       0.193\n",
      "group[T.treatment]       0.4200      0.139      3.025      0.016       0.100       0.740\n",
      "x                        0.5143      0.025     20.403      0.000       0.456       0.572\n",
      "x:group[T.treatment]     0.0086      0.036      0.240      0.816      -0.074       0.091\n",
      "==============================================================================\n",
      "Omnibus:                        1.689   Durbin-Watson:                   2.303\n",
      "Prob(Omnibus):                  0.430   Jarque-Bera (JB):                0.821\n",
      "Skew:                           0.030   Prob(JB):                        0.663\n",
      "Kurtosis:                       1.720   Cond. No.                         24.5\n",
      "==============================================================================\n",
      "\n",
      "Warnings:\n",
      "[1] Standard Errors assume that the covariance matrix of the errors is correctly specified.\n"
     ]
    },
    {
     "name": "stderr",
     "output_type": "stream",
     "text": [
      "C:\\ProgramData\\Anaconda3\\lib\\site-packages\\scipy\\stats\\stats.py:1394: UserWarning: kurtosistest only valid for n>=20 ... continuing anyway, n=12\n",
      "  \"anyway, n=%i\" % int(n))\n"
     ]
    }
   ],
   "source": [
    "from statsmodels.formula.api import ols\n",
    "formula = 'y2 ~ x * group'\n",
    "model = ols(formula, dataframe)\n",
    "fit = model.fit()\n",
    "print(fit.summary())"
   ]
  },
  {
   "cell_type": "code",
   "execution_count": 6,
   "metadata": {},
   "outputs": [],
   "source": [
    "# look at the p-value in the x:group[T.treatment] row. it is very large. This means that there is no statistically \n",
    "# significant difference in the slopes of the two data sets. We accept the null, the slopes are homogeneous.\n",
    "# But, if we look at the group[T.treatment] row we see that there is a statistically significant difference. So\n",
    "# the treatment is always bigger than the control."
   ]
  },
  {
   "cell_type": "code",
   "execution_count": 7,
   "metadata": {},
   "outputs": [],
   "source": [
    "# now let's look at y1 vs x\n",
    "# notice that the two groups look like they have the same y-intercepts but different slopes.\n",
    "# let's test the null hypothesis that the treatement has a different slope than the control."
   ]
  },
  {
   "cell_type": "code",
   "execution_count": 8,
   "metadata": {},
   "outputs": [
    {
     "data": {
      "image/png": "[encoded data removed]",
      "text/plain": [
       "<Figure size 432x288 with 1 Axes>"
      ]
     },
     "metadata": {
      "needs_background": "light"
     },
     "output_type": "display_data"
    }
   ],
   "source": [
    "# let's plot y1 vs x\n",
    "control = dataframe.group=='control'\n",
    "treatment = dataframe.group=='treatment'\n",
    "plt.scatter(dataframe.x[control],dataframe.y1[control],color='r')\n",
    "plt.scatter(dataframe.x[treatment],dataframe.y1[treatment],color='b')\n",
    "plt.xlabel('x')\n",
    "plt.ylabel('y1')\n",
    "plt.legend(['control','treatment'])\n",
    "plt.show()"
   ]
  },
  {
   "cell_type": "code",
   "execution_count": 9,
   "metadata": {},
   "outputs": [
    {
     "name": "stdout",
     "output_type": "stream",
     "text": [
      "                            OLS Regression Results                            \n",
      "==============================================================================\n",
      "Dep. Variable:                     y1   R-squared:                       0.982\n",
      "Model:                            OLS   Adj. R-squared:                  0.976\n",
      "Method:                 Least Squares   F-statistic:                     148.8\n",
      "Date:                Wed, 13 Mar 2019   Prob (F-statistic):           2.35e-07\n",
      "Time:                        16:09:00   Log-Likelihood:                 2.3747\n",
      "No. Observations:                  12   AIC:                             3.251\n",
      "Df Residuals:                       8   BIC:                             5.190\n",
      "Df Model:                           3                                         \n",
      "Covariance Type:            nonrobust                                         \n",
      "========================================================================================\n",
      "                           coef    std err          t      P>|t|      [0.025      0.975]\n",
      "----------------------------------------------------------------------------------------\n",
      "Intercept               -0.0333      0.226     -0.147      0.887      -0.555       0.489\n",
      "group[T.treatment]       0.2600      0.320      0.812      0.440      -0.478       0.998\n",
      "x                        0.5143      0.058      8.848      0.000       0.380       0.648\n",
      "x:group[T.treatment]     0.3829      0.082      4.658      0.002       0.193       0.572\n",
      "==============================================================================\n",
      "Omnibus:                        0.397   Durbin-Watson:                   1.482\n",
      "Prob(Omnibus):                  0.820   Jarque-Bera (JB):                0.378\n",
      "Skew:                          -0.333   Prob(JB):                        0.828\n",
      "Kurtosis:                       2.441   Cond. No.                         24.5\n",
      "==============================================================================\n",
      "\n",
      "Warnings:\n",
      "[1] Standard Errors assume that the covariance matrix of the errors is correctly specified.\n"
     ]
    },
    {
     "name": "stderr",
     "output_type": "stream",
     "text": [
      "C:\\ProgramData\\Anaconda3\\lib\\site-packages\\scipy\\stats\\stats.py:1394: UserWarning: kurtosistest only valid for n>=20 ... continuing anyway, n=12\n",
      "  \"anyway, n=%i\" % int(n))\n"
     ]
    }
   ],
   "source": [
    "from statsmodels.formula.api import ols\n",
    "formula = 'y1 ~ x * group'\n",
    "model = ols(formula, dataframe)\n",
    "fit = model.fit()\n",
    "print(fit.summary())"
   ]
  },
  {
   "cell_type": "code",
   "execution_count": 10,
   "metadata": {},
   "outputs": [],
   "source": [
    "# notice that the p-value for x:group[T.treatment] is less than 0.05 so we reject the null hypothesis and accept the alternative\n",
    "# that the control and treatment data for y1 have different slopes."
   ]
  },
  {
   "cell_type": "code",
   "execution_count": null,
   "metadata": {},
   "outputs": [],
   "source": []
  }
 ],
 "metadata": {
  "kernelspec": {
   "display_name": "Python 3",
   "language": "python",
   "name": "python3"
  },
  "language_info": {
   "codemirror_mode": {
    "name": "ipython",
    "version": 3
   },
   "file_extension": ".py",
   "mimetype": "text/x-python",
   "name": "python",
   "nbconvert_exporter": "python",
   "pygments_lexer": "ipython3",
   "version": "3.7.1"
  }
 },
 "nbformat": 4,
 "nbformat_minor": 2
}
