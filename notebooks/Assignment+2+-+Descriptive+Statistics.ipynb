{
 "cells": [
  {
   "cell_type": "markdown",
   "metadata": {
    "collapsed": true
   },
   "source": [
    "# Overview\n",
    "In this notebook you will calculate a variety of descriptive statistics for a dataset comprised of four-year-old apple tree girth measurements in mm. Complete each cell in the notebook then save the results as an html file to submit for grading. \n",
    "\n",
    "* Run the following cell (shift-enter) to load needed python packages and modules."
   ]
  },
  {
   "cell_type": "code",
   "execution_count": 4,
   "metadata": {
    "collapsed": true
   },
   "outputs": [],
   "source": [
    "import numpy as np\n",
    "import pandas as pd\n",
    "import matplotlib.pyplot as plt\n",
    "import scipy.stats as stats"
   ]
  },
  {
   "cell_type": "markdown",
   "metadata": {},
   "source": [
    "* Load appletrees.csv into a pandas dataframe.\n",
    "* If this was in your library you would use the path `.../library/filename.csv`.\n",
    "* Use the `.head()` method to print out the first 7 rows of the dataframe.\n",
    "* Get the `.shape` (no parentheses) property to see how many rows and columns are in the dataset."
   ]
  },
  {
   "cell_type": "code",
   "execution_count": 5,
   "metadata": {},
   "outputs": [
    {
     "name": "stdout",
     "output_type": "stream",
     "text": [
      "   girth mm\n",
      "0       108\n",
      "1        99\n",
      "2       106\n",
      "3       102\n",
      "4       115\n",
      "5       120\n",
      "6       120\n",
      "shape:  (60, 1)\n"
     ]
    }
   ],
   "source": [
    "# DON'T MODIFY THIS CELL\n",
    "url = \"https://raw.githubusercontent.com/prof-groff/evns462/master/data/appletrees.csv\"\n",
    "appletrees = pd.read_csv(url)\n",
    "print(appletrees.head(7))\n",
    "print(\"shape: \", appletrees.shape)"
   ]
  },
  {
   "cell_type": "markdown",
   "metadata": {},
   "source": [
    "## Questions:\n",
    "\n",
    "How many different apple trees (rows) were sampled for this dataset?\n",
    "\n",
    "What is the measurement scale (or data type) of the girth data?"
   ]
  },
  {
   "cell_type": "markdown",
   "metadata": {},
   "source": [
    "## Measures of Central Tendency \n",
    "* Calculate and print the mean, mode, and median of the apple tree girth sample data.\n",
    "* Make a histogram of this data with axes labels.\n",
    "* Do a Shapiro-Wilk test for normality on the data and print the test statistica and p-value."
   ]
  },
  {
   "cell_type": "code",
   "execution_count": 11,
   "metadata": {},
   "outputs": [],
   "source": [
    "# Hint: You can extract a specific column using dataframe[\"column_name\"].\n",
    "# Hint: The Shapiro-Wilk test for normality is included in the stats module as stats.shapiro(x)"
   ]
  },
  {
   "cell_type": "markdown",
   "metadata": {},
   "source": [
    "## Questions:\n",
    "How does the mean, mode, and median of the the data compare? \n",
    "\n",
    "What does this tell you about the distribution?\n",
    "\n",
    "Does the histogram of the data look normally distriubted? Why or why not?\n",
    "\n",
    "Does the Shapiro-Wilk test support or reject the null hypothesis that the data is normally distributed? This is tricky because a p value less than 0.05 means the null is rejected and the data is NOT normally distributed so you are \"hopeing\" for a large p value.\n"
   ]
  },
  {
   "cell_type": "markdown",
   "metadata": {},
   "source": [
    "## Measures of Variability\n",
    "* Calculate the sample variance and sample standard deviation of the apple tree girth data.\n",
    "* Calculate the standard error of the mean apple tree girth."
   ]
  },
  {
   "cell_type": "code",
   "execution_count": 13,
   "metadata": {},
   "outputs": [],
   "source": [
    "# Hint: The degrees of freedom used in calculating a sample mean is N-1 so use np.std(x,ddof=1)"
   ]
  },
  {
   "cell_type": "markdown",
   "metadata": {},
   "source": [
    "## Questions:\n",
    "What is the meaning of the standard error of the mean?\n",
    "\n",
    "If the number of trees in the sample were 120 instead of 60, how would you expect the standard error of the mean to change?"
   ]
  }
 ],
 "metadata": {
  "kernelspec": {
   "display_name": "Python 3.6",
   "language": "python",
   "name": "python36"
  },
  "language_info": {
   "codemirror_mode": {
    "name": "ipython",
    "version": 3
   },
   "file_extension": ".py",
   "mimetype": "text/x-python",
   "name": "python",
   "nbconvert_exporter": "python",
   "pygments_lexer": "ipython3",
   "version": "3.6.2"
  }
 },
 "nbformat": 4,
 "nbformat_minor": 2
}
