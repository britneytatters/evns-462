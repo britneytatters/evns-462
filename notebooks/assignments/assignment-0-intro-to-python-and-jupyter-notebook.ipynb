{
 "cells": [
  {
   "cell_type": "markdown",
   "metadata": {
    "collapsed": true
   },
   "source": [
    "# Overview\n",
    "I am going to teach you to do data analysis and visualization using Python, which is the programming language most widely used by data scientisits. Most of you have experience using Excel for data analysis. That is great, you may wish to use Excel in this class to create figures and tables for your research project. Some of you may have experience using SPSS for statistical analysis. That is also great. Many researchers use SPSS. However, it is not as flexible as Python and is also very expensive while Python is free. Jupyter Notebook is a web application that allows you to create and share documents that integrate live code written in Python or some other programming language. It is what this assignment was created with. \n",
    "\n",
    "This activity will familiarize you with some basics of Python programming. By the way, this cell is a \"Markdown\" cell, which can contain html, text, and other special markdown tags but can not contain executable code. "
   ]
  },
  {
   "cell_type": "code",
   "execution_count": 1,
   "metadata": {},
   "outputs": [
    {
     "name": "stdout",
     "output_type": "stream",
     "text": [
      "Hello World!\n",
      "10\n"
     ]
    }
   ],
   "source": [
    "# This is a comment, it is preceeded by a hash or pound symbol. Comments are notes that are not executable code. \n",
    "# This cell is a \"Code\" cell. It containns Python code and that is excecuted when the user presses Shift+Enter.\n",
    "\n",
    "# The following assigns the value of 10 to the variable x.\n",
    "x = 10\n",
    "\n",
    "# The following prints the phrase \"Hello world!\" and the value contained in x to the console. Note that the Hello World! message is contained in double quotes. \n",
    "# This means it is a string variable type, not a number. You could use single quotes instead if you would like.\n",
    "print(\"Hello World!\")\n",
    "print(x)\n",
    "\n",
    "# The following assigns the value of x + 5 to the variable y. What value will this be? Print y to the console to confirm your\n",
    "# prediction\n",
    "y = x + 5\n",
    "\n",
    "# TO DO: \n",
    "# 1) print the value of y to the console"
   ]
  },
  {
   "cell_type": "code",
   "execution_count": 2,
   "metadata": {
    "collapsed": true
   },
   "outputs": [],
   "source": [
    "# You can also store arrays of numbers or strings in a list varialbe like this:\n",
    "z = [1.2, 2.3, 3.4, 4.5, 5.6]\n",
    "\n",
    "# ...or a list of lists like this:\n",
    "w = [[1, 2, 3], [4, 5, 6]]\n",
    "\n",
    "# Lists are a natural way to store data but they are not very convienient for calculations. Instead we will usuallu us\n",
    "# numpy arrays which are a lot like matrices. \n",
    "\n",
    "# The following imports the numpy package and assigns its functionality to the name np.\n",
    "import numpy as np\n",
    "\n",
    "# The following converts z to a numpy array.\n",
    "z = np.array(z)\n",
    "\n",
    "# What do the following do? Print the results to the console to find out.\n",
    "a = z + 1\n",
    "b = 3*z\n",
    "\n",
    "# TO DO:\n",
    "# 1) print a and b to the console\n",
    "# 2) create a numpy array with the folowing values in three rows of three: row 1: 9, 6, 3; row 2: 4, 5, 6; row 3: 1, 7, 2\n",
    "# 3) print this numpy array to the console"
   ]
  },
  {
   "cell_type": "code",
   "execution_count": 4,
   "metadata": {},
   "outputs": [
    {
     "name": "stdout",
     "output_type": "stream",
     "text": [
      "   height  width\n",
      "0      10      3\n",
      "1      11      2\n",
      "2       9      4\n",
      "3      12      3\n",
      "4      11      5\n",
      "5      10      2\n",
      "6       7      1\n",
      "7       9      5\n"
     ]
    }
   ],
   "source": [
    "# Another useful Python package is called Pandas. It works with data structures called dataframes that are a lot like spreadsheets\n",
    "# with row indeces and column headings. We will be using dataframes a lot. \n",
    "import pandas as pd\n",
    "\n",
    "# The following creates a dataframe from a data type called a dictionary where each key becomes a column heading and the \n",
    "# associated values become the data values in that column.\n",
    "\n",
    "my_data = {\"height\":[10, 11, 9, 12, 11, 10, 7, 9], \"width\":[3, 2, 4, 3, 5, 2, 1, 5]}\n",
    "my_dataframe = pd.DataFrame(my_data)\n",
    "print(my_dataframe)"
   ]
  },
  {
   "cell_type": "code",
   "execution_count": 11,
   "metadata": {},
   "outputs": [
    {
     "data": {
      "image/png": "[encoded data removed]",
      "text/plain": [
       "<matplotlib.figure.Figure at 0x7f71222d7748>"
      ]
     },
     "metadata": {},
     "output_type": "display_data"
    }
   ],
   "source": [
    "# Let's plot height as a function of width in a scatterplot.\n",
    "# The following line extracts the height column from the dataframe\n",
    "height = my_dataframe[\"height\"]\n",
    "\n",
    "# The matplotlib library allows you to make graphs and plots. The following imports this library as \"plt\"\n",
    "import matplotlib.pyplot as plt\n",
    "\n",
    "# let's plot some data, save the plot as a figure (png file) then show it inline too.\n",
    "plt.scatter([1,2,3],[4,6,9])\n",
    "plt.savefig('my_pigure.png')\n",
    "plt.show()\n",
    "\n",
    "# TO DO:\n",
    "# 1) Write a line of code that extracts the width data column from the dataframe and stores in as a variable called \"width\".\n",
    "# 2) Write some code that plots height as a function of width.\n",
    "# 3) Save this figure as a .png file."
   ]
  },
  {
   "cell_type": "code",
   "execution_count": null,
   "metadata": {
    "collapsed": true
   },
   "outputs": [],
   "source": []
  }
 ],
 "metadata": {
  "kernelspec": {
   "display_name": "Python 3.6",
   "language": "python",
   "name": "python36"
  },
  "language_info": {
   "codemirror_mode": {
    "name": "ipython",
    "version": 3
   },
   "file_extension": ".py",
   "mimetype": "text/x-python",
   "name": "python",
   "nbconvert_exporter": "python",
   "pygments_lexer": "ipython3",
   "version": "3.6.3"
  }
 },
 "nbformat": 4,
 "nbformat_minor": 2
}
