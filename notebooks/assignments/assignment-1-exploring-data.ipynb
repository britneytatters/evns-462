{
 "cells": [
  {
   "cell_type": "markdown",
   "metadata": {
    "collapsed": true
   },
   "source": [
    "# Overview\n",
    "In this notebook you will explore a data set consisting of categorical and numerical information on different kinds of breakfast cereal. Read more about this dataset [here](https://www.kaggle.com/crawford/80-cereals). Complete each cell in the notebook then save the results as an html file to submit for grading. \n",
    "\n",
    "* You can pload `*.csv` files into your library using the `Data > Upload ...` menu. Eventually you will upload your own data this way. But for now you will load data I've posted to GitHub using a URL.\n",
    "* Run the following cell (shift-enter) to load needed python packages and modules."
   ]
  },
  {
   "cell_type": "code",
   "execution_count": 1,
   "metadata": {
    "collapsed": true
   },
   "outputs": [],
   "source": [
    "import numpy as np\n",
    "import pandas as pd\n",
    "import matplotlib.pyplot as plt"
   ]
  },
  {
   "cell_type": "markdown",
   "metadata": {},
   "source": [
    "* Load cereal.csv into a pandas dataframe.\n",
    "* If this was in your library you would use the path `.../library/filename.csv`.\n",
    "* Use the `.head()` method to print out the first 7 rows of the dataframe.\n",
    "* Get the `.shape` (no parentheses) property to see how many rows and columns are in the dataset."
   ]
  },
  {
   "cell_type": "code",
   "execution_count": 22,
   "metadata": {},
   "outputs": [
    {
     "name": "stdout",
     "output_type": "stream",
     "text": [
      "                        name mfr type  calories  protein  fat  sodium  fiber  \\\n",
      "0                  100% Bran   N    C        70        4    1     130   10.0   \n",
      "1          100% Natural Bran   Q    C       120        3    5      15    2.0   \n",
      "2                   All-Bran   K    C        70        4    1     260    9.0   \n",
      "3  All-Bran with Extra Fiber   K    C        50        4    0     140   14.0   \n",
      "4             Almond Delight   R    C       110        2    2     200    1.0   \n",
      "5    Apple Cinnamon Cheerios   G    C       110        2    2     180    1.5   \n",
      "6                Apple Jacks   K    C       110        2    0     125    1.0   \n",
      "\n",
      "   carbo  sugars  potass  vitamins  shelf  weight  cups     rating  \n",
      "0    5.0       6     280        25      3     1.0  0.33  68.402973  \n",
      "1    8.0       8     135         0      3     1.0  1.00  33.983679  \n",
      "2    7.0       5     320        25      3     1.0  0.33  59.425505  \n",
      "3    8.0       0     330        25      3     1.0  0.50  93.704912  \n",
      "4   14.0       8      -1        25      3     1.0  0.75  34.384843  \n",
      "5   10.5      10      70        25      1     1.0  0.75  29.509541  \n",
      "6   11.0      14      30        25      2     1.0  1.00  33.174094  \n",
      "shape:  (77, 16)\n"
     ]
    }
   ],
   "source": [
    "# DON'T MODIFY THIS CELL\n",
    "url = \"https://raw.githubusercontent.com/prof-groff/evns462/master/data/cereal.csv\"\n",
    "cereal = pd.read_csv(url)\n",
    "print(cereal.head(7))\n",
    "print(\"shape: \", cereal.shape)"
   ]
  },
  {
   "cell_type": "markdown",
   "metadata": {},
   "source": [
    "## Questions:\n",
    "\n",
    "How many different cereals (rows) are contained in this dataset?\n",
    "\n",
    "How many different dimension of data (columns) are recoreded for each cereal?\n",
    "\n",
    "Does the row index of a dataframe count as a column?\n",
    "\n",
    "What is the measurement scale (or data type) of the manufacturer data dimension?\n",
    "\n",
    "What is the measurement scale (or data type) of the calories data dimension?\n"
   ]
  },
  {
   "cell_type": "markdown",
   "metadata": {},
   "source": [
    "## Explore Numerical Data \n",
    "* Extract the data for Kellogs cereals from the dataframe and store this as a new variable.\n",
    "* Extract the data for General Mills cereals from the dataframe and store this as a new variable.\n",
    "* Make a histogram of calories per serving for the Kellogs cereals. Don't forget to add axes labels.\n",
    "* Make a histogram of calories per serving for the General Mills cereals. Don't forget to add axes labels."
   ]
  },
  {
   "cell_type": "code",
   "execution_count": 30,
   "metadata": {},
   "outputs": [],
   "source": [
    "# Hint You can extract a specific column using dataframe[\"column_name\"].\n",
    "# Hint: You can extract data with a specific value in a specific column using datafram[dataframe[\"column_name\"]==\"value\"]."
   ]
  },
  {
   "cell_type": "markdown",
   "metadata": {},
   "source": [
    "## Explore Categorical Data\n",
    "* Use a Counter object to find the frequency of each manufacturer in the dataset.\n",
    "* The resulting Counter object is like a python dictionary with key and value pairs.\n",
    "* Make a bar plot to display the frequency of manufacturers data. Don't forget to add axes labels."
   ]
  },
  {
   "cell_type": "code",
   "execution_count": 37,
   "metadata": {
    "collapsed": true
   },
   "outputs": [],
   "source": [
    "import collections # so I can use a handly method called Counter()\n",
    "# Hint: You can access the keys and values from a dictionary using dict.keys() and dict.values()"
   ]
  }
 ],
 "metadata": {
  "kernelspec": {
   "display_name": "Python 3.6",
   "language": "python",
   "name": "python36"
  },
  "language_info": {
   "codemirror_mode": {
    "name": "ipython",
    "version": 3
   },
   "file_extension": ".py",
   "mimetype": "text/x-python",
   "name": "python",
   "nbconvert_exporter": "python",
   "pygments_lexer": "ipython3",
   "version": "3.6.2"
  }
 },
 "nbformat": 4,
 "nbformat_minor": 2
}
