{
 "cells": [
  {
   "cell_type": "markdown",
   "metadata": {
    "collapsed": true
   },
   "source": [
    "# Overview\n",
    "In this notebook you will be doing a one-way ANOVA (analysis of variance) and Mann-Whitney Tests. One-way ANOVA allows you to test the null hypothesis that the means of several groups that represent variations across a single factor are equivelent. The alternative hypothesis is that at least one of the group means is not equal to the rest. One-way ANOVA makes the following assumptions:\n",
    "\n",
    "* The data has interval or ratio measurement scales.\n",
    "* The observations in all groups are independent from all other observations.\n",
    "* The data in each group is approximately normally distributed (Shapiro-Wilk Test).\n",
    "* There is homogeneity in variance across all groups (Levene's Test).\n",
    "\n",
    "The Mann-Whitney Test is a non-parametric test for differences between samples. This means it can be employed like an independent samples T-test but on samples that violate the assumpiton of normality. It is a rank test, which means it can be used on interval or ratio data but also on ordinal data. Mann-Whitney allows you to test the null hypothesis that a randomly selected value from one distribution (modeled with sample 1) is just as likely to be less than as greater than a randomly selected value from a second distrubiton (modeled with sample 2). Another way of stating this null hypothesis is that the there is no difference between the distributions the two samples came from. There is a generalization of Mann-Whitney for testing more than two groups like ANOVA called Kruskal–Wallis One-Way ANOVA. Mann-Whitney makes the following assumptions:\n",
    "\n",
    "* The data has ordinal, interval, or ratio measurement scales.\n",
    "* The observations in the groups are independent.\n",
    "\n",
    "#### Run the following cell (shift-enter) to load needed python packages and modules."
   ]
  },
  {
   "cell_type": "code",
   "execution_count": 41,
   "metadata": {},
   "outputs": [],
   "source": [
    "import numpy as np\n",
    "import pandas as pd\n",
    "import matplotlib.pyplot as plt\n",
    "import scipy.stats as stats"
   ]
  },
  {
   "cell_type": "markdown",
   "metadata": {},
   "source": [
    "### Measurements of Extension Growth from Various Apple Tree Root Stocks\n",
    "\n",
    "* Load appleroots.csv into a pandas dataframe.\n",
    "* If this was in your library you would use the path `.../library/filename.csv`.\n",
    "* Use the `.head()` method to print out the first 7 rows of the dataframe.\n",
    "* Get the `.shape` (no parentheses) property to see how many rows and columns are in the dataset.\n",
    "\n",
    "**Source:** S.C. Pearce, University of Kent at Canterbury, England.\n",
    "\n",
    "**Description:** Description: Five types of root-stock were used in an apple orchard grafting experiment. The following data represent the extension growth (cm) after four years. \n",
    "* X1 = extension growth for type I \n",
    "* X2 = extension growth for type II \n",
    "* X3 = extension growth for type III \n",
    "* X4 = extension growth for type IV \n",
    "* X5 = extension growth for type V \n",
    "\n",
    "\n",
    "* H<sub>0</sub>: There is no difference in mean extension growth between the five root-stocks. \n",
    "* H<sub>A</sub>: There is a difference in mean extension growth between the five root-stocks."
   ]
  },
  {
   "cell_type": "code",
   "execution_count": 42,
   "metadata": {},
   "outputs": [
    {
     "name": "stdout",
     "output_type": "stream",
     "text": [
      "  root stock  growth\n",
      "0         X1    2569\n",
      "1         X1    2928\n",
      "2         X1    2865\n",
      "3         X1    3844\n",
      "4         X1    3027\n",
      "shape:  (40, 2)\n"
     ]
    }
   ],
   "source": [
    "# DON'T MODIFY THIS CELL\n",
    "url = \"https://raw.githubusercontent.com/prof-groff/evns462/master/data/appleroots.csv\"\n",
    "apple = pd.read_csv(url)\n",
    "print(apple.head())\n",
    "print(\"shape: \", apple.shape)"
   ]
  },
  {
   "cell_type": "markdown",
   "metadata": {},
   "source": [
    "### Performing a one-way ANOVA on the head formation data to test the null hypothesis. "
   ]
  },
  {
   "cell_type": "code",
   "execution_count": 43,
   "metadata": {},
   "outputs": [
    {
     "data": {
      "text/html": [
       "<div>\n",
       "<style>\n",
       "    .dataframe thead tr:only-child th {\n",
       "        text-align: right;\n",
       "    }\n",
       "\n",
       "    .dataframe thead th {\n",
       "        text-align: left;\n",
       "    }\n",
       "\n",
       "    .dataframe tbody tr th {\n",
       "        vertical-align: top;\n",
       "    }\n",
       "</style>\n",
       "<table border=\"1\" class=\"dataframe\">\n",
       "  <thead>\n",
       "    <tr>\n",
       "      <th></th>\n",
       "      <th colspan=\"8\" halign=\"left\">growth</th>\n",
       "    </tr>\n",
       "    <tr>\n",
       "      <th></th>\n",
       "      <th>count</th>\n",
       "      <th>mean</th>\n",
       "      <th>std</th>\n",
       "      <th>min</th>\n",
       "      <th>25%</th>\n",
       "      <th>50%</th>\n",
       "      <th>75%</th>\n",
       "      <th>max</th>\n",
       "    </tr>\n",
       "    <tr>\n",
       "      <th>root stock</th>\n",
       "      <th></th>\n",
       "      <th></th>\n",
       "      <th></th>\n",
       "      <th></th>\n",
       "      <th></th>\n",
       "      <th></th>\n",
       "      <th></th>\n",
       "      <th></th>\n",
       "    </tr>\n",
       "  </thead>\n",
       "  <tbody>\n",
       "    <tr>\n",
       "      <th>X1</th>\n",
       "      <td>8.0</td>\n",
       "      <td>2977.125</td>\n",
       "      <td>447.985152</td>\n",
       "      <td>2336.0</td>\n",
       "      <td>2791.00</td>\n",
       "      <td>2977.5</td>\n",
       "      <td>3080.50</td>\n",
       "      <td>3844.0</td>\n",
       "    </tr>\n",
       "    <tr>\n",
       "      <th>X2</th>\n",
       "      <td>8.0</td>\n",
       "      <td>3109.125</td>\n",
       "      <td>552.074125</td>\n",
       "      <td>2074.0</td>\n",
       "      <td>2859.25</td>\n",
       "      <td>3198.0</td>\n",
       "      <td>3399.00</td>\n",
       "      <td>3906.0</td>\n",
       "    </tr>\n",
       "    <tr>\n",
       "      <th>X3</th>\n",
       "      <td>8.0</td>\n",
       "      <td>2815.250</td>\n",
       "      <td>392.804841</td>\n",
       "      <td>2315.0</td>\n",
       "      <td>2476.25</td>\n",
       "      <td>2844.0</td>\n",
       "      <td>3121.50</td>\n",
       "      <td>3308.0</td>\n",
       "    </tr>\n",
       "    <tr>\n",
       "      <th>X4</th>\n",
       "      <td>8.0</td>\n",
       "      <td>2879.750</td>\n",
       "      <td>512.011928</td>\n",
       "      <td>2199.0</td>\n",
       "      <td>2417.00</td>\n",
       "      <td>2919.5</td>\n",
       "      <td>3297.75</td>\n",
       "      <td>3601.0</td>\n",
       "    </tr>\n",
       "    <tr>\n",
       "      <th>X5</th>\n",
       "      <td>8.0</td>\n",
       "      <td>2557.250</td>\n",
       "      <td>606.694734</td>\n",
       "      <td>1532.0</td>\n",
       "      <td>2267.25</td>\n",
       "      <td>2484.0</td>\n",
       "      <td>3087.25</td>\n",
       "      <td>3366.0</td>\n",
       "    </tr>\n",
       "  </tbody>\n",
       "</table>\n",
       "</div>"
      ],
      "text/plain": [
       "           growth                                                          \\\n",
       "            count      mean         std     min      25%     50%      75%   \n",
       "root stock                                                                  \n",
       "X1            8.0  2977.125  447.985152  2336.0  2791.00  2977.5  3080.50   \n",
       "X2            8.0  3109.125  552.074125  2074.0  2859.25  3198.0  3399.00   \n",
       "X3            8.0  2815.250  392.804841  2315.0  2476.25  2844.0  3121.50   \n",
       "X4            8.0  2879.750  512.011928  2199.0  2417.00  2919.5  3297.75   \n",
       "X5            8.0  2557.250  606.694734  1532.0  2267.25  2484.0  3087.25   \n",
       "\n",
       "                    \n",
       "               max  \n",
       "root stock          \n",
       "X1          3844.0  \n",
       "X2          3906.0  \n",
       "X3          3308.0  \n",
       "X4          3601.0  \n",
       "X5          3366.0  "
      ]
     },
     "execution_count": 43,
     "metadata": {},
     "output_type": "execute_result"
    }
   ],
   "source": [
    "# Here the .groupby() function is used to group the data in the beer dataframe by bottling number.\n",
    "roots = apple.groupby('root stock')\n",
    "\n",
    "# Here the .get_group() function is ued to get the data for the first bottling.\n",
    "X1 = roots.get_group('X1')\n",
    "\n",
    "# TO DO: REPEAT THE ABOVE COMMAND WITH APPROPRIATE MODIFICATIONS TO EXTRACT THE SECOND AND THIRD BOTTLING DATA.\n",
    "\n",
    "\n",
    "# The following prints a collection of descriptive statistics for each group\n",
    "roots.describe()"
   ]
  },
  {
   "cell_type": "markdown",
   "metadata": {},
   "source": [
    "## Questions:\n",
    "\n",
    "How many groups will be compared, that is, how many different root stocks are there?\n",
    "\n",
    "How many degrees of freedom are there between the groups? \n",
    "\n",
    "What is the total number of trees across all groups?\n",
    "\n",
    "How many degrees of freedom are there within the groups?\n",
    "\n",
    "What is the measurement scale (or data type) of the root stock data?\n",
    "\n",
    "What is the F-critical value for this data at an alpha level of 0.05? [F-table](http://web.anglia.ac.uk/numbers/biostatistics/one_way_anova/local_folder/critical_values.html) [F-statisic calculator](https://www.danielsoper.com/statcalc/calculator.aspx?id=4)\n",
    "\n"
   ]
  },
  {
   "cell_type": "code",
   "execution_count": 44,
   "metadata": {
    "scrolled": true
   },
   "outputs": [
    {
     "name": "stdout",
     "output_type": "stream",
     "text": [
      "0.9433721303939819 0.644533634185791\n"
     ]
    }
   ],
   "source": [
    "# USE THIS CELL TO CHECK THAT THE ASSUMPTIONS FOR ONE-WAY ANOVA ARE SATISFIED\n",
    "# Remember, something like X1['growth'] is needed to get the target data from a column in the dataframe.\n",
    "\n",
    "# LET'S DO A SHAPIRO-WILK TEST FOR NORMALITY ON EACH GROUP\n",
    "# Remember that the null hypothesis of this test is that the data IS normaly distributed. So we are 'hoping' for \n",
    "# a p-value greater than 0.05 so we must accept the null hypothesis.\n",
    "# The following does the test for group X1. Repeat the test for the other four groups.\n",
    "statistic, pvalue = stats.shapiro(X1['growth'])\n",
    "print(statistic, pvalue)\n",
    "\n",
    "# NEXT LET'S DO LEVENE'S TEST FOR HOMOSCEDASTICITY (EQUALITY OF VARIANCE IN ALL GROUPS)\n",
    "# We could alternatively do a bartlett test here.\n",
    "# Remember that the null hypothesis of this test is that the data in all groups HAVE uniform variance. So we are\n",
    "# 'hoping' for a p-value greater than 0.05 so we must accept the null hypothesis.\n",
    "# Here is a template for the python function to do this test:\n",
    "# statistic, pvalue = stats.levene(REPLACE THIS WITH DATA FROM YOUR FIVE GROUPS)\n",
    "# print(statistic, pvalue)"
   ]
  },
  {
   "cell_type": "markdown",
   "metadata": {},
   "source": [
    "## Questions:\n",
    "\n",
    "Is the assumption of normality valid for the apple root stock data set?\n",
    "\n",
    "Is the assumption of equal variance valid for the apple root stock data set?"
   ]
  },
  {
   "cell_type": "code",
   "execution_count": 23,
   "metadata": {},
   "outputs": [],
   "source": [
    "# USE THIS CELL TO CARRY OUT ONE-WAY ANOVA ON THE APPLE ROOT STOCK DATA\n",
    "# Here is a template for the python function to do this test:\n",
    "# F, p = stats.f_oneway(REPLACE THIS WITH DATA FROM YOUR FIVE GROUPS)\n",
    "# print(\"F = \", F, \" p = \", p)"
   ]
  },
  {
   "cell_type": "markdown",
   "metadata": {},
   "source": [
    "## Questions:\n",
    "\n",
    "Is the null hypothsis accepted or rejected?"
   ]
  },
  {
   "cell_type": "markdown",
   "metadata": {},
   "source": [
    "### Prevelance of Fox Rabies\n",
    "\n",
    "* Load foxrabies.csv into a pandas dataframe.\n",
    "* If this was in your library you would use the path `.../library/filename.csv`.\n",
    "* Use the `.head()` method to print out the first 7 rows of the dataframe.\n",
    "* Get the `.shape` (no parentheses) property to see how many rows and columns are in the dataset.\n",
    "\n",
    "**Source:** Sayers, B., Medical Informatics, Vol. 2, 11-34\n",
    "\n",
    "**Description:** The data represent the number of cases of red fox rabies for a random sample of 16 areas in each of two different regions of southern Germany.\n",
    "\n",
    "* H<sub>0</sub>: Foxes from region 1 are less or equally likely to have rabies compared to foxes from region 2.\n",
    "* H<sub>A</sub>: Foxes from region 1 are more likely to have rabies compared to foxes from regions 1."
   ]
  },
  {
   "cell_type": "code",
   "execution_count": 45,
   "metadata": {},
   "outputs": [
    {
     "name": "stdout",
     "output_type": "stream",
     "text": [
      "  region  cases\n",
      "0     R1     10\n",
      "1     R1      2\n",
      "2     R1      2\n",
      "3     R1      5\n",
      "4     R1      3\n",
      "5     R1      4\n",
      "6     R1      3\n",
      "shape:  (32, 2)\n"
     ]
    }
   ],
   "source": [
    "# DON'T MODIFY THIS CELL\n",
    "url = \"https://raw.githubusercontent.com/prof-groff/evns462/master/data/foxrabies.csv\"\n",
    "rabies = pd.read_csv(url)\n",
    "print(rabies.head(7))\n",
    "print(\"shape: \", rabies.shape)"
   ]
  },
  {
   "cell_type": "markdown",
   "metadata": {},
   "source": [
    "### Perform a Mann-Whitney Test on the Fox Rabies Data\n",
    "\n",
    "Performing a Shapiro-Wilk Test on the R1 and R2 data will reveal that the data for R2 is not normally distributed. So, we can not perform a independent samples T-test to compare the two groups. Instead perform a Mann-Whitney Rank Test."
   ]
  },
  {
   "cell_type": "code",
   "execution_count": 46,
   "metadata": {},
   "outputs": [],
   "source": [
    "# USE THIS CELL TO PERFORM A MANN-WHITNEY RANK TEST\n",
    "# First you must use .groupby to group the data by region.\n",
    "# Second you must use .get_group() to get the R1 and R2 groups individually\n",
    "# Finally, use the python function templated below to carry out the test.\n",
    "# The alternative can be 'greater', 'less', or 'two-sided' depending on the situation.\n",
    "# statistic, pvalue = stats.mannwhitneyu(GROUP1, GROUP2, alternative=TESTSITUATION)\n",
    "\n"
   ]
  },
  {
   "cell_type": "markdown",
   "metadata": {},
   "source": [
    "## Questions:\n",
    "\n",
    "Based on your results, should you reject or accept the null hypothesis?\n",
    "\n",
    "Are the foxes from region 1 more likely to have rabies than foxers from regions 2?"
   ]
  }
 ],
 "metadata": {
  "kernelspec": {
   "display_name": "Python 3.6",
   "language": "python",
   "name": "python36"
  },
  "language_info": {
   "codemirror_mode": {
    "name": "ipython",
    "version": 3
   },
   "file_extension": ".py",
   "mimetype": "text/x-python",
   "name": "python",
   "nbconvert_exporter": "python",
   "pygments_lexer": "ipython3",
   "version": "3.6.3"
  }
 },
 "nbformat": 4,
 "nbformat_minor": 2
}
