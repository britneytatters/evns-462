{
 "cells": [
  {
   "cell_type": "markdown",
   "metadata": {
    "collapsed": true
   },
   "source": [
    "# Overview\n",
    "In this notebook you will be doing a t-test on rho, the population correlation coefficient, and a chi-square test for independence. A t-test on rho allows you to test the null hypothesis that a correlation coefficient between a predictor and an outcome variable at the populaton level is zero. The alternative hypothesis is that the population correlation coefficient is not zero. This type of test is suitable for situations where you are looking for a correlation between two variables and the data can be summarized by a scatterplot and fit with a line-of-best-fit. In order to do this a t-test on rho, the following must be true:\n",
    "\n",
    "* The data has interval or ratio measurement scales.\n",
    "* The residuals between the observed outcomes and the line-of-best fit must be normally distributed.\n",
    "\n",
    "Chi-square tests are non-parametric test for differences between frequency distributions of categorical/nominal data. This means it can be employed like an one-sample T-test, an independent samples T-test, or a Mann-Whitney test in situations where your data is nominal/categorical instead of ordinal, interval, or ratio. Chi-square goodness-of-fit tests allow you to test the null hypothesis that a the frequency distribution of observed values of nominal data are no different than a known or expected distribution. For example, let's say you surveyed 99 people asking their political affiliation, Democrat, Republican, or Independent. Your null hypotheis is that all three options are equally likely. You would then expect the frequency distribution to be 33 Democrats, 33 Republicans, and 33 Independents. The alternative hypothesis would be that the three party affiliations are not equally likely. Chi-square tests for homogeneity or independence allo you to test the null hypothesis that the frequency distribution of observed values of nominal data is independent of some other nominal dimansion of your data. For example, let's say that in your political affilation survey you also record the gender of those surveyed. Your null hypotheis could be that the frequency distribution of politial affiliation is independent of gender. The alternative would be that the distribution is dependend on gender, that is, there is a significant difference between the distribution of political affiliation between the genders. In order to do a chi-square test you should ensure the following:\n",
    "\n",
    "* The data set is sufficiently large that the expected number of indivduals assigned to each 'class'  of a categorical variable is greater than or equal to 5 at least 80% or the time. \n",
    "\n",
    "#### Run the following cell (shift-enter) to load needed python packages and modules."
   ]
  },
  {
   "cell_type": "code",
   "execution_count": 1,
   "metadata": {},
   "outputs": [],
   "source": [
    "# RUN BUT DON'T MODIFY THIS CELL\n",
    "import numpy as np\n",
    "import pandas as pd\n",
    "import matplotlib.pyplot as plt\n",
    "import scipy.stats as stats"
   ]
  },
  {
   "cell_type": "markdown",
   "metadata": {},
   "source": [
    "### Data for 70+ Cereals \n",
    "\n",
    "* Load cereal.csv into a pandas dataframe.\n",
    "* If this was in your library you would use the path `.../library/filename.csv`.\n",
    "* Use the `.head()` method to print out the first 7 rows of the dataframe.\n",
    "* Get the `.shape` (no parentheses) property to see how many rows and columns are in the dataset.\n",
    "\n",
    "**Source:** dowloaded 12/18/2017 from the Kaggle public dataset repository. Credited to Chris Crawford\n",
    "\n",
    "**Description:** Nominal/categorical and ratio/interval data for 70+ different cereals.\n"
   ]
  },
  {
   "cell_type": "code",
   "execution_count": 2,
   "metadata": {},
   "outputs": [
    {
     "name": "stdout",
     "output_type": "stream",
     "text": [
      "                        name mfr type  calories  protein  fat  sodium  fiber  \\\n",
      "0                  100% Bran   N    C        70        4    1     130   10.0   \n",
      "1          100% Natural Bran   Q    C       120        3    5      15    2.0   \n",
      "2                   All-Bran   K    C        70        4    1     260    9.0   \n",
      "3  All-Bran with Extra Fiber   K    C        50        4    0     140   14.0   \n",
      "4             Almond Delight   R    C       110        2    2     200    1.0   \n",
      "\n",
      "   carbo  sugars  potass  vitamins  shelf  weight  cups     rating  \n",
      "0    5.0       6     280        25      3     1.0  0.33  68.402973  \n",
      "1    8.0       8     135         0      3     1.0  1.00  33.983679  \n",
      "2    7.0       5     320        25      3     1.0  0.33  59.425505  \n",
      "3    8.0       0     330        25      3     1.0  0.50  93.704912  \n",
      "4   14.0       8      -1        25      3     1.0  0.75  34.384843  \n",
      "shape:  (77, 16)\n"
     ]
    }
   ],
   "source": [
    "# RUN BUT DON'T MODIFY THIS CELL\n",
    "url = \"https://raw.githubusercontent.com/prof-groff/evns462/master/data/cereal.csv\"\n",
    "cereal = pd.read_csv(url)\n",
    "print(cereal.head())\n",
    "print(\"shape: \", cereal.shape)"
   ]
  },
  {
   "cell_type": "markdown",
   "metadata": {},
   "source": [
    "### Is fat content a predictor of calories?\n",
    "\n",
    "In the following cell:\n",
    "\n",
    "* Extract fat and calories data columns and store as x and y, respectively.\n",
    "* Make a scatter plot of calories (y-axis) as a function of fat (x-axis).\n",
    "* Fit the data with a line of best fit. \n",
    "* Do a T-test on rho to test the following null hypothesis.\n",
    "\n",
    "\n",
    "H<sub>0</sub>: &rho; = 0 at &alpha; = 0.05<br>\n",
    "H<sub>A</sub>: &rho; not equal to 0."
   ]
  },
  {
   "cell_type": "code",
   "execution_count": 3,
   "metadata": {},
   "outputs": [],
   "source": [
    "# import tools to build linear models and find a line-of-best-fit\n",
    "from sklearn import linear_model\n",
    "\n",
    "# create a linear regression object to use to build the linear model\n",
    "regr = linear_model.LinearRegression()\n",
    "\n",
    "# pull out the 'fat' column and store is as a variable called x\n",
    "x = cereal['fat']\n",
    "x = x.values.reshape(-1,1) # this is needed to reshape x so it works with LinearRegression()\n",
    "\n",
    "# TODO: UNCOMMENT AND COMPLETE THE FOLLOWING LINES OF CODE TO PULL OUT THE 'CALORIES' COLUMN \n",
    "# AND STORE IT AS Y THEN, RESHAPE Y.\n",
    "\n",
    "# y = \n",
    "# y = \n",
    "\n",
    "# TODO: UNCOMMENT AND COMPLETE THE FOLLOWING LINE OF CODE TO USE THE regr.fit() METHOD TO FIT A \n",
    "# LINE-OF-BEST-FIT TO THE X AND Y DATA.\n",
    "\n",
    "# regr.fit()\n",
    "\n",
    "# TO DO: UNCOMMENT AND COMPLETE THE FOLLOWING LINES OF CODE THAT TAKE TWO X VALUES, 0 AND 5, AND FINDS\n",
    "# THE CORRESPONDING Y VALUES ACCORDING TO THE EQUAITON FOR THE LINE OF BEST FIT Y=MX+B USING\n",
    "# THE regr.predict() METHOD. FINDING THESE TWO POINTS WILL ALLOW US TO DRAW THE LINE-OF-BEST-FIT BECAUSE\n",
    "# ALL YOU NEED ARE TWO POINTS, (X1,Y1) AND (X2,Y2), TO DRAW A LINE.\n",
    "\n",
    "# x_fit = \n",
    "# y_fit = \n",
    "\n",
    "\n",
    "# TO DO: UNCOMMENT AND COMPLETE THE FOLLOWING LINES OF CODE TO MAKE A SCATTER PLOT OF THE\n",
    "# DATA AND SHOW THE LINE-OF-BEST-FIT TOO.\n",
    "\n",
    "# plt.scatter()\n",
    "# plt.xlabel()\n",
    "# plt.ylabel()\n",
    "# plt.plot()\n",
    "# plt.show()\n",
    "\n",
    "# TO DO: UNCOMMENT AND COMPLETE THE FOLLOWING LINES OF CODE TO CALCULATE THE COEFFICIENT OF \n",
    "# DETERMINATION (r^2) USING THE regr.score() METHOD AND THE CORRELATION COEFFICIENT (r) BY\n",
    "# TAKING THE SQUARE ROOT OF THIS RESULT.\n",
    "# PRINT BOTH r^2 AND r TO THE CONSOLE USING print() COMMANDS\n",
    "\n",
    "# rsqr = \n",
    "# r = \n",
    "\n",
    "# TO DO: UNCOMMENT AND COMPLETE THE FOLLOWING TO USING THE BUILT IN PYTHONG FUNCTION\n",
    "# stats.pearsonr() TO CALCULATE r AND ITS CORRESPONDING p-value. PRINT BOTH OF THESE VALUES\n",
    "# TO THE CONSOLE USING A print() COMMAND\n",
    "\n",
    "# r, pvalue = "
   ]
  },
  {
   "cell_type": "markdown",
   "metadata": {},
   "source": [
    "## Questions:\n",
    "\n",
    "Is the null hypothsis accepted or rejected, that is, is the population correlation coefficient &rho; statistically equal to zero or is it non-zero meaning there is a coorelation between the x and y data?\n",
    "\n"
   ]
  },
  {
   "cell_type": "markdown",
   "metadata": {},
   "source": [
    "### Do certain brands of cereal get better shelf placement?\n",
    "\n",
    "Let's take a look at Kelloggs and General Mills cereals and see if one or the other gets better shelf placement. \n",
    "\n",
    "* H<sub>0</sub>: Shelf placement is independent of cereal brand.\n",
    "* H<sub>A</sub>: Shelf placement is not independent of cereal brand."
   ]
  },
  {
   "cell_type": "code",
   "execution_count": 4,
   "metadata": {},
   "outputs": [],
   "source": [
    "# The following line of code uses the .isin() method to pull out all rows of the cereal dataframe\n",
    "# that have either K or G in the 'mfr' column \n",
    "k_gm = cereal[cereal['mfr'].isin(('K','G'))]\n",
    "\n",
    "# TO DO: UNCOMMENT AND COMPLETE THE FOLLOWING TWO LINES OF CODE THAT ACCOMPLISH EXACTLY THE SAME \n",
    "# END AS THE ABOVE LINE OF CODE BUT USES THE .groupby AND .get_group() METHODS INSTEAD.\n",
    "\n",
    "# cereal_by_mfr = cereal.groupby()\n",
    "# K_GM = pd.concat([cereal_by_mfr.get_group(), cereal_by_mfr.get_group()])\n",
    "\n",
    "# TO DO: UNCOMMENT AND COMPLETE THE FOLLOWING LINE OF CODE THAT USES THE pd.crosstab() FUNCTION\n",
    "# TO CONTRUCT A CONTINGENCY TABLE WITH A ROW FOR EACH MANUFACTUERER (K AND G) AND A COLUMN FOR EACH\n",
    "# SHELF PLACEMENT (1, 2, AND 3). THEN USE THE PRINT COMMAND TO PRINT THIS TABLE TO THE CONSOLE\n",
    "\n",
    "# table = \n",
    "\n",
    "# TO DO: UNCOMMENT AND COMPLETE THE FOLLOWING LINE OF CODE THAT USES THE stats.chi2_contingency()\n",
    "# FUNCTION TO TEST THE NULL HYPOTHESIS ABOVE. PRINT THE TEST STATISTICS AND THE COORESPONDING P-VALUE\n",
    "# TO THE CONSOLE\n",
    "\n",
    "# statistic, pvalue, dof, exp = "
   ]
  },
  {
   "cell_type": "markdown",
   "metadata": {},
   "source": [
    "## Questions:\n",
    "\n",
    "Based on your results, should you reject or accept the null hypothesis, that is, is shelf placement independent of the cereal brand being Kelloggs or General Mills?"
   ]
  },
  {
   "cell_type": "code",
   "execution_count": null,
   "metadata": {},
   "outputs": [],
   "source": []
  }
 ],
 "metadata": {
  "kernelspec": {
   "display_name": "Python 3.6",
   "language": "python",
   "name": "python36"
  },
  "language_info": {
   "codemirror_mode": {
    "name": "ipython",
    "version": 3
   },
   "file_extension": ".py",
   "mimetype": "text/x-python",
   "name": "python",
   "nbconvert_exporter": "python",
   "pygments_lexer": "ipython3",
   "version": "3.6.3"
  }
 },
 "nbformat": 4,
 "nbformat_minor": 2
}
