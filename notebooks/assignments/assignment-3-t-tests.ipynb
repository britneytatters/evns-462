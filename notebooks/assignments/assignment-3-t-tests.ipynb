{
 "cells": [
  {
   "cell_type": "markdown",
   "metadata": {
    "collapsed": true
   },
   "source": [
    "# Overview\n",
    "In this notebook you will be doing t-tests for a variety of data sets. You will have to consider the makeup of the data and the hypotheses presented to determine the correct t-test to perform. \n",
    "\n",
    "* Run the following cell (shift-enter) to load needed python packages and modules."
   ]
  },
  {
   "cell_type": "code",
   "execution_count": 2,
   "metadata": {},
   "outputs": [],
   "source": [
    "import numpy as np\n",
    "import pandas as pd\n",
    "import matplotlib.pyplot as plt\n",
    "import scipy.stats as stats"
   ]
  },
  {
   "cell_type": "markdown",
   "metadata": {},
   "source": [
    "### Shoshoni Art and the Golden Ratio\n",
    "\n",
    "* Load shoshoni.csv into a pandas dataframe.\n",
    "* If this was in your library you would use the path `.../library/filename.csv`.\n",
    "* Use the `.head()` method to print out the first 7 rows of the dataframe.\n",
    "* Get the `.shape` (no parentheses) property to see how many rows and columns are in the dataset.\n",
    "\n",
    "**Source:** Dubois, Cora (ed.) (1960). Lowie's Selected Papers in Anthropology. University of California Press, Berkeley.\n",
    "\n",
    "**Description:** The data are width-to-length ratios of beaded rectangles used by the Shoshoni Indians of America to decorate their leather goods. One might ask whether the golden rectangle (for which the width-to-length ratio is 0.618) can be considered an aesthetic standard for the Shoshonis just as it was for the Greeks and the Egyptians.\n",
    "\n",
    "* H<sub>0</sub>: There is no difference between the width-to-length ratio of Shoshoni beaded rectangles and the golden ratio, x_bar = &mu; were &mu; = 0.618\n",
    "* H<sub>A</sub>: There is a difference between the width-to-length ratio of Shoshoni beeded rectangles and the golden ratio, x_bar != (not equal) &mu; where &mu; = 0.618."
   ]
  },
  {
   "cell_type": "code",
   "execution_count": 4,
   "metadata": {},
   "outputs": [
    {
     "name": "stdout",
     "output_type": "stream",
     "text": [
      "   ratio\n",
      "0  0.693\n",
      "1  0.662\n",
      "2  0.690\n",
      "3  0.606\n",
      "4  0.570\n",
      "5  0.749\n",
      "6  0.672\n",
      "shape:  (20, 1)\n"
     ]
    }
   ],
   "source": [
    "# DON'T MODIFY THIS CELL\n",
    "url = \"https://raw.githubusercontent.com/prof-groff/evns462/master/data/shoshoni.csv\"\n",
    "shoshoni = pd.read_csv(url)\n",
    "print(shoshoni.head(7))\n",
    "print(\"shape: \", shoshoni.shape)"
   ]
  },
  {
   "cell_type": "markdown",
   "metadata": {},
   "source": [
    "## Questions:\n",
    "\n",
    "How many degrees of freedom does the shoshoni data set contain?\n",
    "\n",
    "What is the measurement scale (or data type) of the ratio data?\n",
    "\n",
    "What kind of t-test should you perform on the ratio data to test the null hypothesis?\n",
    "\n",
    "Should you perform a one-tail or two-tail t-test based on the hypotheses given?\n",
    "\n",
    "What is the t-critical value for this data at an alpha level of 0.05? [t-table](http://www.sjsu.edu/faculty/gerstman/StatPrimer/t-table.pdf) [t-statisic calculator](https://www.danielsoper.com/statcalc/calculator.aspx?id=10)\n",
    "\n"
   ]
  },
  {
   "cell_type": "code",
   "execution_count": 11,
   "metadata": {
    "scrolled": true
   },
   "outputs": [
    {
     "name": "stdout",
     "output_type": "stream",
     "text": [
      "0.8284037113189697 0.0023661439772695303\n"
     ]
    },
    {
     "data": {
      "image/png": "[encoded data removed]",
      "text/plain": [
       "<matplotlib.figure.Figure at 0x7f5bdfe4ac88>"
      ]
     },
     "metadata": {},
     "output_type": "display_data"
    }
   ],
   "source": [
    "# USE THIS CELL TO PERFORM A T-TEST ON THE SHASHONI DATA\n",
    "\n",
    "# BUT FIRST, LET'S DO A SHAPIRO-WILK TEST FOR NORMALITY\n",
    "statistic, pvalue = stats.shapiro(shoshoni['ratio'])\n",
    "print(statistic, pvalue)\n",
    "\n",
    "# AND LOOK AT THE DISTRIBUTION OF SAMPLE DATA\n",
    "plt.hist(shoshoni['ratio'],bins=21,color='b',alpha=1) # could be more specific with bin edges but this is good enough\n",
    "plt.xlabel('Ratio')\n",
    "plt.ylabel('Frequency')\n",
    "plt.show()\n",
    "\n",
    "# NOTE THAT EVEN THOUGH THE DATA IN THE SAMPLE IS NOT NORMALLY DISTRIBUTED WE WILL STILL US A T-TEST BECAUSE THE SAMPLE SIZE\n",
    "# IS SUFFICIENTLY LARGE TO ASSUME THE CENTRAL LIMIT THEOREM KICKS IN AND THE DISTRIBUTION OF MEANS OF REPEATED SAMPLES\n",
    "# WILL BE NORMALLY DISTRIBUTED.\n",
    "\n",
    "# OKAY, NOW DO THE T-TEST..."
   ]
  },
  {
   "cell_type": "markdown",
   "metadata": {},
   "source": [
    "## Questions:\n",
    "\n",
    "What t-statistic and p-value did your t-test result in?\n",
    "\n",
    "Based on your results, should you reject or accept the null hypothesis?"
   ]
  },
  {
   "cell_type": "markdown",
   "metadata": {},
   "source": [
    "### The Ozone Layer From January to February\n",
    "\n",
    "* Load ozone.csv into a pandas dataframe.\n",
    "* If this was in your library you would use the path `.../library/filename.csv`.\n",
    "* Use the `.head()` method to print out the first 7 rows of the dataframe.\n",
    "* Get the `.shape` (no parentheses) property to see how many rows and columns are in the dataset.\n",
    "\n",
    "**Source:** Laboratorium f_r Atmospharensphysic, Switzerland\n",
    "\n",
    "**Description:** The following pairs the data represent the thickness of the ozone column in Dobson units: one milli-centimeter ozone at standard temperature and pressure.\n",
    "A = monthly mean thickness in January\n",
    "B = monthly mean thickness in February\n",
    "The data are paired by year for a random sample of 15 years.\n",
    "\n",
    "* H<sub>0</sub>: The ozone thickness in February is less than or equal to the thickness in January. \n",
    "* H<sub>A</sub>: The ozone thickness in February is greater than the thickness in January."
   ]
  },
  {
   "cell_type": "code",
   "execution_count": 13,
   "metadata": {},
   "outputs": [
    {
     "name": "stdout",
     "output_type": "stream",
     "text": [
      "   Jan  Feb\n",
      "0  360  365\n",
      "1  324  325\n",
      "2  377  359\n",
      "3  336  352\n",
      "4  383  397\n",
      "5  361  351\n",
      "6  369  367\n",
      "shape:  (15, 2)\n"
     ]
    }
   ],
   "source": [
    "# DON'T MODIFY THIS CELL\n",
    "url = \"https://raw.githubusercontent.com/prof-groff/evns462/master/data/ozone.csv\"\n",
    "ozone = pd.read_csv(url)\n",
    "print(ozone.head(7))\n",
    "print(\"shape: \", ozone.shape)"
   ]
  },
  {
   "cell_type": "markdown",
   "metadata": {},
   "source": [
    "## Questions:\n",
    "\n",
    "Does the ozone data set represent two independent samples or a paired sample. \n",
    "\n",
    "How many degrees of freedom does the ozone data set contain?\n",
    "\n",
    "What is the measurement scale (or data type) of the ozone data?\n",
    "\n",
    "What kind of t-test should you perform on the ozone data to test the null hypothesis?\n",
    "\n",
    "Should you perform a one-tail or two-tail t-test based on the hypotheses given?\n",
    "\n",
    "What is the t-critical value for this data at an alpha level of 0.05? [t-table](http://www.sjsu.edu/faculty/gerstman/StatPrimer/t-table.pdf) [t-statisic calculator](https://www.danielsoper.com/statcalc/calculator.aspx?id=10)\n"
   ]
  },
  {
   "cell_type": "code",
   "execution_count": 29,
   "metadata": {},
   "outputs": [
    {
     "name": "stdout",
     "output_type": "stream",
     "text": [
      "0.9544776678085327 0.597500205039978\n"
     ]
    },
    {
     "data": {
      "image/png": "[encoded data removed]",
      "text/plain": [
       "<matplotlib.figure.Figure at 0x7f5bded5d438>"
      ]
     },
     "metadata": {},
     "output_type": "display_data"
    }
   ],
   "source": [
    "# USE THIS CELL TO PERFORM A T-TEST ON THE OZONE DATA\n",
    "\n",
    "# BUT FIRST, LET'S DO A SHAPIRO-WILK TEST FOR NORMALITY\n",
    "statistic, pvalue = stats.shapiro(ozone['Feb']-ozone['Jan'])\n",
    "print(statistic, pvalue)\n",
    "\n",
    "# AND LOOK AT THE DISTRIBUTION OF SAMPLE DATA\n",
    "plt.hist(ozone['Feb']-ozone['Jan'],bins=5,color='b',alpha=1) # could be more specific with bin edges but this is good enough\n",
    "plt.xlabel('(Ozone Feb. - Ozone Jan.) in Dobson units')\n",
    "plt.ylabel('Frequency')\n",
    "plt.show()\n",
    "\n",
    "# NOTE THAT EVEN THOUGH THE DATA LOOKS NON-NORMAL, THE SHAPIRO-WILK TEST FALLS TO REJECT THE NULL HYPOTHESIS THAT THE DATA IS\n",
    "# NORMALLY DISTRIBUTED. THIS IS GOOD BECAUSE THE SAMPLE SIZE IS SMALL (LESS THAN 30) SO WE MUST HAVE REASON TO BELIEVE THE DATA IS\n",
    "# NORMALLY DISTRIBUTED TO USE A T-TEST.\n",
    "\n",
    "# OKAY, NOW DO THE T-TEST..."
   ]
  },
  {
   "cell_type": "markdown",
   "metadata": {},
   "source": [
    "## Questions:\n",
    "\n",
    "What t-statitsic and p-value did your t-test result in?\n",
    "\n",
    "Based on your results, should you reject or accept the null hypothesis?"
   ]
  },
  {
   "cell_type": "code",
   "execution_count": null,
   "metadata": {},
   "outputs": [],
   "source": []
  }
 ],
 "metadata": {
  "kernelspec": {
   "display_name": "Python 3.6",
   "language": "python",
   "name": "python36"
  },
  "language_info": {
   "codemirror_mode": {
    "name": "ipython",
    "version": 3
   },
   "file_extension": ".py",
   "mimetype": "text/x-python",
   "name": "python",
   "nbconvert_exporter": "python",
   "pygments_lexer": "ipython3",
   "version": "3.6.3"
  }
 },
 "nbformat": 4,
 "nbformat_minor": 2
}
